{
 "cells": [
  {
   "cell_type": "markdown",
   "metadata": {
    "colab_type": "text",
    "id": "TAwuZXfnk2CX"
   },
   "source": [
    "\n",
    "\n",
    "# Predict who will do a Term Deposit"
   ]
  },
  {
   "cell_type": "markdown",
   "metadata": {
    "colab_type": "text",
    "id": "aSG-__Zck2Ca"
   },
   "source": [
    "## Table of Contents\n",
    "* [1. Problem Statement](#1.-Problem-Statement)  \n",
    "* [2. Objective](#2.-Objective) \n",
    "* [3. Import all scientific and visualization packages](#3.-Import-all-scientific-and-visualization-packages)\n",
    "* [4. Loading the datasets](#4.-Loading-the-datasets)\n",
    "    * [4.1 Understand datatypes present in dataframe](#4.1-Understand-datatypes-present-in-dataframe)\n",
    "* [5. Data Visualization](#5.-Data-Visualization)\n",
    "* [6.Prepare the data set](#6.Prepare the data set)\n",
    "    * [6.1 Handle imbalanced data using SMOTE](#6.1-Handle imbalanced data using SMOTE)\n",
    "    * [6.2 Train a Random Forest model before and after scaling the data set](#6.2-Train-a-Random Forest-model before and after scaling the data set)"
   ]
  },
  {
   "cell_type": "markdown",
   "metadata": {
    "colab_type": "text",
    "id": "S5SCAqCtk2Ca"
   },
   "source": [
    "### 1. Problem Statement"
   ]
  },
  {
   "cell_type": "markdown",
   "metadata": {
    "colab_type": "text",
    "id": "KrL2bUm_k2Cb"
   },
   "source": [
    "The dataset gives you information about a marketing campaign of a financial institution in which you will have to analyze in order to find ways to look for future strategies in order to improve future marketing campaigns for the bank.The data set is imbalanced with 4521 instances and 17 columns."
   ]
  },
  {
   "cell_type": "markdown",
   "metadata": {
    "colab_type": "text",
    "id": "c7-hXexmk2Cc"
   },
   "source": [
    " #### The dataset has the following attributes:\n",
    "\n",
    "1 - age (numeric)\n",
    "\n",
    "2 - job : type of job (categorical: \"admin.\",\"unknown\",\"unemployed\",\"management\",\"housemaid\",\"entrepreneur\",\"student\",\n",
    "                                    \"blue-collar\",\"self-employed\",\"retired\",\"technician\",\"services\") \n",
    "\n",
    "3 - marital : marital status (categorical: \"married\",\"divorced\",\"single\"; note: \"divorced\" means divorced or widowed)\n",
    "\n",
    "4 - education (categorical: \"unknown\",\"secondary\",\"primary\",\"tertiary\")\n",
    "\n",
    "5 - default: has credit in default? (binary: \"yes\",\"no\")\n",
    "\n",
    "6 - balance: average yearly balance, in euros (numeric) \n",
    "\n",
    "7 - housing: has housing loan? (binary: \"yes\",\"no\")\n",
    "\n",
    "8 - loan: has personal loan? (binary: \"yes\",\"no\")\n",
    "\n",
    "9 - contact: contact communication type (categorical: \"unknown\",\"telephone\",\"cellular\") \n",
    "\n",
    "10 - day: last contact day of the month (numeric)\n",
    "\n",
    "11 - month: last contact month of year (categorical: \"jan\", \"feb\", \"mar\", ..., \"nov\", \"dec\")\n",
    "\n",
    "12 - duration: last contact duration, in seconds (numeric)\n",
    "\n",
    "13 - campaign: number of contacts performed during this campaign and for this client (numeric, includes last contact)\n",
    "\n",
    "14 - pdays: number of days that passed by after the client was last contacted from a previous campaign (numeric, -1 means client was not previously contacted)\n",
    "  \n",
    "15 - previous: number of contacts performed before this campaign and for this client (numeric)\n",
    "\n",
    "16 - poutcome: outcome of the previous marketing campaign (categorical: \"unknown\",\"other\",\"failure\",\"success\")\n",
    "\n",
    " Response Variable (desired target):__\n",
    "\n",
    "17 - y - has the client subscribed to a __term deposit?__ (binary: \"yes\",\"no\")"
   ]
  },
  {
   "cell_type": "markdown",
   "metadata": {
    "colab_type": "text",
    "id": "6OXzCgM7k2Cd"
   },
   "source": [
    "### 2. Objective"
   ]
  },
  {
   "cell_type": "markdown",
   "metadata": {
    "colab_type": "text",
    "id": "CdJ-iSXgk2Cd"
   },
   "source": [
    "The Objective of this analysis is to Predict who will do a Term Deposit in the Financial Institution"
   ]
  },
  {
   "cell_type": "markdown",
   "metadata": {
    "colab_type": "text",
    "id": "XXqgS7Z_k2Ce"
   },
   "source": [
    "### 3. Import all scientific and visualization packages"
   ]
  },
  {
   "cell_type": "code",
   "execution_count": 0,
   "metadata": {
    "colab": {},
    "colab_type": "code",
    "id": "WuUER6Q3Dj9M"
   },
   "outputs": [],
   "source": [
    "import pandas as pd                                                                                             # package to manipulate dataframe\n",
    "from sklearn.metrics import classification_report,confusion_matrix,accuracy_score,roc_curve,roc_auc_score       # Metrics to evaluate the model\n",
    "import seaborn as sns                                                                                           # Visualization package\n",
    "import matplotlib.pyplot as plt\n",
    "from sklearn.ensemble import RandomForestClassifier                                                             # Random Forest Classifier model\n",
    "from sklearn.svm import SVC                                                                                     # Support Vector Classifier model\n",
    "from sklearn.preprocessing import StandardScaler                                                                # For standardizing the dataset"
   ]
  },
  {
   "cell_type": "markdown",
   "metadata": {
    "colab_type": "text",
    "id": "W1RrfyiOk2Ci"
   },
   "source": [
    "### 4. Loading the dataset"
   ]
  },
  {
   "cell_type": "code",
   "execution_count": 15,
   "metadata": {
    "colab": {
     "base_uri": "https://localhost:8080/",
     "height": 210
    },
    "colab_type": "code",
    "executionInfo": {
     "elapsed": 3145,
     "status": "ok",
     "timestamp": 1565088483420,
     "user": {
      "displayName": "Avinash Beck",
      "photoUrl": "",
      "userId": "14043619463729052163"
     },
     "user_tz": -330
    },
    "id": "QTf56rv7ipsG",
    "outputId": "4b22cfdd-fd93-446c-d2c6-937e16aa490e"
   },
   "outputs": [
    {
     "name": "stdout",
     "output_type": "stream",
     "text": [
      "--2019-08-06 10:48:00--  https://raw.githubusercontent.com/UpXDataScience/FA-Bootcamp/master/Day3/Termdeposit.zip\n",
      "Resolving raw.githubusercontent.com (raw.githubusercontent.com)... 151.101.0.133, 151.101.64.133, 151.101.128.133, ...\n",
      "Connecting to raw.githubusercontent.com (raw.githubusercontent.com)|151.101.0.133|:443... connected.\n",
      "HTTP request sent, awaiting response... 200 OK\n",
      "Length: 65374 (64K) [application/zip]\n",
      "Saving to: ‘Termdeposit.zip.1’\n",
      "\n",
      "\r",
      "Termdeposit.zip.1     0%[                    ]       0  --.-KB/s               \r",
      "Termdeposit.zip.1   100%[===================>]  63.84K  --.-KB/s    in 0.02s   \n",
      "\n",
      "2019-08-06 10:48:00 (2.59 MB/s) - ‘Termdeposit.zip.1’ saved [65374/65374]\n",
      "\n"
     ]
    }
   ],
   "source": [
    "!wget https://raw.githubusercontent.com/UpXDataScience/FA-Bootcamp/master/Day3/Termdeposit.zip"
   ]
  },
  {
   "cell_type": "code",
   "execution_count": 16,
   "metadata": {
    "colab": {
     "base_uri": "https://localhost:8080/",
     "height": 193
    },
    "colab_type": "code",
    "executionInfo": {
     "elapsed": 3046,
     "status": "ok",
     "timestamp": 1565088497452,
     "user": {
      "displayName": "Avinash Beck",
      "photoUrl": "",
      "userId": "14043619463729052163"
     },
     "user_tz": -330
    },
    "id": "AfI2rhRkcmWC",
    "outputId": "72982ed5-1bd0-45a9-9dd4-6a84bff292ed"
   },
   "outputs": [
    {
     "name": "stdout",
     "output_type": "stream",
     "text": [
      "Archive:  Termdeposit.zip.1\n",
      "  inflating: Bank_Term_Deposit_Train.csv  \n",
      "  inflating: Day1_Actual_output.xls  \n",
      "  inflating: Day1_input.xls          \n",
      "  inflating: Day2_Actual_output.xls  \n",
      "  inflating: Day2_input.xls          \n",
      "  inflating: Day3_Actual_output.xls  \n",
      "  inflating: Day3_input.xls          \n",
      "  inflating: Day4_Actual_output.xls  \n",
      "  inflating: Day4_input.xls          \n"
     ]
    }
   ],
   "source": [
    "!unzip Termdeposit.zip"
   ]
  },
  {
   "cell_type": "code",
   "execution_count": 0,
   "metadata": {
    "colab": {},
    "colab_type": "code",
    "id": "5Ed5rAafDj_4"
   },
   "outputs": [],
   "source": [
    "df=pd.read_csv(\"Bank_Term_Deposit_Train.csv\")                                     # Read the dataframe"
   ]
  },
  {
   "cell_type": "code",
   "execution_count": 0,
   "metadata": {
    "colab": {},
    "colab_type": "code",
    "id": "Dd6yvhjosICl"
   },
   "outputs": [],
   "source": [
    "pd.options.display.max_columns=None                                               # Allows us to view all the columns"
   ]
  },
  {
   "cell_type": "code",
   "execution_count": 0,
   "metadata": {
    "colab": {
     "base_uri": "https://localhost:8080/",
     "height": 232
    },
    "colab_type": "code",
    "executionInfo": {
     "elapsed": 745,
     "status": "ok",
     "timestamp": 1565008223000,
     "user": {
      "displayName": "Avinash Beck",
      "photoUrl": "",
      "userId": "14043619463729052163"
     },
     "user_tz": -330
    },
    "id": "dgAHbObFDkCn",
    "outputId": "afc9b71d-d8c1-4454-a8a1-b7fede68c99c"
   },
   "outputs": [
    {
     "data": {
      "text/html": [
       "<div>\n",
       "<style scoped>\n",
       "    .dataframe tbody tr th:only-of-type {\n",
       "        vertical-align: middle;\n",
       "    }\n",
       "\n",
       "    .dataframe tbody tr th {\n",
       "        vertical-align: top;\n",
       "    }\n",
       "\n",
       "    .dataframe thead th {\n",
       "        text-align: right;\n",
       "    }\n",
       "</style>\n",
       "<table border=\"1\" class=\"dataframe\">\n",
       "  <thead>\n",
       "    <tr style=\"text-align: right;\">\n",
       "      <th></th>\n",
       "      <th>Unnamed: 0</th>\n",
       "      <th>age</th>\n",
       "      <th>job</th>\n",
       "      <th>marital</th>\n",
       "      <th>education</th>\n",
       "      <th>default</th>\n",
       "      <th>balance</th>\n",
       "      <th>housing</th>\n",
       "      <th>loan</th>\n",
       "      <th>contact</th>\n",
       "      <th>day</th>\n",
       "      <th>month</th>\n",
       "      <th>duration</th>\n",
       "      <th>campaign</th>\n",
       "      <th>pdays</th>\n",
       "      <th>previous</th>\n",
       "      <th>poutcome</th>\n",
       "      <th>y</th>\n",
       "    </tr>\n",
       "  </thead>\n",
       "  <tbody>\n",
       "    <tr>\n",
       "      <th>0</th>\n",
       "      <td>0</td>\n",
       "      <td>30</td>\n",
       "      <td>unemployed</td>\n",
       "      <td>married</td>\n",
       "      <td>primary</td>\n",
       "      <td>no</td>\n",
       "      <td>1787</td>\n",
       "      <td>no</td>\n",
       "      <td>no</td>\n",
       "      <td>cellular</td>\n",
       "      <td>19</td>\n",
       "      <td>oct</td>\n",
       "      <td>79</td>\n",
       "      <td>1</td>\n",
       "      <td>-1</td>\n",
       "      <td>0</td>\n",
       "      <td>unknown</td>\n",
       "      <td>no</td>\n",
       "    </tr>\n",
       "    <tr>\n",
       "      <th>1</th>\n",
       "      <td>1</td>\n",
       "      <td>33</td>\n",
       "      <td>services</td>\n",
       "      <td>married</td>\n",
       "      <td>secondary</td>\n",
       "      <td>no</td>\n",
       "      <td>4789</td>\n",
       "      <td>yes</td>\n",
       "      <td>yes</td>\n",
       "      <td>cellular</td>\n",
       "      <td>11</td>\n",
       "      <td>may</td>\n",
       "      <td>220</td>\n",
       "      <td>1</td>\n",
       "      <td>339</td>\n",
       "      <td>4</td>\n",
       "      <td>failure</td>\n",
       "      <td>no</td>\n",
       "    </tr>\n",
       "    <tr>\n",
       "      <th>2</th>\n",
       "      <td>2</td>\n",
       "      <td>35</td>\n",
       "      <td>management</td>\n",
       "      <td>single</td>\n",
       "      <td>tertiary</td>\n",
       "      <td>no</td>\n",
       "      <td>1350</td>\n",
       "      <td>yes</td>\n",
       "      <td>no</td>\n",
       "      <td>cellular</td>\n",
       "      <td>16</td>\n",
       "      <td>apr</td>\n",
       "      <td>185</td>\n",
       "      <td>1</td>\n",
       "      <td>330</td>\n",
       "      <td>1</td>\n",
       "      <td>failure</td>\n",
       "      <td>no</td>\n",
       "    </tr>\n",
       "    <tr>\n",
       "      <th>3</th>\n",
       "      <td>3</td>\n",
       "      <td>30</td>\n",
       "      <td>management</td>\n",
       "      <td>married</td>\n",
       "      <td>tertiary</td>\n",
       "      <td>no</td>\n",
       "      <td>1476</td>\n",
       "      <td>yes</td>\n",
       "      <td>yes</td>\n",
       "      <td>unknown</td>\n",
       "      <td>3</td>\n",
       "      <td>jun</td>\n",
       "      <td>199</td>\n",
       "      <td>4</td>\n",
       "      <td>-1</td>\n",
       "      <td>0</td>\n",
       "      <td>unknown</td>\n",
       "      <td>no</td>\n",
       "    </tr>\n",
       "    <tr>\n",
       "      <th>4</th>\n",
       "      <td>4</td>\n",
       "      <td>59</td>\n",
       "      <td>blue-collar</td>\n",
       "      <td>married</td>\n",
       "      <td>secondary</td>\n",
       "      <td>no</td>\n",
       "      <td>0</td>\n",
       "      <td>yes</td>\n",
       "      <td>no</td>\n",
       "      <td>unknown</td>\n",
       "      <td>5</td>\n",
       "      <td>may</td>\n",
       "      <td>226</td>\n",
       "      <td>1</td>\n",
       "      <td>-1</td>\n",
       "      <td>0</td>\n",
       "      <td>unknown</td>\n",
       "      <td>no</td>\n",
       "    </tr>\n",
       "  </tbody>\n",
       "</table>\n",
       "</div>"
      ],
      "text/plain": [
       "   Unnamed: 0  age          job  marital  education default  balance housing  \\\n",
       "0           0   30   unemployed  married    primary      no     1787      no   \n",
       "1           1   33     services  married  secondary      no     4789     yes   \n",
       "2           2   35   management   single   tertiary      no     1350     yes   \n",
       "3           3   30   management  married   tertiary      no     1476     yes   \n",
       "4           4   59  blue-collar  married  secondary      no        0     yes   \n",
       "\n",
       "  loan   contact  day month  duration  campaign  pdays  previous poutcome   y  \n",
       "0   no  cellular   19   oct        79         1     -1         0  unknown  no  \n",
       "1  yes  cellular   11   may       220         1    339         4  failure  no  \n",
       "2   no  cellular   16   apr       185         1    330         1  failure  no  \n",
       "3  yes   unknown    3   jun       199         4     -1         0  unknown  no  \n",
       "4   no   unknown    5   may       226         1     -1         0  unknown  no  "
      ]
     },
     "execution_count": 4,
     "metadata": {
      "tags": []
     },
     "output_type": "execute_result"
    }
   ],
   "source": [
    "# Checking the first 5 rows of the dataframe\n",
    "\n",
    "df.head()"
   ]
  },
  {
   "cell_type": "code",
   "execution_count": 0,
   "metadata": {
    "colab": {
     "base_uri": "https://localhost:8080/",
     "height": 34
    },
    "colab_type": "code",
    "executionInfo": {
     "elapsed": 650,
     "status": "ok",
     "timestamp": 1565008224238,
     "user": {
      "displayName": "Avinash Beck",
      "photoUrl": "",
      "userId": "14043619463729052163"
     },
     "user_tz": -330
    },
    "id": "3B8-3UwgDkE4",
    "outputId": "a9f2bd46-4acf-411b-eebb-877b1ad7b18b"
   },
   "outputs": [
    {
     "data": {
      "text/plain": [
       "(4413, 18)"
      ]
     },
     "execution_count": 5,
     "metadata": {
      "tags": []
     },
     "output_type": "execute_result"
    }
   ],
   "source": [
    "df.shape                                                                          # Checking the number of rows and columns"
   ]
  },
  {
   "cell_type": "code",
   "execution_count": 0,
   "metadata": {
    "colab": {},
    "colab_type": "code",
    "id": "928QugCOk2Cv"
   },
   "outputs": [],
   "source": [
    "del df['Unnamed: 0']                                                              # Removing the first column"
   ]
  },
  {
   "cell_type": "markdown",
   "metadata": {
    "colab_type": "text",
    "id": "eiq60u7Zk2Cy"
   },
   "source": [
    "#### 4.1 Understand datatypes present in dataframe"
   ]
  },
  {
   "cell_type": "code",
   "execution_count": 0,
   "metadata": {
    "colab": {
     "base_uri": "https://localhost:8080/",
     "height": 404
    },
    "colab_type": "code",
    "executionInfo": {
     "elapsed": 919,
     "status": "ok",
     "timestamp": 1565008228004,
     "user": {
      "displayName": "Avinash Beck",
      "photoUrl": "",
      "userId": "14043619463729052163"
     },
     "user_tz": -330
    },
    "id": "eb_u4JTNDkHa",
    "outputId": "9f736a93-0f15-4fe6-8574-2cfbb3a75092"
   },
   "outputs": [
    {
     "name": "stdout",
     "output_type": "stream",
     "text": [
      "<class 'pandas.core.frame.DataFrame'>\n",
      "RangeIndex: 4413 entries, 0 to 4412\n",
      "Data columns (total 17 columns):\n",
      "age          4413 non-null int64\n",
      "job          4413 non-null object\n",
      "marital      4413 non-null object\n",
      "education    4413 non-null object\n",
      "default      4413 non-null object\n",
      "balance      4413 non-null int64\n",
      "housing      4413 non-null object\n",
      "loan         4413 non-null object\n",
      "contact      4413 non-null object\n",
      "day          4413 non-null int64\n",
      "month        4413 non-null object\n",
      "duration     4413 non-null int64\n",
      "campaign     4413 non-null int64\n",
      "pdays        4413 non-null int64\n",
      "previous     4413 non-null int64\n",
      "poutcome     4413 non-null object\n",
      "y            4413 non-null object\n",
      "dtypes: int64(7), object(10)\n",
      "memory usage: 586.2+ KB\n"
     ]
    }
   ],
   "source": [
    "df.info()                                                                          # Checking the info, missing values and data types"
   ]
  },
  {
   "cell_type": "code",
   "execution_count": 0,
   "metadata": {
    "colab": {
     "base_uri": "https://localhost:8080/",
     "height": 334
    },
    "colab_type": "code",
    "executionInfo": {
     "elapsed": 580,
     "status": "ok",
     "timestamp": 1565008229523,
     "user": {
      "displayName": "Avinash Beck",
      "photoUrl": "",
      "userId": "14043619463729052163"
     },
     "user_tz": -330
    },
    "id": "vl_cR9P-k2C1",
    "outputId": "717c2b78-09ee-4684-b6eb-cc645d3b683a"
   },
   "outputs": [
    {
     "data": {
      "text/plain": [
       "age          0\n",
       "job          0\n",
       "marital      0\n",
       "education    0\n",
       "default      0\n",
       "balance      0\n",
       "housing      0\n",
       "loan         0\n",
       "contact      0\n",
       "day          0\n",
       "month        0\n",
       "duration     0\n",
       "campaign     0\n",
       "pdays        0\n",
       "previous     0\n",
       "poutcome     0\n",
       "y            0\n",
       "dtype: int64"
      ]
     },
     "execution_count": 8,
     "metadata": {
      "tags": []
     },
     "output_type": "execute_result"
    }
   ],
   "source": [
    "df.isnull().sum()                                                                    # Checking the missing values"
   ]
  },
  {
   "cell_type": "code",
   "execution_count": 0,
   "metadata": {
    "colab": {
     "base_uri": "https://localhost:8080/",
     "height": 70
    },
    "colab_type": "code",
    "executionInfo": {
     "elapsed": 644,
     "status": "ok",
     "timestamp": 1565008230926,
     "user": {
      "displayName": "Avinash Beck",
      "photoUrl": "",
      "userId": "14043619463729052163"
     },
     "user_tz": -330
    },
    "id": "qS5FCiK2k2C4",
    "outputId": "3dd53d7b-1a12-44c4-835d-250030694e80"
   },
   "outputs": [
    {
     "data": {
      "text/plain": [
       "no     3904\n",
       "yes     509\n",
       "Name: y, dtype: int64"
      ]
     },
     "execution_count": 9,
     "metadata": {
      "tags": []
     },
     "output_type": "execute_result"
    }
   ],
   "source": [
    "df.y.value_counts()                                                                 # Find the total number of observations across all the classes given in Output var"
   ]
  },
  {
   "cell_type": "code",
   "execution_count": 0,
   "metadata": {
    "colab": {
     "base_uri": "https://localhost:8080/",
     "height": 284
    },
    "colab_type": "code",
    "executionInfo": {
     "elapsed": 933,
     "status": "ok",
     "timestamp": 1565008232735,
     "user": {
      "displayName": "Avinash Beck",
      "photoUrl": "",
      "userId": "14043619463729052163"
     },
     "user_tz": -330
    },
    "id": "LD7kh34gk2C6",
    "outputId": "9ab14f63-a310-4844-c3d4-1be356b73efc"
   },
   "outputs": [
    {
     "data": {
      "text/html": [
       "<div>\n",
       "<style scoped>\n",
       "    .dataframe tbody tr th:only-of-type {\n",
       "        vertical-align: middle;\n",
       "    }\n",
       "\n",
       "    .dataframe tbody tr th {\n",
       "        vertical-align: top;\n",
       "    }\n",
       "\n",
       "    .dataframe thead th {\n",
       "        text-align: right;\n",
       "    }\n",
       "</style>\n",
       "<table border=\"1\" class=\"dataframe\">\n",
       "  <thead>\n",
       "    <tr style=\"text-align: right;\">\n",
       "      <th></th>\n",
       "      <th>age</th>\n",
       "      <th>balance</th>\n",
       "      <th>day</th>\n",
       "      <th>duration</th>\n",
       "      <th>campaign</th>\n",
       "      <th>pdays</th>\n",
       "      <th>previous</th>\n",
       "    </tr>\n",
       "  </thead>\n",
       "  <tbody>\n",
       "    <tr>\n",
       "      <th>count</th>\n",
       "      <td>4413.000000</td>\n",
       "      <td>4413.000000</td>\n",
       "      <td>4413.000000</td>\n",
       "      <td>4413.000000</td>\n",
       "      <td>4413.000000</td>\n",
       "      <td>4413.000000</td>\n",
       "      <td>4413.000000</td>\n",
       "    </tr>\n",
       "    <tr>\n",
       "      <th>mean</th>\n",
       "      <td>41.203716</td>\n",
       "      <td>1419.201224</td>\n",
       "      <td>15.921142</td>\n",
       "      <td>263.663494</td>\n",
       "      <td>2.800136</td>\n",
       "      <td>39.455472</td>\n",
       "      <td>0.537729</td>\n",
       "    </tr>\n",
       "    <tr>\n",
       "      <th>std</th>\n",
       "      <td>10.577605</td>\n",
       "      <td>3008.200835</td>\n",
       "      <td>8.252401</td>\n",
       "      <td>259.753338</td>\n",
       "      <td>3.124920</td>\n",
       "      <td>99.893990</td>\n",
       "      <td>1.689185</td>\n",
       "    </tr>\n",
       "    <tr>\n",
       "      <th>min</th>\n",
       "      <td>19.000000</td>\n",
       "      <td>-3313.000000</td>\n",
       "      <td>1.000000</td>\n",
       "      <td>4.000000</td>\n",
       "      <td>1.000000</td>\n",
       "      <td>-1.000000</td>\n",
       "      <td>0.000000</td>\n",
       "    </tr>\n",
       "    <tr>\n",
       "      <th>25%</th>\n",
       "      <td>33.000000</td>\n",
       "      <td>69.000000</td>\n",
       "      <td>9.000000</td>\n",
       "      <td>104.000000</td>\n",
       "      <td>1.000000</td>\n",
       "      <td>-1.000000</td>\n",
       "      <td>0.000000</td>\n",
       "    </tr>\n",
       "    <tr>\n",
       "      <th>50%</th>\n",
       "      <td>39.000000</td>\n",
       "      <td>443.000000</td>\n",
       "      <td>16.000000</td>\n",
       "      <td>185.000000</td>\n",
       "      <td>2.000000</td>\n",
       "      <td>-1.000000</td>\n",
       "      <td>0.000000</td>\n",
       "    </tr>\n",
       "    <tr>\n",
       "      <th>75%</th>\n",
       "      <td>49.000000</td>\n",
       "      <td>1472.000000</td>\n",
       "      <td>21.000000</td>\n",
       "      <td>330.000000</td>\n",
       "      <td>3.000000</td>\n",
       "      <td>-1.000000</td>\n",
       "      <td>0.000000</td>\n",
       "    </tr>\n",
       "    <tr>\n",
       "      <th>max</th>\n",
       "      <td>87.000000</td>\n",
       "      <td>71188.000000</td>\n",
       "      <td>31.000000</td>\n",
       "      <td>3025.000000</td>\n",
       "      <td>50.000000</td>\n",
       "      <td>871.000000</td>\n",
       "      <td>25.000000</td>\n",
       "    </tr>\n",
       "  </tbody>\n",
       "</table>\n",
       "</div>"
      ],
      "text/plain": [
       "               age       balance          day     duration     campaign  \\\n",
       "count  4413.000000   4413.000000  4413.000000  4413.000000  4413.000000   \n",
       "mean     41.203716   1419.201224    15.921142   263.663494     2.800136   \n",
       "std      10.577605   3008.200835     8.252401   259.753338     3.124920   \n",
       "min      19.000000  -3313.000000     1.000000     4.000000     1.000000   \n",
       "25%      33.000000     69.000000     9.000000   104.000000     1.000000   \n",
       "50%      39.000000    443.000000    16.000000   185.000000     2.000000   \n",
       "75%      49.000000   1472.000000    21.000000   330.000000     3.000000   \n",
       "max      87.000000  71188.000000    31.000000  3025.000000    50.000000   \n",
       "\n",
       "             pdays     previous  \n",
       "count  4413.000000  4413.000000  \n",
       "mean     39.455472     0.537729  \n",
       "std      99.893990     1.689185  \n",
       "min      -1.000000     0.000000  \n",
       "25%      -1.000000     0.000000  \n",
       "50%      -1.000000     0.000000  \n",
       "75%      -1.000000     0.000000  \n",
       "max     871.000000    25.000000  "
      ]
     },
     "execution_count": 10,
     "metadata": {
      "tags": []
     },
     "output_type": "execute_result"
    }
   ],
   "source": [
    "df.describe()                                                                      # Checking the descriptive statistics"
   ]
  },
  {
   "cell_type": "markdown",
   "metadata": {
    "colab_type": "text",
    "id": "eIAHP5Ajk2C9"
   },
   "source": [
    "### 5. Data Visualization"
   ]
  },
  {
   "cell_type": "code",
   "execution_count": 0,
   "metadata": {
    "colab": {
     "base_uri": "https://localhost:8080/",
     "height": 283
    },
    "colab_type": "code",
    "executionInfo": {
     "elapsed": 1431,
     "status": "ok",
     "timestamp": 1565008236535,
     "user": {
      "displayName": "Avinash Beck",
      "photoUrl": "",
      "userId": "14043619463729052163"
     },
     "user_tz": -330
    },
    "id": "zYN5nhfak2C9",
    "outputId": "dd2fd8d4-af78-45c4-e8ff-c4fb63797a23"
   },
   "outputs": [
    {
     "data": {
      "image/png": "[encoded data removed]",
      "text/plain": [
       "<Figure size 720x288 with 1 Axes>"
      ]
     },
     "metadata": {
      "tags": []
     },
     "output_type": "display_data"
    }
   ],
   "source": [
    "plt.figure(figsize=[10,4])                                      # Setting the size of the figure\n",
    "sns.barplot(y=df['balance'],x=df['y'],hue=df.education)         # Bar plot\n",
    "plt.xlabel(\"FD:yes/no\")                                         # Setting the label in x axis\n",
    "plt.show()                                                      # Displaying the plot"
   ]
  },
  {
   "cell_type": "markdown",
   "metadata": {
    "colab_type": "text",
    "id": "-mHyz2EZk2DA"
   },
   "source": [
    "People who have term deposit have more balance in bank.  <br> \n",
    "This is because term deposit is a good investment scheme with high rate of interest.  <br>\n",
    "People who have term deposit are more educated."
   ]
  },
  {
   "cell_type": "code",
   "execution_count": 0,
   "metadata": {
    "colab": {
     "base_uri": "https://localhost:8080/",
     "height": 283
    },
    "colab_type": "code",
    "executionInfo": {
     "elapsed": 1537,
     "status": "ok",
     "timestamp": 1565008282669,
     "user": {
      "displayName": "Avinash Beck",
      "photoUrl": "",
      "userId": "14043619463729052163"
     },
     "user_tz": -330
    },
    "id": "rtnatzxIk2DB",
    "outputId": "dc0b6aba-f22b-4201-fe97-ba5986575c78"
   },
   "outputs": [
    {
     "data": {
      "image/png": "[encoded data removed]",
      "text/plain": [
       "<Figure size 720x288 with 1 Axes>"
      ]
     },
     "metadata": {
      "tags": []
     },
     "output_type": "display_data"
    }
   ],
   "source": [
    "plt.figure(figsize=[10,4])                                        # Setting the size of the figure\n",
    "sns.barplot(y=df['age'],x=df['y'],hue=df.education)               # Bar plot\n",
    "plt.xlabel(\"FD:yes/no\")                                           # Setting the label in x axis\n",
    "plt.show()                                          "
   ]
  },
  {
   "cell_type": "markdown",
   "metadata": {
    "colab_type": "text",
    "id": "5eX2j31ck2DD"
   },
   "source": [
    "People who have term deposit have more age.  <br>\n",
    "It can be deduced that aged people create term deposit to save their retirement benefit."
   ]
  },
  {
   "cell_type": "code",
   "execution_count": 0,
   "metadata": {
    "colab": {
     "base_uri": "https://localhost:8080/",
     "height": 283
    },
    "colab_type": "code",
    "executionInfo": {
     "elapsed": 1324,
     "status": "ok",
     "timestamp": 1565008286458,
     "user": {
      "displayName": "Avinash Beck",
      "photoUrl": "",
      "userId": "14043619463729052163"
     },
     "user_tz": -330
    },
    "id": "g9paxp3ek2DE",
    "outputId": "cf17bc83-3479-496f-80ad-d903c225e6df"
   },
   "outputs": [
    {
     "data": {
      "image/png": "[encoded data removed]",
      "text/plain": [
       "<Figure size 720x288 with 1 Axes>"
      ]
     },
     "metadata": {
      "tags": []
     },
     "output_type": "display_data"
    }
   ],
   "source": [
    "plt.figure(figsize=[10,4])                                           # Setting the size of the figure\n",
    "sns.barplot(y=df['y'],x=df['balance'],hue=df.loan)                   # Bar plot\n",
    "plt.show()"
   ]
  },
  {
   "cell_type": "markdown",
   "metadata": {
    "colab_type": "text",
    "id": "LIZ8vU0pk2DH"
   },
   "source": [
    "Those who have annual balance is close to 1500 euro and don't have loan are not doing Term Deposit. We should inspect more which factors are prohibiting them from doing a Term Deposit"
   ]
  },
  {
   "cell_type": "code",
   "execution_count": 0,
   "metadata": {
    "colab": {
     "base_uri": "https://localhost:8080/",
     "height": 337
    },
    "colab_type": "code",
    "executionInfo": {
     "elapsed": 951,
     "status": "ok",
     "timestamp": 1565008291003,
     "user": {
      "displayName": "Avinash Beck",
      "photoUrl": "",
      "userId": "14043619463729052163"
     },
     "user_tz": -330
    },
    "id": "ZR4qX3k0k2DH",
    "outputId": "f75d1a83-d896-43a9-838e-af8689a65811"
   },
   "outputs": [
    {
     "data": {
      "image/png": "[encoded data removed]",
      "text/plain": [
       "<Figure size 720x360 with 1 Axes>"
      ]
     },
     "metadata": {
      "tags": []
     },
     "output_type": "display_data"
    }
   ],
   "source": [
    "plt.figure(figsize=[10,5])                                           # Setting the size of the figure\n",
    "sns.boxplot(x=df.y,y=df.balance,hue=df.loan)                         # Bar plot\n",
    "plt.show()"
   ]
  },
  {
   "cell_type": "markdown",
   "metadata": {
    "colab_type": "text",
    "id": "HVaoUcJrk2DL"
   },
   "source": [
    "We find some outliers in Annual balance in those who are not doing TD and having no loan"
   ]
  },
  {
   "cell_type": "code",
   "execution_count": 0,
   "metadata": {
    "colab": {
     "base_uri": "https://localhost:8080/",
     "height": 70
    },
    "colab_type": "code",
    "executionInfo": {
     "elapsed": 873,
     "status": "ok",
     "timestamp": 1565008317308,
     "user": {
      "displayName": "Avinash Beck",
      "photoUrl": "",
      "userId": "14043619463729052163"
     },
     "user_tz": -330
    },
    "id": "EoxKQ7WBk2DL",
    "outputId": "764cafa2-48d0-41ea-eed7-c30b1bda1269"
   },
   "outputs": [
    {
     "name": "stderr",
     "output_type": "stream",
     "text": [
      "/usr/local/lib/python3.6/dist-packages/ipykernel_launcher.py:1: UserWarning: Boolean Series key will be reindexed to match DataFrame index.\n",
      "  \"\"\"Entry point for launching an IPython kernel.\n"
     ]
    },
    {
     "data": {
      "text/plain": [
       "293"
      ]
     },
     "execution_count": 15,
     "metadata": {
      "tags": []
     },
     "output_type": "execute_result"
    }
   ],
   "source": [
    "df[df.loan=='no'][df.y=='no'][df.balance>=1000][df.marital=='single'].shape[0] # 293 people having no loan,single and annual\n",
    "# greater than equal to 1000 are not doing Term Deposit."
   ]
  },
  {
   "cell_type": "code",
   "execution_count": 0,
   "metadata": {
    "colab": {
     "base_uri": "https://localhost:8080/",
     "height": 340
    },
    "colab_type": "code",
    "executionInfo": {
     "elapsed": 1150,
     "status": "ok",
     "timestamp": 1565008323035,
     "user": {
      "displayName": "Avinash Beck",
      "photoUrl": "",
      "userId": "14043619463729052163"
     },
     "user_tz": -330
    },
    "id": "vvcecMVvk2DQ",
    "outputId": "c78214b5-7706-48bb-9ce3-769272473160"
   },
   "outputs": [
    {
     "data": {
      "image/png": "[encoded data removed]",
      "text/plain": [
       "<Figure size 720x360 with 1 Axes>"
      ]
     },
     "metadata": {
      "tags": []
     },
     "output_type": "display_data"
    }
   ],
   "source": [
    "# Distribution plot of Age\n",
    "\n",
    "from matplotlib import style\n",
    "plt.figure(figsize=[10,5])\n",
    "style.use('ggplot')\n",
    "sns.distplot(df['age'])\n",
    "plt.show()"
   ]
  },
  {
   "cell_type": "code",
   "execution_count": 0,
   "metadata": {
    "colab": {
     "base_uri": "https://localhost:8080/",
     "height": 340
    },
    "colab_type": "code",
    "executionInfo": {
     "elapsed": 952,
     "status": "ok",
     "timestamp": 1565008326629,
     "user": {
      "displayName": "Avinash Beck",
      "photoUrl": "",
      "userId": "14043619463729052163"
     },
     "user_tz": -330
    },
    "id": "2Y4seemLk2DU",
    "outputId": "fa0f143e-dfc1-4b9c-addb-3d22d804f067"
   },
   "outputs": [
    {
     "data": {
      "image/png": "[encoded data removed]",
      "text/plain": [
       "<Figure size 720x360 with 1 Axes>"
      ]
     },
     "metadata": {
      "tags": []
     },
     "output_type": "display_data"
    }
   ],
   "source": [
    "# Distribution plot of balance\n",
    "\n",
    "from matplotlib import style\n",
    "plt.figure(figsize=[10,5])\n",
    "style.use('ggplot')\n",
    "sns.distplot(df['balance'])\n",
    "plt.show()"
   ]
  },
  {
   "cell_type": "markdown",
   "metadata": {
    "colab_type": "text",
    "id": "BlvRCugnk2DW"
   },
   "source": [
    "Balance variable is highly skewed to the right. Max number of people having low annual balance"
   ]
  },
  {
   "cell_type": "markdown",
   "metadata": {
    "colab_type": "text",
    "id": "yZAcA6tTk2DW"
   },
   "source": [
    "###### Let's see how our Output variable looks like"
   ]
  },
  {
   "cell_type": "code",
   "execution_count": 0,
   "metadata": {
    "colab": {
     "base_uri": "https://localhost:8080/",
     "height": 70
    },
    "colab_type": "code",
    "executionInfo": {
     "elapsed": 1116,
     "status": "ok",
     "timestamp": 1565008333577,
     "user": {
      "displayName": "Avinash Beck",
      "photoUrl": "",
      "userId": "14043619463729052163"
     },
     "user_tz": -330
    },
    "id": "dKv7ku2Fk2DX",
    "outputId": "f4cd390d-da6f-4e33-9ede-affa4a4b8c1d"
   },
   "outputs": [
    {
     "data": {
      "text/plain": [
       "no     3904\n",
       "yes     509\n",
       "Name: y, dtype: int64"
      ]
     },
     "execution_count": 18,
     "metadata": {
      "tags": []
     },
     "output_type": "execute_result"
    }
   ],
   "source": [
    "df.y.value_counts()                       # Checking the number of values for each class"
   ]
  },
  {
   "cell_type": "code",
   "execution_count": 0,
   "metadata": {
    "colab": {},
    "colab_type": "code",
    "id": "J6Ky834sk2DZ"
   },
   "outputs": [],
   "source": [
    "no=df['y']=='no'#.size()\n",
    "no=no.sum()\n",
    "yes=df['y']=='yes'\n",
    "yes=yes.sum()"
   ]
  },
  {
   "cell_type": "code",
   "execution_count": 0,
   "metadata": {
    "colab": {
     "base_uri": "https://localhost:8080/",
     "height": 255
    },
    "colab_type": "code",
    "executionInfo": {
     "elapsed": 967,
     "status": "ok",
     "timestamp": 1565008338913,
     "user": {
      "displayName": "Avinash Beck",
      "photoUrl": "",
      "userId": "14043619463729052163"
     },
     "user_tz": -330
    },
    "id": "Z4y35k12k2Dc",
    "outputId": "e0f3e918-abc1-43c3-c1c3-da8f78b693be"
   },
   "outputs": [
    {
     "data": {
      "image/png": "[encoded data removed]",
      "text/plain": [
       "<Figure size 288x288 with 1 Axes>"
      ]
     },
     "metadata": {
      "tags": []
     },
     "output_type": "display_data"
    }
   ],
   "source": [
    "# Pie chart of both the classes\n",
    "\n",
    "plt.figure(figsize=[4,4])\n",
    "variables=['Yes','No']\n",
    "values=[yes,no]\n",
    "plt.pie(values,labels=variables,autopct='%1.1f%%', startangle=140)\n",
    "plt.show()"
   ]
  },
  {
   "cell_type": "code",
   "execution_count": 0,
   "metadata": {
    "colab": {},
    "colab_type": "code",
    "id": "sJDKPh46PcF7"
   },
   "outputs": [],
   "source": [
    "# Creating the features and the labels\n",
    "\n",
    "y=df['y']\n",
    "X=df.drop(['y'],1)"
   ]
  },
  {
   "cell_type": "code",
   "execution_count": 0,
   "metadata": {
    "colab": {},
    "colab_type": "code",
    "id": "3TEX2WeYk2Dg"
   },
   "outputs": [],
   "source": [
    "x=X.copy()"
   ]
  },
  {
   "cell_type": "code",
   "execution_count": 0,
   "metadata": {
    "colab": {
     "base_uri": "https://localhost:8080/",
     "height": 34
    },
    "colab_type": "code",
    "executionInfo": {
     "elapsed": 691,
     "status": "ok",
     "timestamp": 1565008346316,
     "user": {
      "displayName": "Avinash Beck",
      "photoUrl": "",
      "userId": "14043619463729052163"
     },
     "user_tz": -330
    },
    "id": "0q2lQ7pgk2Di",
    "outputId": "8d71bfbb-4c35-42da-e0c5-11025c87187c"
   },
   "outputs": [
    {
     "data": {
      "text/plain": [
       "(4413, 17)"
      ]
     },
     "execution_count": 23,
     "metadata": {
      "tags": []
     },
     "output_type": "execute_result"
    }
   ],
   "source": [
    "df.shape                                         # Checking the number of rows and columns in the dataframe"
   ]
  },
  {
   "cell_type": "code",
   "execution_count": 0,
   "metadata": {
    "colab": {},
    "colab_type": "code",
    "id": "_A6MflG4k2Dk"
   },
   "outputs": [],
   "source": [
    "# Getting the dummy values of job, marital, education, default, House, Loan, Contract, Month, poutcome\n",
    "\n",
    "job_dummies=pd.get_dummies(X['job'],prefix='Job',drop_first=True)\n",
    "marital_dummies=pd.get_dummies(X['marital'],prefix='Marital',drop_first=True)\n",
    "edu_dummies=pd.get_dummies(X['education'],prefix='Edu',drop_first=True)\n",
    "default_dummies=pd.get_dummies(X['default'],prefix='Default',drop_first=True)\n",
    "housing_dummies=pd.get_dummies(X['housing'],prefix='House',drop_first=True)\n",
    "loan_dummies=pd.get_dummies(X['loan'],prefix='Loan',drop_first=True)\n",
    "contact_dummies=pd.get_dummies(X['contact'],prefix='Contact',drop_first=True)\n",
    "month_dummies=pd.get_dummies(X['month'],prefix='Month',drop_first=True)\n",
    "poutcome_dummies=pd.get_dummies(X['poutcome'],prefix='poutcome',drop_first=True)"
   ]
  },
  {
   "cell_type": "code",
   "execution_count": 0,
   "metadata": {
    "colab": {},
    "colab_type": "code",
    "id": "Y5283CBKk2Dn"
   },
   "outputs": [],
   "source": [
    "# Merge all the dummified categorical columns\n",
    "\n",
    "X=pd.concat([X,job_dummies,marital_dummies,edu_dummies,default_dummies,housing_dummies,loan_dummies,contact_dummies,month_dummies,poutcome_dummies],1)"
   ]
  },
  {
   "cell_type": "code",
   "execution_count": 0,
   "metadata": {
    "colab": {
     "base_uri": "https://localhost:8080/",
     "height": 34
    },
    "colab_type": "code",
    "executionInfo": {
     "elapsed": 907,
     "status": "ok",
     "timestamp": 1565008358204,
     "user": {
      "displayName": "Avinash Beck",
      "photoUrl": "",
      "userId": "14043619463729052163"
     },
     "user_tz": -330
    },
    "id": "mTVCV69IPcCx",
    "outputId": "85474c07-53bf-4342-ae3f-4419fd677987"
   },
   "outputs": [
    {
     "data": {
      "text/plain": [
       "(4413, 42)"
      ]
     },
     "execution_count": 26,
     "metadata": {
      "tags": []
     },
     "output_type": "execute_result"
    }
   ],
   "source": [
    "# Removing the non-dummified categorical columns\n",
    "\n",
    "X=X.drop(['job','marital','education','default','housing','loan','month','poutcome','contact'],axis=1)\n",
    "X.shape"
   ]
  },
  {
   "cell_type": "markdown",
   "metadata": {
    "colab_type": "text",
    "id": "mD1tPaG1k2Dt"
   },
   "source": [
    "#### Checking the shape of input and output variables"
   ]
  },
  {
   "cell_type": "code",
   "execution_count": 0,
   "metadata": {
    "colab": {
     "base_uri": "https://localhost:8080/",
     "height": 34
    },
    "colab_type": "code",
    "executionInfo": {
     "elapsed": 1053,
     "status": "ok",
     "timestamp": 1565008361891,
     "user": {
      "displayName": "Avinash Beck",
      "photoUrl": "",
      "userId": "14043619463729052163"
     },
     "user_tz": -330
    },
    "id": "orAOJN6Bk2Dt",
    "outputId": "bd33e7a7-df8e-4c4b-e3a6-329526cfc90b"
   },
   "outputs": [
    {
     "data": {
      "text/plain": [
       "(4413,)"
      ]
     },
     "execution_count": 27,
     "metadata": {
      "tags": []
     },
     "output_type": "execute_result"
    }
   ],
   "source": [
    "y.shape"
   ]
  },
  {
   "cell_type": "code",
   "execution_count": 0,
   "metadata": {
    "colab": {
     "base_uri": "https://localhost:8080/",
     "height": 34
    },
    "colab_type": "code",
    "executionInfo": {
     "elapsed": 963,
     "status": "ok",
     "timestamp": 1565008362351,
     "user": {
      "displayName": "Avinash Beck",
      "photoUrl": "",
      "userId": "14043619463729052163"
     },
     "user_tz": -330
    },
    "id": "tXb82Jb7k2Dv",
    "outputId": "2a109d1a-f841-4a26-ebb5-1877990c8d7d"
   },
   "outputs": [
    {
     "data": {
      "text/plain": [
       "(4413, 42)"
      ]
     },
     "execution_count": 28,
     "metadata": {
      "tags": []
     },
     "output_type": "execute_result"
    }
   ],
   "source": [
    "X.shape"
   ]
  },
  {
   "cell_type": "markdown",
   "metadata": {
    "colab_type": "text",
    "id": "Jq3PNVqRk2Dx"
   },
   "source": [
    "### Convert response variable into numeric one"
   ]
  },
  {
   "cell_type": "code",
   "execution_count": 0,
   "metadata": {
    "colab": {},
    "colab_type": "code",
    "id": "0OYIhTWCk2Dy"
   },
   "outputs": [],
   "source": [
    "# Label Encoding the y variable\n",
    "\n",
    "from sklearn.preprocessing import LabelEncoder\n",
    "le=LabelEncoder()"
   ]
  },
  {
   "cell_type": "code",
   "execution_count": 0,
   "metadata": {
    "colab": {},
    "colab_type": "code",
    "id": "PU2z1meFk2D7"
   },
   "outputs": [],
   "source": [
    "y=le.fit_transform(y)"
   ]
  },
  {
   "cell_type": "code",
   "execution_count": 0,
   "metadata": {
    "colab": {
     "base_uri": "https://localhost:8080/",
     "height": 136
    },
    "colab_type": "code",
    "executionInfo": {
     "elapsed": 959,
     "status": "ok",
     "timestamp": 1565008369354,
     "user": {
      "displayName": "Avinash Beck",
      "photoUrl": "",
      "userId": "14043619463729052163"
     },
     "user_tz": -330
    },
    "id": "SYg3rybdk2D9",
    "outputId": "65587286-4892-4041-bb30-331f28164076"
   },
   "outputs": [
    {
     "data": {
      "text/html": [
       "<div>\n",
       "<style scoped>\n",
       "    .dataframe tbody tr th:only-of-type {\n",
       "        vertical-align: middle;\n",
       "    }\n",
       "\n",
       "    .dataframe tbody tr th {\n",
       "        vertical-align: top;\n",
       "    }\n",
       "\n",
       "    .dataframe thead th {\n",
       "        text-align: right;\n",
       "    }\n",
       "</style>\n",
       "<table border=\"1\" class=\"dataframe\">\n",
       "  <thead>\n",
       "    <tr style=\"text-align: right;\">\n",
       "      <th>col_0</th>\n",
       "      <th>Count</th>\n",
       "    </tr>\n",
       "    <tr>\n",
       "      <th>row_0</th>\n",
       "      <th></th>\n",
       "    </tr>\n",
       "  </thead>\n",
       "  <tbody>\n",
       "    <tr>\n",
       "      <th>0</th>\n",
       "      <td>3904</td>\n",
       "    </tr>\n",
       "    <tr>\n",
       "      <th>1</th>\n",
       "      <td>509</td>\n",
       "    </tr>\n",
       "  </tbody>\n",
       "</table>\n",
       "</div>"
      ],
      "text/plain": [
       "col_0  Count\n",
       "row_0       \n",
       "0       3904\n",
       "1        509"
      ]
     },
     "execution_count": 31,
     "metadata": {
      "tags": []
     },
     "output_type": "execute_result"
    }
   ],
   "source": [
    "pd.crosstab(y,'Count')                            # This shows that the dataset is imbalanced and we need to perform SMOTE"
   ]
  },
  {
   "cell_type": "code",
   "execution_count": 0,
   "metadata": {
    "colab": {
     "base_uri": "https://localhost:8080/",
     "height": 232
    },
    "colab_type": "code",
    "executionInfo": {
     "elapsed": 927,
     "status": "ok",
     "timestamp": 1565008373738,
     "user": {
      "displayName": "Avinash Beck",
      "photoUrl": "",
      "userId": "14043619463729052163"
     },
     "user_tz": -330
    },
    "id": "GYzxGMzAPcH_",
    "outputId": "337fddc5-f3a8-4704-90df-42e2baa2e682"
   },
   "outputs": [
    {
     "data": {
      "text/html": [
       "<div>\n",
       "<style scoped>\n",
       "    .dataframe tbody tr th:only-of-type {\n",
       "        vertical-align: middle;\n",
       "    }\n",
       "\n",
       "    .dataframe tbody tr th {\n",
       "        vertical-align: top;\n",
       "    }\n",
       "\n",
       "    .dataframe thead th {\n",
       "        text-align: right;\n",
       "    }\n",
       "</style>\n",
       "<table border=\"1\" class=\"dataframe\">\n",
       "  <thead>\n",
       "    <tr style=\"text-align: right;\">\n",
       "      <th></th>\n",
       "      <th>age</th>\n",
       "      <th>balance</th>\n",
       "      <th>day</th>\n",
       "      <th>duration</th>\n",
       "      <th>campaign</th>\n",
       "      <th>pdays</th>\n",
       "      <th>previous</th>\n",
       "      <th>Job_blue-collar</th>\n",
       "      <th>Job_entrepreneur</th>\n",
       "      <th>Job_housemaid</th>\n",
       "      <th>Job_management</th>\n",
       "      <th>Job_retired</th>\n",
       "      <th>Job_self-employed</th>\n",
       "      <th>Job_services</th>\n",
       "      <th>Job_student</th>\n",
       "      <th>Job_technician</th>\n",
       "      <th>Job_unemployed</th>\n",
       "      <th>Job_unknown</th>\n",
       "      <th>Marital_married</th>\n",
       "      <th>Marital_single</th>\n",
       "      <th>Edu_secondary</th>\n",
       "      <th>Edu_tertiary</th>\n",
       "      <th>Edu_unknown</th>\n",
       "      <th>Default_yes</th>\n",
       "      <th>House_yes</th>\n",
       "      <th>Loan_yes</th>\n",
       "      <th>Contact_telephone</th>\n",
       "      <th>Contact_unknown</th>\n",
       "      <th>Month_aug</th>\n",
       "      <th>Month_dec</th>\n",
       "      <th>Month_feb</th>\n",
       "      <th>Month_jan</th>\n",
       "      <th>Month_jul</th>\n",
       "      <th>Month_jun</th>\n",
       "      <th>Month_mar</th>\n",
       "      <th>Month_may</th>\n",
       "      <th>Month_nov</th>\n",
       "      <th>Month_oct</th>\n",
       "      <th>Month_sep</th>\n",
       "      <th>poutcome_other</th>\n",
       "      <th>poutcome_success</th>\n",
       "      <th>poutcome_unknown</th>\n",
       "    </tr>\n",
       "  </thead>\n",
       "  <tbody>\n",
       "    <tr>\n",
       "      <th>0</th>\n",
       "      <td>30</td>\n",
       "      <td>1787</td>\n",
       "      <td>19</td>\n",
       "      <td>79</td>\n",
       "      <td>1</td>\n",
       "      <td>-1</td>\n",
       "      <td>0</td>\n",
       "      <td>0</td>\n",
       "      <td>0</td>\n",
       "      <td>0</td>\n",
       "      <td>0</td>\n",
       "      <td>0</td>\n",
       "      <td>0</td>\n",
       "      <td>0</td>\n",
       "      <td>0</td>\n",
       "      <td>0</td>\n",
       "      <td>1</td>\n",
       "      <td>0</td>\n",
       "      <td>1</td>\n",
       "      <td>0</td>\n",
       "      <td>0</td>\n",
       "      <td>0</td>\n",
       "      <td>0</td>\n",
       "      <td>0</td>\n",
       "      <td>0</td>\n",
       "      <td>0</td>\n",
       "      <td>0</td>\n",
       "      <td>0</td>\n",
       "      <td>0</td>\n",
       "      <td>0</td>\n",
       "      <td>0</td>\n",
       "      <td>0</td>\n",
       "      <td>0</td>\n",
       "      <td>0</td>\n",
       "      <td>0</td>\n",
       "      <td>0</td>\n",
       "      <td>0</td>\n",
       "      <td>1</td>\n",
       "      <td>0</td>\n",
       "      <td>0</td>\n",
       "      <td>0</td>\n",
       "      <td>1</td>\n",
       "    </tr>\n",
       "    <tr>\n",
       "      <th>1</th>\n",
       "      <td>33</td>\n",
       "      <td>4789</td>\n",
       "      <td>11</td>\n",
       "      <td>220</td>\n",
       "      <td>1</td>\n",
       "      <td>339</td>\n",
       "      <td>4</td>\n",
       "      <td>0</td>\n",
       "      <td>0</td>\n",
       "      <td>0</td>\n",
       "      <td>0</td>\n",
       "      <td>0</td>\n",
       "      <td>0</td>\n",
       "      <td>1</td>\n",
       "      <td>0</td>\n",
       "      <td>0</td>\n",
       "      <td>0</td>\n",
       "      <td>0</td>\n",
       "      <td>1</td>\n",
       "      <td>0</td>\n",
       "      <td>1</td>\n",
       "      <td>0</td>\n",
       "      <td>0</td>\n",
       "      <td>0</td>\n",
       "      <td>1</td>\n",
       "      <td>1</td>\n",
       "      <td>0</td>\n",
       "      <td>0</td>\n",
       "      <td>0</td>\n",
       "      <td>0</td>\n",
       "      <td>0</td>\n",
       "      <td>0</td>\n",
       "      <td>0</td>\n",
       "      <td>0</td>\n",
       "      <td>0</td>\n",
       "      <td>1</td>\n",
       "      <td>0</td>\n",
       "      <td>0</td>\n",
       "      <td>0</td>\n",
       "      <td>0</td>\n",
       "      <td>0</td>\n",
       "      <td>0</td>\n",
       "    </tr>\n",
       "    <tr>\n",
       "      <th>2</th>\n",
       "      <td>35</td>\n",
       "      <td>1350</td>\n",
       "      <td>16</td>\n",
       "      <td>185</td>\n",
       "      <td>1</td>\n",
       "      <td>330</td>\n",
       "      <td>1</td>\n",
       "      <td>0</td>\n",
       "      <td>0</td>\n",
       "      <td>0</td>\n",
       "      <td>1</td>\n",
       "      <td>0</td>\n",
       "      <td>0</td>\n",
       "      <td>0</td>\n",
       "      <td>0</td>\n",
       "      <td>0</td>\n",
       "      <td>0</td>\n",
       "      <td>0</td>\n",
       "      <td>0</td>\n",
       "      <td>1</td>\n",
       "      <td>0</td>\n",
       "      <td>1</td>\n",
       "      <td>0</td>\n",
       "      <td>0</td>\n",
       "      <td>1</td>\n",
       "      <td>0</td>\n",
       "      <td>0</td>\n",
       "      <td>0</td>\n",
       "      <td>0</td>\n",
       "      <td>0</td>\n",
       "      <td>0</td>\n",
       "      <td>0</td>\n",
       "      <td>0</td>\n",
       "      <td>0</td>\n",
       "      <td>0</td>\n",
       "      <td>0</td>\n",
       "      <td>0</td>\n",
       "      <td>0</td>\n",
       "      <td>0</td>\n",
       "      <td>0</td>\n",
       "      <td>0</td>\n",
       "      <td>0</td>\n",
       "    </tr>\n",
       "    <tr>\n",
       "      <th>3</th>\n",
       "      <td>30</td>\n",
       "      <td>1476</td>\n",
       "      <td>3</td>\n",
       "      <td>199</td>\n",
       "      <td>4</td>\n",
       "      <td>-1</td>\n",
       "      <td>0</td>\n",
       "      <td>0</td>\n",
       "      <td>0</td>\n",
       "      <td>0</td>\n",
       "      <td>1</td>\n",
       "      <td>0</td>\n",
       "      <td>0</td>\n",
       "      <td>0</td>\n",
       "      <td>0</td>\n",
       "      <td>0</td>\n",
       "      <td>0</td>\n",
       "      <td>0</td>\n",
       "      <td>1</td>\n",
       "      <td>0</td>\n",
       "      <td>0</td>\n",
       "      <td>1</td>\n",
       "      <td>0</td>\n",
       "      <td>0</td>\n",
       "      <td>1</td>\n",
       "      <td>1</td>\n",
       "      <td>0</td>\n",
       "      <td>1</td>\n",
       "      <td>0</td>\n",
       "      <td>0</td>\n",
       "      <td>0</td>\n",
       "      <td>0</td>\n",
       "      <td>0</td>\n",
       "      <td>1</td>\n",
       "      <td>0</td>\n",
       "      <td>0</td>\n",
       "      <td>0</td>\n",
       "      <td>0</td>\n",
       "      <td>0</td>\n",
       "      <td>0</td>\n",
       "      <td>0</td>\n",
       "      <td>1</td>\n",
       "    </tr>\n",
       "    <tr>\n",
       "      <th>4</th>\n",
       "      <td>59</td>\n",
       "      <td>0</td>\n",
       "      <td>5</td>\n",
       "      <td>226</td>\n",
       "      <td>1</td>\n",
       "      <td>-1</td>\n",
       "      <td>0</td>\n",
       "      <td>1</td>\n",
       "      <td>0</td>\n",
       "      <td>0</td>\n",
       "      <td>0</td>\n",
       "      <td>0</td>\n",
       "      <td>0</td>\n",
       "      <td>0</td>\n",
       "      <td>0</td>\n",
       "      <td>0</td>\n",
       "      <td>0</td>\n",
       "      <td>0</td>\n",
       "      <td>1</td>\n",
       "      <td>0</td>\n",
       "      <td>1</td>\n",
       "      <td>0</td>\n",
       "      <td>0</td>\n",
       "      <td>0</td>\n",
       "      <td>1</td>\n",
       "      <td>0</td>\n",
       "      <td>0</td>\n",
       "      <td>1</td>\n",
       "      <td>0</td>\n",
       "      <td>0</td>\n",
       "      <td>0</td>\n",
       "      <td>0</td>\n",
       "      <td>0</td>\n",
       "      <td>0</td>\n",
       "      <td>0</td>\n",
       "      <td>1</td>\n",
       "      <td>0</td>\n",
       "      <td>0</td>\n",
       "      <td>0</td>\n",
       "      <td>0</td>\n",
       "      <td>0</td>\n",
       "      <td>1</td>\n",
       "    </tr>\n",
       "  </tbody>\n",
       "</table>\n",
       "</div>"
      ],
      "text/plain": [
       "   age  balance  day  duration  campaign  pdays  previous  Job_blue-collar  \\\n",
       "0   30     1787   19        79         1     -1         0                0   \n",
       "1   33     4789   11       220         1    339         4                0   \n",
       "2   35     1350   16       185         1    330         1                0   \n",
       "3   30     1476    3       199         4     -1         0                0   \n",
       "4   59        0    5       226         1     -1         0                1   \n",
       "\n",
       "   Job_entrepreneur  Job_housemaid  Job_management  Job_retired  \\\n",
       "0                 0              0               0            0   \n",
       "1                 0              0               0            0   \n",
       "2                 0              0               1            0   \n",
       "3                 0              0               1            0   \n",
       "4                 0              0               0            0   \n",
       "\n",
       "   Job_self-employed  Job_services  Job_student  Job_technician  \\\n",
       "0                  0             0            0               0   \n",
       "1                  0             1            0               0   \n",
       "2                  0             0            0               0   \n",
       "3                  0             0            0               0   \n",
       "4                  0             0            0               0   \n",
       "\n",
       "   Job_unemployed  Job_unknown  Marital_married  Marital_single  \\\n",
       "0               1            0                1               0   \n",
       "1               0            0                1               0   \n",
       "2               0            0                0               1   \n",
       "3               0            0                1               0   \n",
       "4               0            0                1               0   \n",
       "\n",
       "   Edu_secondary  Edu_tertiary  Edu_unknown  Default_yes  House_yes  Loan_yes  \\\n",
       "0              0             0            0            0          0         0   \n",
       "1              1             0            0            0          1         1   \n",
       "2              0             1            0            0          1         0   \n",
       "3              0             1            0            0          1         1   \n",
       "4              1             0            0            0          1         0   \n",
       "\n",
       "   Contact_telephone  Contact_unknown  Month_aug  Month_dec  Month_feb  \\\n",
       "0                  0                0          0          0          0   \n",
       "1                  0                0          0          0          0   \n",
       "2                  0                0          0          0          0   \n",
       "3                  0                1          0          0          0   \n",
       "4                  0                1          0          0          0   \n",
       "\n",
       "   Month_jan  Month_jul  Month_jun  Month_mar  Month_may  Month_nov  \\\n",
       "0          0          0          0          0          0          0   \n",
       "1          0          0          0          0          1          0   \n",
       "2          0          0          0          0          0          0   \n",
       "3          0          0          1          0          0          0   \n",
       "4          0          0          0          0          1          0   \n",
       "\n",
       "   Month_oct  Month_sep  poutcome_other  poutcome_success  poutcome_unknown  \n",
       "0          1          0               0                 0                 1  \n",
       "1          0          0               0                 0                 0  \n",
       "2          0          0               0                 0                 0  \n",
       "3          0          0               0                 0                 1  \n",
       "4          0          0               0                 0                 1  "
      ]
     },
     "execution_count": 32,
     "metadata": {
      "tags": []
     },
     "output_type": "execute_result"
    }
   ],
   "source": [
    "X.head()"
   ]
  },
  {
   "cell_type": "markdown",
   "metadata": {
    "colab_type": "text",
    "id": "UDSX4xzgk2EA"
   },
   "source": [
    "#### 6.1 Handle imbalanced data using SMOTE"
   ]
  },
  {
   "cell_type": "markdown",
   "metadata": {
    "colab_type": "text",
    "id": "sXMklv_Zk2EB"
   },
   "source": [
    "#### Please install imblearn to balance the imbalanced data set"
   ]
  },
  {
   "cell_type": "code",
   "execution_count": 0,
   "metadata": {
    "colab": {},
    "colab_type": "code",
    "id": "zKvZsCUgi96L"
   },
   "outputs": [],
   "source": [
    "#!pip install imblearn"
   ]
  },
  {
   "cell_type": "markdown",
   "metadata": {
    "colab_type": "text",
    "id": "JQ9y3fR3k2EE"
   },
   "source": [
    "#### SMOTE is done for imbalanced data set.\n",
    "We'll do over-sampling thus we can increase the number of instances while balancing the dataset"
   ]
  },
  {
   "cell_type": "code",
   "execution_count": 0,
   "metadata": {
    "colab": {
     "base_uri": "https://localhost:8080/",
     "height": 72
    },
    "colab_type": "code",
    "executionInfo": {
     "elapsed": 911,
     "status": "ok",
     "timestamp": 1565008380487,
     "user": {
      "displayName": "Avinash Beck",
      "photoUrl": "",
      "userId": "14043619463729052163"
     },
     "user_tz": -330
    },
    "id": "BqVK90wZj5EQ",
    "outputId": "85f11540-1d9d-48c5-d90e-1c06fe197f00"
   },
   "outputs": [
    {
     "name": "stderr",
     "output_type": "stream",
     "text": [
      "/usr/local/lib/python3.6/dist-packages/sklearn/externals/six.py:31: DeprecationWarning: The module is deprecated in version 0.21 and will be removed in version 0.23 since we've dropped support for Python 2.7. Please rely on the official version of six (https://pypi.org/project/six/).\n",
      "  \"(https://pypi.org/project/six/).\", DeprecationWarning)\n"
     ]
    }
   ],
   "source": [
    "from imblearn.over_sampling import SMOTE\n",
    "smote=SMOTE(ratio='minority')\n",
    "x_sm,y_sm=smote.fit_sample(X,y)"
   ]
  },
  {
   "cell_type": "code",
   "execution_count": 0,
   "metadata": {
    "colab": {
     "base_uri": "https://localhost:8080/",
     "height": 52
    },
    "colab_type": "code",
    "executionInfo": {
     "elapsed": 919,
     "status": "ok",
     "timestamp": 1565008383106,
     "user": {
      "displayName": "Avinash Beck",
      "photoUrl": "",
      "userId": "14043619463729052163"
     },
     "user_tz": -330
    },
    "id": "aO-hg515k2EG",
    "outputId": "36ea303b-050c-48cf-b8a2-f03431862832"
   },
   "outputs": [
    {
     "name": "stdout",
     "output_type": "stream",
     "text": [
      "(7808, 42)\n",
      "(7808,)\n"
     ]
    }
   ],
   "source": [
    "print(x_sm.shape)\n",
    "print(y_sm.shape)"
   ]
  },
  {
   "cell_type": "code",
   "execution_count": 0,
   "metadata": {
    "colab": {
     "base_uri": "https://localhost:8080/",
     "height": 87
    },
    "colab_type": "code",
    "executionInfo": {
     "elapsed": 922,
     "status": "ok",
     "timestamp": 1565008385587,
     "user": {
      "displayName": "Avinash Beck",
      "photoUrl": "",
      "userId": "14043619463729052163"
     },
     "user_tz": -330
    },
    "id": "VGzRdcXUPcKZ",
    "outputId": "ec0ed475-193f-4e32-972c-0edce9ebd87f"
   },
   "outputs": [
    {
     "name": "stdout",
     "output_type": "stream",
     "text": [
      "(6246, 42)\n",
      "(1562, 42)\n",
      "(6246,)\n",
      "(1562,)\n"
     ]
    }
   ],
   "source": [
    "# Splitting the data into train and test set and checking their shape\n",
    "\n",
    "from sklearn.model_selection import train_test_split\n",
    "x_train,x_test,y_train,y_test=train_test_split(x_sm,y_sm,test_size=0.20,random_state=12)\n",
    "print(x_train.shape)\n",
    "print(x_test.shape)\n",
    "print(y_train.shape)\n",
    "print(y_test.shape)"
   ]
  },
  {
   "cell_type": "code",
   "execution_count": 0,
   "metadata": {
    "colab": {
     "base_uri": "https://localhost:8080/",
     "height": 70
    },
    "colab_type": "code",
    "executionInfo": {
     "elapsed": 1123,
     "status": "ok",
     "timestamp": 1565008387931,
     "user": {
      "displayName": "Avinash Beck",
      "photoUrl": "",
      "userId": "14043619463729052163"
     },
     "user_tz": -330
    },
    "id": "53GS6DeWk2EL",
    "outputId": "5c7f4a10-fdd4-4411-c087-19846ed97379"
   },
   "outputs": [
    {
     "data": {
      "text/plain": [
       "1    3904\n",
       "0    3904\n",
       "dtype: int64"
      ]
     },
     "execution_count": 37,
     "metadata": {
      "tags": []
     },
     "output_type": "execute_result"
    }
   ],
   "source": [
    "pd.Series(y_sm).value_counts()                          # After SMOTE the classes are balanced"
   ]
  },
  {
   "cell_type": "code",
   "execution_count": 0,
   "metadata": {
    "colab": {
     "base_uri": "https://localhost:8080/",
     "height": 70
    },
    "colab_type": "code",
    "executionInfo": {
     "elapsed": 754,
     "status": "ok",
     "timestamp": 1565008387933,
     "user": {
      "displayName": "Avinash Beck",
      "photoUrl": "",
      "userId": "14043619463729052163"
     },
     "user_tz": -330
    },
    "id": "7pOt3GTck2EN",
    "outputId": "4bed542e-dd31-41da-9502-59100e5c8258"
   },
   "outputs": [
    {
     "data": {
      "text/plain": [
       "1    809\n",
       "0    753\n",
       "dtype: int64"
      ]
     },
     "execution_count": 38,
     "metadata": {
      "tags": []
     },
     "output_type": "execute_result"
    }
   ],
   "source": [
    "pd.Series(y_test).value_counts()"
   ]
  },
  {
   "cell_type": "code",
   "execution_count": 0,
   "metadata": {
    "colab": {},
    "colab_type": "code",
    "id": "o3OJUYkQk2EP"
   },
   "outputs": [],
   "source": [
    "#!pip install lightgbm                               # Installing LightGBM classifier"
   ]
  },
  {
   "cell_type": "code",
   "execution_count": 0,
   "metadata": {
    "colab": {},
    "colab_type": "code",
    "id": "dIzJhplZk2ER"
   },
   "outputs": [],
   "source": [
    "import lightgbm as lgb"
   ]
  },
  {
   "cell_type": "code",
   "execution_count": 0,
   "metadata": {
    "colab": {},
    "colab_type": "code",
    "id": "0MD_qeO3k2EU"
   },
   "outputs": [],
   "source": [
    "train_data = lgb.Dataset(x_train, label=y_train)\n",
    "params = {}\n",
    "params['learning_rate'] = 0.003                      # Learning rate \n",
    "params['boosting_type'] = 'gbdt'                     # Gradient Boosting Decision Tree\n",
    "params['objective'] = 'binary'                       # Classify into binary classes\n",
    "params['metric'] = 'binary_logloss'                  # metric is binary logloss\n",
    "params['sub_feature'] = 0.5\n",
    "params['num_leaves'] = 15                            # number of leaves in a full tree\n",
    "params['min_data'] = 50                              # minimum number of data in the last leaf \n",
    "params['max_depth'] = 10                             # depth of tree\n",
    "clf = lgb.train(params, train_data, 100)             # Train the model for 100 iteration"
   ]
  },
  {
   "cell_type": "markdown",
   "metadata": {
    "colab_type": "text",
    "id": "oi5SDfBak2EW"
   },
   "source": [
    "#### Prediction  train data"
   ]
  },
  {
   "cell_type": "code",
   "execution_count": 0,
   "metadata": {
    "colab": {},
    "colab_type": "code",
    "id": "wpM315ltk2EX"
   },
   "outputs": [],
   "source": [
    "train_pred = clf.predict(x_train)"
   ]
  },
  {
   "cell_type": "markdown",
   "metadata": {
    "colab_type": "text",
    "id": "R5MahaSGk2EY"
   },
   "source": [
    "#### Prediction on test data"
   ]
  },
  {
   "cell_type": "code",
   "execution_count": 0,
   "metadata": {
    "colab": {},
    "colab_type": "code",
    "id": "gfid7VEXk2EZ"
   },
   "outputs": [],
   "source": [
    "lightgbm_pred=clf.predict(x_test)"
   ]
  },
  {
   "cell_type": "code",
   "execution_count": 0,
   "metadata": {
    "colab": {},
    "colab_type": "code",
    "id": "BMDd3ldAk2Ea"
   },
   "outputs": [],
   "source": [
    "\n",
    "#convert into binary values\n",
    "for i in range(0,6246):         # 6246 is the number of records\n",
    "    if train_pred[i]>=.5:       # setting threshold to .5\n",
    "       train_pred[i]=1\n",
    "    else:  \n",
    "       train_pred[i]=0"
   ]
  },
  {
   "cell_type": "markdown",
   "metadata": {
    "colab_type": "text",
    "id": "cKYz6ZyHk2Ec"
   },
   "source": [
    "#### Train performance"
   ]
  },
  {
   "cell_type": "code",
   "execution_count": 0,
   "metadata": {
    "colab": {
     "base_uri": "https://localhost:8080/",
     "height": 34
    },
    "colab_type": "code",
    "executionInfo": {
     "elapsed": 886,
     "status": "ok",
     "timestamp": 1565008411658,
     "user": {
      "displayName": "Avinash Beck",
      "photoUrl": "",
      "userId": "14043619463729052163"
     },
     "user_tz": -330
    },
    "id": "SwHfUK0Yk2Ed",
    "outputId": "adc31b4d-d507-4725-f1fd-b95287b61a76"
   },
   "outputs": [
    {
     "name": "stdout",
     "output_type": "stream",
     "text": [
      "0.9081011847582453\n"
     ]
    }
   ],
   "source": [
    "print(accuracy_score(y_train, train_pred))            # Accuracy of the model"
   ]
  },
  {
   "cell_type": "code",
   "execution_count": 0,
   "metadata": {
    "colab": {
     "base_uri": "https://localhost:8080/",
     "height": 175
    },
    "colab_type": "code",
    "executionInfo": {
     "elapsed": 893,
     "status": "ok",
     "timestamp": 1565008414959,
     "user": {
      "displayName": "Avinash Beck",
      "photoUrl": "",
      "userId": "14043619463729052163"
     },
     "user_tz": -330
    },
    "id": "ucluJwIak2Ee",
    "outputId": "e0afdb1e-ac63-4019-b02f-d1f5f8b9d132"
   },
   "outputs": [
    {
     "name": "stdout",
     "output_type": "stream",
     "text": [
      "              precision    recall  f1-score   support\n",
      "\n",
      "           0       0.90      0.92      0.91      3151\n",
      "           1       0.92      0.89      0.91      3095\n",
      "\n",
      "    accuracy                           0.91      6246\n",
      "   macro avg       0.91      0.91      0.91      6246\n",
      "weighted avg       0.91      0.91      0.91      6246\n",
      "\n"
     ]
    }
   ],
   "source": [
    "print(classification_report(y_train, train_pred))     "
   ]
  },
  {
   "cell_type": "markdown",
   "metadata": {
    "colab_type": "text",
    "id": "7kYBbvtIk2Eg"
   },
   "source": [
    "#### Validation performance"
   ]
  },
  {
   "cell_type": "code",
   "execution_count": 0,
   "metadata": {
    "colab": {},
    "colab_type": "code",
    "id": "d3EsOFUpk2Eh"
   },
   "outputs": [],
   "source": [
    "y_pred=clf.predict(x_test)\n",
    "#convert into binary values\n",
    "for i in range(0,1562):\n",
    "    if y_pred[i]>=.5:       # setting threshold to .5\n",
    "       y_pred[i]=1\n",
    "    else:  \n",
    "       y_pred[i]=0"
   ]
  },
  {
   "cell_type": "code",
   "execution_count": 0,
   "metadata": {
    "colab": {
     "base_uri": "https://localhost:8080/",
     "height": 34
    },
    "colab_type": "code",
    "executionInfo": {
     "elapsed": 772,
     "status": "ok",
     "timestamp": 1565008421273,
     "user": {
      "displayName": "Avinash Beck",
      "photoUrl": "",
      "userId": "14043619463729052163"
     },
     "user_tz": -330
    },
    "id": "WD8uHKdDk2Ei",
    "outputId": "2b412866-991b-441d-9dcd-baee1a78b024"
   },
   "outputs": [
    {
     "data": {
      "text/plain": [
       "array([0., 1., 0., ..., 0., 1., 0.])"
      ]
     },
     "execution_count": 47,
     "metadata": {
      "tags": []
     },
     "output_type": "execute_result"
    }
   ],
   "source": [
    "y_pred"
   ]
  },
  {
   "cell_type": "code",
   "execution_count": 0,
   "metadata": {
    "colab": {
     "base_uri": "https://localhost:8080/",
     "height": 263
    },
    "colab_type": "code",
    "executionInfo": {
     "elapsed": 754,
     "status": "ok",
     "timestamp": 1565008422443,
     "user": {
      "displayName": "Avinash Beck",
      "photoUrl": "",
      "userId": "14043619463729052163"
     },
     "user_tz": -330
    },
    "id": "H3x3a6bok2Em",
    "outputId": "7f457070-cff3-482a-cc35-dacc3103e936"
   },
   "outputs": [
    {
     "name": "stdout",
     "output_type": "stream",
     "text": [
      "[[704  49]\n",
      " [ 90 719]]\n",
      "accuracy_score \n",
      " 0.91101152368758\n",
      "classification_report \n",
      "               precision    recall  f1-score   support\n",
      "\n",
      "           0       0.89      0.93      0.91       753\n",
      "           1       0.94      0.89      0.91       809\n",
      "\n",
      "    accuracy                           0.91      1562\n",
      "   macro avg       0.91      0.91      0.91      1562\n",
      "weighted avg       0.91      0.91      0.91      1562\n",
      "\n"
     ]
    }
   ],
   "source": [
    "# Checking all the metrics for the Test data\n",
    "\n",
    "print(confusion_matrix(y_test, y_pred))                                # Print confusion matrix\n",
    "\n",
    "from sklearn.metrics import accuracy_score\n",
    "accuracy=accuracy_score(y_pred,y_test)\n",
    "\n",
    "print('accuracy_score \\n',accuracy_score(y_test,y_pred))\n",
    "\n",
    "print('classification_report \\n',classification_report(y_test,y_pred))"
   ]
  },
  {
   "cell_type": "code",
   "execution_count": 0,
   "metadata": {
    "colab": {
     "base_uri": "https://localhost:8080/",
     "height": 34
    },
    "colab_type": "code",
    "executionInfo": {
     "elapsed": 962,
     "status": "ok",
     "timestamp": 1565008449155,
     "user": {
      "displayName": "Avinash Beck",
      "photoUrl": "",
      "userId": "14043619463729052163"
     },
     "user_tz": -330
    },
    "id": "dilYsMtqk2En",
    "outputId": "54387a43-1f66-4244-e5b8-645abd376d16"
   },
   "outputs": [
    {
     "data": {
      "text/plain": [
       "0.8887515451174289"
      ]
     },
     "execution_count": 50,
     "metadata": {
      "tags": []
     },
     "output_type": "execute_result"
    }
   ],
   "source": [
    "from sklearn.metrics import recall_score\n",
    "recall_score(y_test, y_pred)"
   ]
  },
  {
   "cell_type": "markdown",
   "metadata": {
    "colab_type": "text",
    "id": "m6IrJmeak2Ep"
   },
   "source": [
    "### Prediction for upcoming four days"
   ]
  },
  {
   "cell_type": "markdown",
   "metadata": {
    "colab_type": "text",
    "id": "llCU0I31k2Eq"
   },
   "source": [
    "#### Day 1 prediction"
   ]
  },
  {
   "cell_type": "markdown",
   "metadata": {
    "colab_type": "text",
    "id": "4cyMr-G6k2Eq"
   },
   "source": [
    "#### Import Day 1 data"
   ]
  },
  {
   "cell_type": "markdown",
   "metadata": {
    "colab_type": "text",
    "id": "cn-9DM-qk2Es"
   },
   "source": [
    "We have received Day1 data(Input)\n",
    "\n",
    "\n",
    "Import day1_input"
   ]
  },
  {
   "cell_type": "code",
   "execution_count": 0,
   "metadata": {
    "colab": {},
    "colab_type": "code",
    "id": "iLuUA37tk2Es"
   },
   "outputs": [],
   "source": [
    "day1_input_df=pd.read_csv('Day1_input.xls')"
   ]
  },
  {
   "cell_type": "code",
   "execution_count": 0,
   "metadata": {
    "colab": {
     "base_uri": "https://localhost:8080/",
     "height": 34
    },
    "colab_type": "code",
    "executionInfo": {
     "elapsed": 943,
     "status": "ok",
     "timestamp": 1565008847176,
     "user": {
      "displayName": "Avinash Beck",
      "photoUrl": "",
      "userId": "14043619463729052163"
     },
     "user_tz": -330
    },
    "id": "e7fxVHT5y72E",
    "outputId": "d58bd7ab-da02-43e3-f827-ec02f3c74253"
   },
   "outputs": [
    {
     "data": {
      "text/plain": [
       "(27, 16)"
      ]
     },
     "execution_count": 60,
     "metadata": {
      "tags": []
     },
     "output_type": "execute_result"
    }
   ],
   "source": [
    "day1_input_df.shape            # Rows and columns"
   ]
  },
  {
   "cell_type": "code",
   "execution_count": 0,
   "metadata": {
    "colab": {
     "base_uri": "https://localhost:8080/",
     "height": 215
    },
    "colab_type": "code",
    "executionInfo": {
     "elapsed": 640,
     "status": "ok",
     "timestamp": 1565008574449,
     "user": {
      "displayName": "Avinash Beck",
      "photoUrl": "",
      "userId": "14043619463729052163"
     },
     "user_tz": -330
    },
    "id": "zcsKrcehk2Eu",
    "outputId": "17275f8c-5c73-4d27-9561-43a3393dc143"
   },
   "outputs": [
    {
     "data": {
      "text/html": [
       "<div>\n",
       "<style scoped>\n",
       "    .dataframe tbody tr th:only-of-type {\n",
       "        vertical-align: middle;\n",
       "    }\n",
       "\n",
       "    .dataframe tbody tr th {\n",
       "        vertical-align: top;\n",
       "    }\n",
       "\n",
       "    .dataframe thead th {\n",
       "        text-align: right;\n",
       "    }\n",
       "</style>\n",
       "<table border=\"1\" class=\"dataframe\">\n",
       "  <thead>\n",
       "    <tr style=\"text-align: right;\">\n",
       "      <th></th>\n",
       "      <th>age</th>\n",
       "      <th>job</th>\n",
       "      <th>marital</th>\n",
       "      <th>education</th>\n",
       "      <th>default</th>\n",
       "      <th>balance</th>\n",
       "      <th>housing</th>\n",
       "      <th>loan</th>\n",
       "      <th>contact</th>\n",
       "      <th>day</th>\n",
       "      <th>month</th>\n",
       "      <th>duration</th>\n",
       "      <th>campaign</th>\n",
       "      <th>pdays</th>\n",
       "      <th>previous</th>\n",
       "      <th>poutcome</th>\n",
       "    </tr>\n",
       "  </thead>\n",
       "  <tbody>\n",
       "    <tr>\n",
       "      <th>22</th>\n",
       "      <td>60</td>\n",
       "      <td>admin.</td>\n",
       "      <td>married</td>\n",
       "      <td>unknown</td>\n",
       "      <td>no</td>\n",
       "      <td>1088</td>\n",
       "      <td>yes</td>\n",
       "      <td>no</td>\n",
       "      <td>cellular</td>\n",
       "      <td>26</td>\n",
       "      <td>may</td>\n",
       "      <td>149</td>\n",
       "      <td>1</td>\n",
       "      <td>-1</td>\n",
       "      <td>0</td>\n",
       "      <td>unknown</td>\n",
       "    </tr>\n",
       "    <tr>\n",
       "      <th>23</th>\n",
       "      <td>37</td>\n",
       "      <td>technician</td>\n",
       "      <td>single</td>\n",
       "      <td>secondary</td>\n",
       "      <td>no</td>\n",
       "      <td>228</td>\n",
       "      <td>yes</td>\n",
       "      <td>no</td>\n",
       "      <td>cellular</td>\n",
       "      <td>20</td>\n",
       "      <td>aug</td>\n",
       "      <td>1740</td>\n",
       "      <td>2</td>\n",
       "      <td>-1</td>\n",
       "      <td>0</td>\n",
       "      <td>unknown</td>\n",
       "    </tr>\n",
       "    <tr>\n",
       "      <th>24</th>\n",
       "      <td>20</td>\n",
       "      <td>student</td>\n",
       "      <td>single</td>\n",
       "      <td>secondary</td>\n",
       "      <td>no</td>\n",
       "      <td>502</td>\n",
       "      <td>no</td>\n",
       "      <td>no</td>\n",
       "      <td>cellular</td>\n",
       "      <td>30</td>\n",
       "      <td>apr</td>\n",
       "      <td>261</td>\n",
       "      <td>1</td>\n",
       "      <td>-1</td>\n",
       "      <td>0</td>\n",
       "      <td>unknown</td>\n",
       "    </tr>\n",
       "    <tr>\n",
       "      <th>25</th>\n",
       "      <td>68</td>\n",
       "      <td>retired</td>\n",
       "      <td>divorced</td>\n",
       "      <td>secondary</td>\n",
       "      <td>no</td>\n",
       "      <td>4189</td>\n",
       "      <td>no</td>\n",
       "      <td>no</td>\n",
       "      <td>telephone</td>\n",
       "      <td>14</td>\n",
       "      <td>jul</td>\n",
       "      <td>897</td>\n",
       "      <td>2</td>\n",
       "      <td>-1</td>\n",
       "      <td>0</td>\n",
       "      <td>unknown</td>\n",
       "    </tr>\n",
       "    <tr>\n",
       "      <th>26</th>\n",
       "      <td>32</td>\n",
       "      <td>management</td>\n",
       "      <td>single</td>\n",
       "      <td>tertiary</td>\n",
       "      <td>no</td>\n",
       "      <td>2536</td>\n",
       "      <td>yes</td>\n",
       "      <td>no</td>\n",
       "      <td>cellular</td>\n",
       "      <td>26</td>\n",
       "      <td>aug</td>\n",
       "      <td>958</td>\n",
       "      <td>6</td>\n",
       "      <td>-1</td>\n",
       "      <td>0</td>\n",
       "      <td>unknown</td>\n",
       "    </tr>\n",
       "  </tbody>\n",
       "</table>\n",
       "</div>"
      ],
      "text/plain": [
       "    age         job   marital  education default  balance housing loan  \\\n",
       "22   60      admin.   married    unknown      no     1088     yes   no   \n",
       "23   37  technician    single  secondary      no      228     yes   no   \n",
       "24   20     student    single  secondary      no      502      no   no   \n",
       "25   68     retired  divorced  secondary      no     4189      no   no   \n",
       "26   32  management    single   tertiary      no     2536     yes   no   \n",
       "\n",
       "      contact  day month  duration  campaign  pdays  previous poutcome  \n",
       "22   cellular   26   may       149         1     -1         0  unknown  \n",
       "23   cellular   20   aug      1740         2     -1         0  unknown  \n",
       "24   cellular   30   apr       261         1     -1         0  unknown  \n",
       "25  telephone   14   jul       897         2     -1         0  unknown  \n",
       "26   cellular   26   aug       958         6     -1         0  unknown  "
      ]
     },
     "execution_count": 53,
     "metadata": {
      "tags": []
     },
     "output_type": "execute_result"
    }
   ],
   "source": [
    "day1_input_df.tail()           # Check the last 5 rows"
   ]
  },
  {
   "cell_type": "markdown",
   "metadata": {
    "colab_type": "text",
    "id": "LlHu9XvIylHU"
   },
   "source": [
    "#### Feature Engineering the data from Day 1"
   ]
  },
  {
   "cell_type": "code",
   "execution_count": 0,
   "metadata": {
    "colab": {},
    "colab_type": "code",
    "id": "PTxOwnGtk2Ew"
   },
   "outputs": [],
   "source": [
    "new_input_features=x.append(day1_input_df)    # Add the last 5 days to train data"
   ]
  },
  {
   "cell_type": "code",
   "execution_count": 0,
   "metadata": {
    "colab": {
     "base_uri": "https://localhost:8080/",
     "height": 215
    },
    "colab_type": "code",
    "executionInfo": {
     "elapsed": 902,
     "status": "ok",
     "timestamp": 1565008642300,
     "user": {
      "displayName": "Avinash Beck",
      "photoUrl": "",
      "userId": "14043619463729052163"
     },
     "user_tz": -330
    },
    "id": "dtOJeD4_k2Ey",
    "outputId": "63f862af-0eb3-419e-ff62-9d03b3663e09"
   },
   "outputs": [
    {
     "data": {
      "text/html": [
       "<div>\n",
       "<style scoped>\n",
       "    .dataframe tbody tr th:only-of-type {\n",
       "        vertical-align: middle;\n",
       "    }\n",
       "\n",
       "    .dataframe tbody tr th {\n",
       "        vertical-align: top;\n",
       "    }\n",
       "\n",
       "    .dataframe thead th {\n",
       "        text-align: right;\n",
       "    }\n",
       "</style>\n",
       "<table border=\"1\" class=\"dataframe\">\n",
       "  <thead>\n",
       "    <tr style=\"text-align: right;\">\n",
       "      <th></th>\n",
       "      <th>age</th>\n",
       "      <th>job</th>\n",
       "      <th>marital</th>\n",
       "      <th>education</th>\n",
       "      <th>default</th>\n",
       "      <th>balance</th>\n",
       "      <th>housing</th>\n",
       "      <th>loan</th>\n",
       "      <th>contact</th>\n",
       "      <th>day</th>\n",
       "      <th>month</th>\n",
       "      <th>duration</th>\n",
       "      <th>campaign</th>\n",
       "      <th>pdays</th>\n",
       "      <th>previous</th>\n",
       "      <th>poutcome</th>\n",
       "    </tr>\n",
       "  </thead>\n",
       "  <tbody>\n",
       "    <tr>\n",
       "      <th>22</th>\n",
       "      <td>60</td>\n",
       "      <td>admin.</td>\n",
       "      <td>married</td>\n",
       "      <td>unknown</td>\n",
       "      <td>no</td>\n",
       "      <td>1088</td>\n",
       "      <td>yes</td>\n",
       "      <td>no</td>\n",
       "      <td>cellular</td>\n",
       "      <td>26</td>\n",
       "      <td>may</td>\n",
       "      <td>149</td>\n",
       "      <td>1</td>\n",
       "      <td>-1</td>\n",
       "      <td>0</td>\n",
       "      <td>unknown</td>\n",
       "    </tr>\n",
       "    <tr>\n",
       "      <th>23</th>\n",
       "      <td>37</td>\n",
       "      <td>technician</td>\n",
       "      <td>single</td>\n",
       "      <td>secondary</td>\n",
       "      <td>no</td>\n",
       "      <td>228</td>\n",
       "      <td>yes</td>\n",
       "      <td>no</td>\n",
       "      <td>cellular</td>\n",
       "      <td>20</td>\n",
       "      <td>aug</td>\n",
       "      <td>1740</td>\n",
       "      <td>2</td>\n",
       "      <td>-1</td>\n",
       "      <td>0</td>\n",
       "      <td>unknown</td>\n",
       "    </tr>\n",
       "    <tr>\n",
       "      <th>24</th>\n",
       "      <td>20</td>\n",
       "      <td>student</td>\n",
       "      <td>single</td>\n",
       "      <td>secondary</td>\n",
       "      <td>no</td>\n",
       "      <td>502</td>\n",
       "      <td>no</td>\n",
       "      <td>no</td>\n",
       "      <td>cellular</td>\n",
       "      <td>30</td>\n",
       "      <td>apr</td>\n",
       "      <td>261</td>\n",
       "      <td>1</td>\n",
       "      <td>-1</td>\n",
       "      <td>0</td>\n",
       "      <td>unknown</td>\n",
       "    </tr>\n",
       "    <tr>\n",
       "      <th>25</th>\n",
       "      <td>68</td>\n",
       "      <td>retired</td>\n",
       "      <td>divorced</td>\n",
       "      <td>secondary</td>\n",
       "      <td>no</td>\n",
       "      <td>4189</td>\n",
       "      <td>no</td>\n",
       "      <td>no</td>\n",
       "      <td>telephone</td>\n",
       "      <td>14</td>\n",
       "      <td>jul</td>\n",
       "      <td>897</td>\n",
       "      <td>2</td>\n",
       "      <td>-1</td>\n",
       "      <td>0</td>\n",
       "      <td>unknown</td>\n",
       "    </tr>\n",
       "    <tr>\n",
       "      <th>26</th>\n",
       "      <td>32</td>\n",
       "      <td>management</td>\n",
       "      <td>single</td>\n",
       "      <td>tertiary</td>\n",
       "      <td>no</td>\n",
       "      <td>2536</td>\n",
       "      <td>yes</td>\n",
       "      <td>no</td>\n",
       "      <td>cellular</td>\n",
       "      <td>26</td>\n",
       "      <td>aug</td>\n",
       "      <td>958</td>\n",
       "      <td>6</td>\n",
       "      <td>-1</td>\n",
       "      <td>0</td>\n",
       "      <td>unknown</td>\n",
       "    </tr>\n",
       "  </tbody>\n",
       "</table>\n",
       "</div>"
      ],
      "text/plain": [
       "    age         job   marital  education default  balance housing loan  \\\n",
       "22   60      admin.   married    unknown      no     1088     yes   no   \n",
       "23   37  technician    single  secondary      no      228     yes   no   \n",
       "24   20     student    single  secondary      no      502      no   no   \n",
       "25   68     retired  divorced  secondary      no     4189      no   no   \n",
       "26   32  management    single   tertiary      no     2536     yes   no   \n",
       "\n",
       "      contact  day month  duration  campaign  pdays  previous poutcome  \n",
       "22   cellular   26   may       149         1     -1         0  unknown  \n",
       "23   cellular   20   aug      1740         2     -1         0  unknown  \n",
       "24   cellular   30   apr       261         1     -1         0  unknown  \n",
       "25  telephone   14   jul       897         2     -1         0  unknown  \n",
       "26   cellular   26   aug       958         6     -1         0  unknown  "
      ]
     },
     "execution_count": 55,
     "metadata": {
      "tags": []
     },
     "output_type": "execute_result"
    }
   ],
   "source": [
    "new_input_features.tail()                     # Check the last 5 rows"
   ]
  },
  {
   "cell_type": "code",
   "execution_count": 0,
   "metadata": {
    "colab": {},
    "colab_type": "code",
    "id": "62KXuhWlk2E0"
   },
   "outputs": [],
   "source": [
    "# Dummify categorical features \n",
    "\n",
    "job_dummies1=pd.get_dummies(new_input_features['job'],prefix='Job',drop_first=True)\n",
    "marital_dummies1=pd.get_dummies(new_input_features['marital'],prefix='Marital',drop_first=True)\n",
    "edu_dummies1=pd.get_dummies(new_input_features['education'],prefix='Edu',drop_first=True)\n",
    "default_dummies1=pd.get_dummies(new_input_features['default'],prefix='Default',drop_first=True)\n",
    "housing_dummies1=pd.get_dummies(new_input_features['housing'],prefix='House',drop_first=True)\n",
    "loan_dummies1=pd.get_dummies(new_input_features['loan'],prefix='Loan',drop_first=True)\n",
    "contact_dummies1=pd.get_dummies(new_input_features['contact'],prefix='Contact',drop_first=True)\n",
    "month_dummies1=pd.get_dummies(new_input_features['month'],prefix='Month',drop_first=True)\n",
    "poutcome_dummies1=pd.get_dummies(new_input_features['poutcome'],prefix='poutcome',drop_first=True)"
   ]
  },
  {
   "cell_type": "code",
   "execution_count": 0,
   "metadata": {
    "colab": {},
    "colab_type": "code",
    "id": "aSIx2mh6k2E2"
   },
   "outputs": [],
   "source": [
    "new_input_features=pd.concat([new_input_features,job_dummies1,marital_dummies1,edu_dummies1,default_dummies1,housing_dummies1,loan_dummies1,contact_dummies1,month_dummies1,poutcome_dummies1],1)"
   ]
  },
  {
   "cell_type": "code",
   "execution_count": 0,
   "metadata": {
    "colab": {},
    "colab_type": "code",
    "id": "rUYmt-40k2E3"
   },
   "outputs": [],
   "source": [
    "new_input_features=new_input_features.drop(['job','marital','education','default','housing','loan','month','poutcome','contact'],axis=1)"
   ]
  },
  {
   "cell_type": "code",
   "execution_count": 0,
   "metadata": {
    "colab": {
     "base_uri": "https://localhost:8080/",
     "height": 34
    },
    "colab_type": "code",
    "executionInfo": {
     "elapsed": 2588,
     "status": "ok",
     "timestamp": 1565008825993,
     "user": {
      "displayName": "Avinash Beck",
      "photoUrl": "",
      "userId": "14043619463729052163"
     },
     "user_tz": -330
    },
    "id": "egPmQmKMk2E7",
    "outputId": "ba610df5-f97e-423e-b561-cdf78ab37f92"
   },
   "outputs": [
    {
     "data": {
      "text/plain": [
       "(4440, 42)"
      ]
     },
     "execution_count": 59,
     "metadata": {
      "tags": []
     },
     "output_type": "execute_result"
    }
   ],
   "source": [
    "new_input_features.shape"
   ]
  },
  {
   "cell_type": "code",
   "execution_count": 0,
   "metadata": {
    "colab": {},
    "colab_type": "code",
    "id": "VOGDxI0qk2E9"
   },
   "outputs": [],
   "source": [
    "# Removing the last 27 rows from the Day 1 data\n",
    "\n",
    "onehot_encoded_new_input_features_day1=new_input_features.iloc[-27:,:]"
   ]
  },
  {
   "cell_type": "code",
   "execution_count": 0,
   "metadata": {
    "colab": {
     "base_uri": "https://localhost:8080/",
     "height": 34
    },
    "colab_type": "code",
    "executionInfo": {
     "elapsed": 866,
     "status": "ok",
     "timestamp": 1565008883542,
     "user": {
      "displayName": "Avinash Beck",
      "photoUrl": "",
      "userId": "14043619463729052163"
     },
     "user_tz": -330
    },
    "id": "-W948ghgk2E-",
    "outputId": "829e5746-43ee-4777-9b3b-a536374dac82"
   },
   "outputs": [
    {
     "data": {
      "text/plain": [
       "(27, 42)"
      ]
     },
     "execution_count": 62,
     "metadata": {
      "tags": []
     },
     "output_type": "execute_result"
    }
   ],
   "source": [
    "onehot_encoded_new_input_features_day1.shape"
   ]
  },
  {
   "cell_type": "markdown",
   "metadata": {
    "colab_type": "text",
    "id": "y_wRt9L7k2FA"
   },
   "source": [
    "#### Predicting day1 data"
   ]
  },
  {
   "cell_type": "code",
   "execution_count": 0,
   "metadata": {
    "colab": {},
    "colab_type": "code",
    "id": "jEcAogUQk2FA"
   },
   "outputs": [],
   "source": [
    "day1_pred=clf.predict(onehot_encoded_new_input_features_day1)"
   ]
  },
  {
   "cell_type": "code",
   "execution_count": 0,
   "metadata": {
    "colab": {},
    "colab_type": "code",
    "id": "Lf5WlKJRk2FB"
   },
   "outputs": [],
   "source": [
    "for i in range(0,27):\n",
    "    if day1_pred[i]>=.5:       # setting threshold to .5\n",
    "       day1_pred[i]=1\n",
    "    else:  \n",
    "       day1_pred[i]=0"
   ]
  },
  {
   "cell_type": "markdown",
   "metadata": {
    "colab_type": "text",
    "id": "4SEWSF16k2FD"
   },
   "source": [
    "We have received actual what happend on day1(Actual day1_output)"
   ]
  },
  {
   "cell_type": "code",
   "execution_count": 0,
   "metadata": {
    "colab": {},
    "colab_type": "code",
    "id": "ngUoDz0rk2FD"
   },
   "outputs": [],
   "source": [
    "day1_actual_output=pd.read_csv('Day1_Actual_output.xls')"
   ]
  },
  {
   "cell_type": "code",
   "execution_count": 0,
   "metadata": {
    "colab": {
     "base_uri": "https://localhost:8080/",
     "height": 72
    },
    "colab_type": "code",
    "executionInfo": {
     "elapsed": 878,
     "status": "ok",
     "timestamp": 1565008908536,
     "user": {
      "displayName": "Avinash Beck",
      "photoUrl": "",
      "userId": "14043619463729052163"
     },
     "user_tz": -330
    },
    "id": "4Kw-0pkEk2FF",
    "outputId": "dfddc246-42e2-406b-e859-beca5ece107b"
   },
   "outputs": [
    {
     "name": "stderr",
     "output_type": "stream",
     "text": [
      "/usr/local/lib/python3.6/dist-packages/sklearn/preprocessing/label.py:235: DataConversionWarning: A column-vector y was passed when a 1d array was expected. Please change the shape of y to (n_samples, ), for example using ravel().\n",
      "  y = column_or_1d(y, warn=True)\n"
     ]
    }
   ],
   "source": [
    "day1_actual_output=le.fit_transform(day1_actual_output)"
   ]
  },
  {
   "cell_type": "code",
   "execution_count": 0,
   "metadata": {
    "colab": {
     "base_uri": "https://localhost:8080/",
     "height": 175
    },
    "colab_type": "code",
    "executionInfo": {
     "elapsed": 907,
     "status": "ok",
     "timestamp": 1565008911564,
     "user": {
      "displayName": "Avinash Beck",
      "photoUrl": "",
      "userId": "14043619463729052163"
     },
     "user_tz": -330
    },
    "id": "DLmGTqd8k2FH",
    "outputId": "7f40cada-b65f-44ee-a4e5-09310674b56c"
   },
   "outputs": [
    {
     "name": "stdout",
     "output_type": "stream",
     "text": [
      "              precision    recall  f1-score   support\n",
      "\n",
      "           0       1.00      0.79      0.88        24\n",
      "           1       0.38      1.00      0.55         3\n",
      "\n",
      "    accuracy                           0.81        27\n",
      "   macro avg       0.69      0.90      0.71        27\n",
      "weighted avg       0.93      0.81      0.85        27\n",
      "\n"
     ]
    }
   ],
   "source": [
    "print(classification_report(day1_actual_output,day1_pred))"
   ]
  },
  {
   "cell_type": "code",
   "execution_count": 0,
   "metadata": {
    "colab": {
     "base_uri": "https://localhost:8080/",
     "height": 52
    },
    "colab_type": "code",
    "executionInfo": {
     "elapsed": 909,
     "status": "ok",
     "timestamp": 1565008914347,
     "user": {
      "displayName": "Avinash Beck",
      "photoUrl": "",
      "userId": "14043619463729052163"
     },
     "user_tz": -330
    },
    "id": "uxErVmr6k2FJ",
    "outputId": "d0650b5e-114e-499b-95ce-8c5c72aa58aa"
   },
   "outputs": [
    {
     "name": "stdout",
     "output_type": "stream",
     "text": [
      "[[19  5]\n",
      " [ 0  3]]\n"
     ]
    }
   ],
   "source": [
    "print(confusion_matrix(day1_actual_output,day1_pred))"
   ]
  },
  {
   "cell_type": "code",
   "execution_count": 0,
   "metadata": {
    "colab": {
     "base_uri": "https://localhost:8080/",
     "height": 34
    },
    "colab_type": "code",
    "executionInfo": {
     "elapsed": 837,
     "status": "ok",
     "timestamp": 1565008915858,
     "user": {
      "displayName": "Avinash Beck",
      "photoUrl": "",
      "userId": "14043619463729052163"
     },
     "user_tz": -330
    },
    "id": "htXko6kJk2FM",
    "outputId": "5ddf764f-7c4d-4cb7-9708-a7a1392c5171"
   },
   "outputs": [
    {
     "data": {
      "text/plain": [
       "1.0"
      ]
     },
     "execution_count": 70,
     "metadata": {
      "tags": []
     },
     "output_type": "execute_result"
    }
   ],
   "source": [
    "day1_recall=recall_score(day1_actual_output,day1_pred)\n",
    "day1_recall"
   ]
  },
  {
   "cell_type": "markdown",
   "metadata": {
    "colab_type": "text",
    "id": "yHKq33i_k2FO"
   },
   "source": [
    "#### Data of Day 2 prediction"
   ]
  },
  {
   "cell_type": "markdown",
   "metadata": {
    "colab_type": "text",
    "id": "XAZvmQijk2FO"
   },
   "source": [
    "We have received Day2 data(Input)\n",
    "\n",
    "\n",
    "Import day2_input"
   ]
  },
  {
   "cell_type": "code",
   "execution_count": 0,
   "metadata": {
    "colab": {},
    "colab_type": "code",
    "id": "w3DyGB2Rk2FO"
   },
   "outputs": [],
   "source": [
    "day2_input_df=pd.read_csv('Day2_input.xls')"
   ]
  },
  {
   "cell_type": "code",
   "execution_count": 0,
   "metadata": {
    "colab": {
     "base_uri": "https://localhost:8080/",
     "height": 195
    },
    "colab_type": "code",
    "executionInfo": {
     "elapsed": 872,
     "status": "ok",
     "timestamp": 1565008986060,
     "user": {
      "displayName": "Avinash Beck",
      "photoUrl": "",
      "userId": "14043619463729052163"
     },
     "user_tz": -330
    },
    "id": "5tgVooESk2FQ",
    "outputId": "006e88ed-f289-4f56-ad87-0374fdd0a581"
   },
   "outputs": [
    {
     "data": {
      "text/html": [
       "<div>\n",
       "<style scoped>\n",
       "    .dataframe tbody tr th:only-of-type {\n",
       "        vertical-align: middle;\n",
       "    }\n",
       "\n",
       "    .dataframe tbody tr th {\n",
       "        vertical-align: top;\n",
       "    }\n",
       "\n",
       "    .dataframe thead th {\n",
       "        text-align: right;\n",
       "    }\n",
       "</style>\n",
       "<table border=\"1\" class=\"dataframe\">\n",
       "  <thead>\n",
       "    <tr style=\"text-align: right;\">\n",
       "      <th></th>\n",
       "      <th>age</th>\n",
       "      <th>job</th>\n",
       "      <th>marital</th>\n",
       "      <th>education</th>\n",
       "      <th>default</th>\n",
       "      <th>balance</th>\n",
       "      <th>housing</th>\n",
       "      <th>loan</th>\n",
       "      <th>contact</th>\n",
       "      <th>day</th>\n",
       "      <th>month</th>\n",
       "      <th>duration</th>\n",
       "      <th>campaign</th>\n",
       "      <th>pdays</th>\n",
       "      <th>previous</th>\n",
       "      <th>poutcome</th>\n",
       "    </tr>\n",
       "  </thead>\n",
       "  <tbody>\n",
       "    <tr>\n",
       "      <th>22</th>\n",
       "      <td>58</td>\n",
       "      <td>retired</td>\n",
       "      <td>married</td>\n",
       "      <td>primary</td>\n",
       "      <td>no</td>\n",
       "      <td>3401</td>\n",
       "      <td>yes</td>\n",
       "      <td>no</td>\n",
       "      <td>cellular</td>\n",
       "      <td>3</td>\n",
       "      <td>feb</td>\n",
       "      <td>84</td>\n",
       "      <td>3</td>\n",
       "      <td>265</td>\n",
       "      <td>2</td>\n",
       "      <td>failure</td>\n",
       "    </tr>\n",
       "    <tr>\n",
       "      <th>23</th>\n",
       "      <td>57</td>\n",
       "      <td>retired</td>\n",
       "      <td>married</td>\n",
       "      <td>primary</td>\n",
       "      <td>no</td>\n",
       "      <td>808</td>\n",
       "      <td>no</td>\n",
       "      <td>no</td>\n",
       "      <td>telephone</td>\n",
       "      <td>7</td>\n",
       "      <td>jul</td>\n",
       "      <td>274</td>\n",
       "      <td>1</td>\n",
       "      <td>-1</td>\n",
       "      <td>0</td>\n",
       "      <td>unknown</td>\n",
       "    </tr>\n",
       "    <tr>\n",
       "      <th>24</th>\n",
       "      <td>49</td>\n",
       "      <td>technician</td>\n",
       "      <td>married</td>\n",
       "      <td>tertiary</td>\n",
       "      <td>no</td>\n",
       "      <td>1235</td>\n",
       "      <td>no</td>\n",
       "      <td>no</td>\n",
       "      <td>cellular</td>\n",
       "      <td>13</td>\n",
       "      <td>aug</td>\n",
       "      <td>354</td>\n",
       "      <td>3</td>\n",
       "      <td>-1</td>\n",
       "      <td>0</td>\n",
       "      <td>unknown</td>\n",
       "    </tr>\n",
       "    <tr>\n",
       "      <th>25</th>\n",
       "      <td>78</td>\n",
       "      <td>retired</td>\n",
       "      <td>divorced</td>\n",
       "      <td>primary</td>\n",
       "      <td>no</td>\n",
       "      <td>229</td>\n",
       "      <td>no</td>\n",
       "      <td>no</td>\n",
       "      <td>telephone</td>\n",
       "      <td>22</td>\n",
       "      <td>oct</td>\n",
       "      <td>97</td>\n",
       "      <td>1</td>\n",
       "      <td>-1</td>\n",
       "      <td>0</td>\n",
       "      <td>unknown</td>\n",
       "    </tr>\n",
       "    <tr>\n",
       "      <th>26</th>\n",
       "      <td>32</td>\n",
       "      <td>blue-collar</td>\n",
       "      <td>married</td>\n",
       "      <td>secondary</td>\n",
       "      <td>no</td>\n",
       "      <td>2089</td>\n",
       "      <td>yes</td>\n",
       "      <td>no</td>\n",
       "      <td>cellular</td>\n",
       "      <td>14</td>\n",
       "      <td>nov</td>\n",
       "      <td>132</td>\n",
       "      <td>1</td>\n",
       "      <td>-1</td>\n",
       "      <td>0</td>\n",
       "      <td>unknown</td>\n",
       "    </tr>\n",
       "  </tbody>\n",
       "</table>\n",
       "</div>"
      ],
      "text/plain": [
       "    age          job   marital  education default  balance housing loan  \\\n",
       "22   58      retired   married    primary      no     3401     yes   no   \n",
       "23   57      retired   married    primary      no      808      no   no   \n",
       "24   49   technician   married   tertiary      no     1235      no   no   \n",
       "25   78      retired  divorced    primary      no      229      no   no   \n",
       "26   32  blue-collar   married  secondary      no     2089     yes   no   \n",
       "\n",
       "      contact  day month  duration  campaign  pdays  previous poutcome  \n",
       "22   cellular    3   feb        84         3    265         2  failure  \n",
       "23  telephone    7   jul       274         1     -1         0  unknown  \n",
       "24   cellular   13   aug       354         3     -1         0  unknown  \n",
       "25  telephone   22   oct        97         1     -1         0  unknown  \n",
       "26   cellular   14   nov       132         1     -1         0  unknown  "
      ]
     },
     "execution_count": 72,
     "metadata": {
      "tags": []
     },
     "output_type": "execute_result"
    }
   ],
   "source": [
    "day2_input_df.tail()"
   ]
  },
  {
   "cell_type": "code",
   "execution_count": 0,
   "metadata": {
    "colab": {
     "base_uri": "https://localhost:8080/",
     "height": 34
    },
    "colab_type": "code",
    "executionInfo": {
     "elapsed": 577,
     "status": "ok",
     "timestamp": 1565008987571,
     "user": {
      "displayName": "Avinash Beck",
      "photoUrl": "",
      "userId": "14043619463729052163"
     },
     "user_tz": -330
    },
    "id": "3YsLyCpgk2FS",
    "outputId": "08bcd4c5-6755-43ee-ffd0-5e7a8490e85e"
   },
   "outputs": [
    {
     "data": {
      "text/plain": [
       "(27, 16)"
      ]
     },
     "execution_count": 73,
     "metadata": {
      "tags": []
     },
     "output_type": "execute_result"
    }
   ],
   "source": [
    "day2_input_df.shape"
   ]
  },
  {
   "cell_type": "markdown",
   "metadata": {
    "colab_type": "text",
    "id": "wQy2GENa17qW"
   },
   "source": [
    "#### Feature Engineering for Day 2"
   ]
  },
  {
   "cell_type": "code",
   "execution_count": 0,
   "metadata": {
    "colab": {},
    "colab_type": "code",
    "id": "LvxeKJa4k2FU"
   },
   "outputs": [],
   "source": [
    "new_input_features1=x.append(day2_input_df)"
   ]
  },
  {
   "cell_type": "code",
   "execution_count": 0,
   "metadata": {
    "colab": {
     "base_uri": "https://localhost:8080/",
     "height": 34
    },
    "colab_type": "code",
    "executionInfo": {
     "elapsed": 930,
     "status": "ok",
     "timestamp": 1565008996437,
     "user": {
      "displayName": "Avinash Beck",
      "photoUrl": "",
      "userId": "14043619463729052163"
     },
     "user_tz": -330
    },
    "id": "88MOhwERk2FV",
    "outputId": "0d4c5bdc-83d7-4b34-9b10-e3773dc7943b"
   },
   "outputs": [
    {
     "data": {
      "text/plain": [
       "(4440, 16)"
      ]
     },
     "execution_count": 75,
     "metadata": {
      "tags": []
     },
     "output_type": "execute_result"
    }
   ],
   "source": [
    "new_input_features1.shape"
   ]
  },
  {
   "cell_type": "code",
   "execution_count": 0,
   "metadata": {
    "colab": {},
    "colab_type": "code",
    "id": "Ba_PqK8xk2FX"
   },
   "outputs": [],
   "source": [
    "job_dummies2=pd.get_dummies(new_input_features1['job'],prefix='Job',drop_first=True)\n",
    "marital_dummies2=pd.get_dummies(new_input_features1['marital'],prefix='Marital',drop_first=True)\n",
    "edu_dummies2=pd.get_dummies(new_input_features1['education'],prefix='Edu',drop_first=True)\n",
    "default_dummies2=pd.get_dummies(new_input_features1['default'],prefix='Default',drop_first=True)\n",
    "housing_dummies2=pd.get_dummies(new_input_features1['housing'],prefix='House',drop_first=True)\n",
    "loan_dummies2=pd.get_dummies(new_input_features1['loan'],prefix='Loan',drop_first=True)\n",
    "contact_dummies2=pd.get_dummies(new_input_features1['contact'],prefix='Contact',drop_first=True)\n",
    "month_dummies2=pd.get_dummies(new_input_features1['month'],prefix='Month',drop_first=True)\n",
    "poutcome_dummies2=pd.get_dummies(new_input_features1['poutcome'],prefix='poutcome',drop_first=True)"
   ]
  },
  {
   "cell_type": "code",
   "execution_count": 0,
   "metadata": {
    "colab": {},
    "colab_type": "code",
    "id": "3-UIfw-xk2FZ"
   },
   "outputs": [],
   "source": [
    "new_input_features1=pd.concat([new_input_features1,job_dummies2,marital_dummies2,edu_dummies2,default_dummies2,housing_dummies2,loan_dummies2,contact_dummies2,month_dummies2,poutcome_dummies2],1)"
   ]
  },
  {
   "cell_type": "code",
   "execution_count": 0,
   "metadata": {
    "colab": {
     "base_uri": "https://localhost:8080/",
     "height": 34
    },
    "colab_type": "code",
    "executionInfo": {
     "elapsed": 922,
     "status": "ok",
     "timestamp": 1565009000607,
     "user": {
      "displayName": "Avinash Beck",
      "photoUrl": "",
      "userId": "14043619463729052163"
     },
     "user_tz": -330
    },
    "id": "f1AfSATgk2Fa",
    "outputId": "b66ef4dd-644b-4adc-9a04-34b456d10897"
   },
   "outputs": [
    {
     "data": {
      "text/plain": [
       "(4440, 51)"
      ]
     },
     "execution_count": 78,
     "metadata": {
      "tags": []
     },
     "output_type": "execute_result"
    }
   ],
   "source": [
    "new_input_features1.shape"
   ]
  },
  {
   "cell_type": "code",
   "execution_count": 0,
   "metadata": {
    "colab": {},
    "colab_type": "code",
    "id": "yWl1eoK7k2Fb"
   },
   "outputs": [],
   "source": [
    "new_input_features1=new_input_features1.drop(['job','marital','education','default','housing','loan','month','poutcome','contact'],axis=1)"
   ]
  },
  {
   "cell_type": "code",
   "execution_count": 0,
   "metadata": {
    "colab": {
     "base_uri": "https://localhost:8080/",
     "height": 34
    },
    "colab_type": "code",
    "executionInfo": {
     "elapsed": 682,
     "status": "ok",
     "timestamp": 1565009003387,
     "user": {
      "displayName": "Avinash Beck",
      "photoUrl": "",
      "userId": "14043619463729052163"
     },
     "user_tz": -330
    },
    "id": "WHWbxaJ9k2Fd",
    "outputId": "49ba989c-0ae5-48bd-80b8-d6dea9b05029"
   },
   "outputs": [
    {
     "data": {
      "text/plain": [
       "(4440, 42)"
      ]
     },
     "execution_count": 80,
     "metadata": {
      "tags": []
     },
     "output_type": "execute_result"
    }
   ],
   "source": [
    "new_input_features1.shape"
   ]
  },
  {
   "cell_type": "code",
   "execution_count": 0,
   "metadata": {
    "colab": {
     "base_uri": "https://localhost:8080/",
     "height": 232
    },
    "colab_type": "code",
    "executionInfo": {
     "elapsed": 894,
     "status": "ok",
     "timestamp": 1565009005607,
     "user": {
      "displayName": "Avinash Beck",
      "photoUrl": "",
      "userId": "14043619463729052163"
     },
     "user_tz": -330
    },
    "id": "nlSO5-DPk2Ff",
    "outputId": "df133e0f-ed4c-45ec-998c-07ca809bac95"
   },
   "outputs": [
    {
     "data": {
      "text/html": [
       "<div>\n",
       "<style scoped>\n",
       "    .dataframe tbody tr th:only-of-type {\n",
       "        vertical-align: middle;\n",
       "    }\n",
       "\n",
       "    .dataframe tbody tr th {\n",
       "        vertical-align: top;\n",
       "    }\n",
       "\n",
       "    .dataframe thead th {\n",
       "        text-align: right;\n",
       "    }\n",
       "</style>\n",
       "<table border=\"1\" class=\"dataframe\">\n",
       "  <thead>\n",
       "    <tr style=\"text-align: right;\">\n",
       "      <th></th>\n",
       "      <th>age</th>\n",
       "      <th>balance</th>\n",
       "      <th>day</th>\n",
       "      <th>duration</th>\n",
       "      <th>campaign</th>\n",
       "      <th>pdays</th>\n",
       "      <th>previous</th>\n",
       "      <th>Job_blue-collar</th>\n",
       "      <th>Job_entrepreneur</th>\n",
       "      <th>Job_housemaid</th>\n",
       "      <th>Job_management</th>\n",
       "      <th>Job_retired</th>\n",
       "      <th>Job_self-employed</th>\n",
       "      <th>Job_services</th>\n",
       "      <th>Job_student</th>\n",
       "      <th>Job_technician</th>\n",
       "      <th>Job_unemployed</th>\n",
       "      <th>Job_unknown</th>\n",
       "      <th>Marital_married</th>\n",
       "      <th>Marital_single</th>\n",
       "      <th>Edu_secondary</th>\n",
       "      <th>Edu_tertiary</th>\n",
       "      <th>Edu_unknown</th>\n",
       "      <th>Default_yes</th>\n",
       "      <th>House_yes</th>\n",
       "      <th>Loan_yes</th>\n",
       "      <th>Contact_telephone</th>\n",
       "      <th>Contact_unknown</th>\n",
       "      <th>Month_aug</th>\n",
       "      <th>Month_dec</th>\n",
       "      <th>Month_feb</th>\n",
       "      <th>Month_jan</th>\n",
       "      <th>Month_jul</th>\n",
       "      <th>Month_jun</th>\n",
       "      <th>Month_mar</th>\n",
       "      <th>Month_may</th>\n",
       "      <th>Month_nov</th>\n",
       "      <th>Month_oct</th>\n",
       "      <th>Month_sep</th>\n",
       "      <th>poutcome_other</th>\n",
       "      <th>poutcome_success</th>\n",
       "      <th>poutcome_unknown</th>\n",
       "    </tr>\n",
       "  </thead>\n",
       "  <tbody>\n",
       "    <tr>\n",
       "      <th>22</th>\n",
       "      <td>58</td>\n",
       "      <td>3401</td>\n",
       "      <td>3</td>\n",
       "      <td>84</td>\n",
       "      <td>3</td>\n",
       "      <td>265</td>\n",
       "      <td>2</td>\n",
       "      <td>0</td>\n",
       "      <td>0</td>\n",
       "      <td>0</td>\n",
       "      <td>0</td>\n",
       "      <td>1</td>\n",
       "      <td>0</td>\n",
       "      <td>0</td>\n",
       "      <td>0</td>\n",
       "      <td>0</td>\n",
       "      <td>0</td>\n",
       "      <td>0</td>\n",
       "      <td>1</td>\n",
       "      <td>0</td>\n",
       "      <td>0</td>\n",
       "      <td>0</td>\n",
       "      <td>0</td>\n",
       "      <td>0</td>\n",
       "      <td>1</td>\n",
       "      <td>0</td>\n",
       "      <td>0</td>\n",
       "      <td>0</td>\n",
       "      <td>0</td>\n",
       "      <td>0</td>\n",
       "      <td>1</td>\n",
       "      <td>0</td>\n",
       "      <td>0</td>\n",
       "      <td>0</td>\n",
       "      <td>0</td>\n",
       "      <td>0</td>\n",
       "      <td>0</td>\n",
       "      <td>0</td>\n",
       "      <td>0</td>\n",
       "      <td>0</td>\n",
       "      <td>0</td>\n",
       "      <td>0</td>\n",
       "    </tr>\n",
       "    <tr>\n",
       "      <th>23</th>\n",
       "      <td>57</td>\n",
       "      <td>808</td>\n",
       "      <td>7</td>\n",
       "      <td>274</td>\n",
       "      <td>1</td>\n",
       "      <td>-1</td>\n",
       "      <td>0</td>\n",
       "      <td>0</td>\n",
       "      <td>0</td>\n",
       "      <td>0</td>\n",
       "      <td>0</td>\n",
       "      <td>1</td>\n",
       "      <td>0</td>\n",
       "      <td>0</td>\n",
       "      <td>0</td>\n",
       "      <td>0</td>\n",
       "      <td>0</td>\n",
       "      <td>0</td>\n",
       "      <td>1</td>\n",
       "      <td>0</td>\n",
       "      <td>0</td>\n",
       "      <td>0</td>\n",
       "      <td>0</td>\n",
       "      <td>0</td>\n",
       "      <td>0</td>\n",
       "      <td>0</td>\n",
       "      <td>1</td>\n",
       "      <td>0</td>\n",
       "      <td>0</td>\n",
       "      <td>0</td>\n",
       "      <td>0</td>\n",
       "      <td>0</td>\n",
       "      <td>1</td>\n",
       "      <td>0</td>\n",
       "      <td>0</td>\n",
       "      <td>0</td>\n",
       "      <td>0</td>\n",
       "      <td>0</td>\n",
       "      <td>0</td>\n",
       "      <td>0</td>\n",
       "      <td>0</td>\n",
       "      <td>1</td>\n",
       "    </tr>\n",
       "    <tr>\n",
       "      <th>24</th>\n",
       "      <td>49</td>\n",
       "      <td>1235</td>\n",
       "      <td>13</td>\n",
       "      <td>354</td>\n",
       "      <td>3</td>\n",
       "      <td>-1</td>\n",
       "      <td>0</td>\n",
       "      <td>0</td>\n",
       "      <td>0</td>\n",
       "      <td>0</td>\n",
       "      <td>0</td>\n",
       "      <td>0</td>\n",
       "      <td>0</td>\n",
       "      <td>0</td>\n",
       "      <td>0</td>\n",
       "      <td>1</td>\n",
       "      <td>0</td>\n",
       "      <td>0</td>\n",
       "      <td>1</td>\n",
       "      <td>0</td>\n",
       "      <td>0</td>\n",
       "      <td>1</td>\n",
       "      <td>0</td>\n",
       "      <td>0</td>\n",
       "      <td>0</td>\n",
       "      <td>0</td>\n",
       "      <td>0</td>\n",
       "      <td>0</td>\n",
       "      <td>1</td>\n",
       "      <td>0</td>\n",
       "      <td>0</td>\n",
       "      <td>0</td>\n",
       "      <td>0</td>\n",
       "      <td>0</td>\n",
       "      <td>0</td>\n",
       "      <td>0</td>\n",
       "      <td>0</td>\n",
       "      <td>0</td>\n",
       "      <td>0</td>\n",
       "      <td>0</td>\n",
       "      <td>0</td>\n",
       "      <td>1</td>\n",
       "    </tr>\n",
       "    <tr>\n",
       "      <th>25</th>\n",
       "      <td>78</td>\n",
       "      <td>229</td>\n",
       "      <td>22</td>\n",
       "      <td>97</td>\n",
       "      <td>1</td>\n",
       "      <td>-1</td>\n",
       "      <td>0</td>\n",
       "      <td>0</td>\n",
       "      <td>0</td>\n",
       "      <td>0</td>\n",
       "      <td>0</td>\n",
       "      <td>1</td>\n",
       "      <td>0</td>\n",
       "      <td>0</td>\n",
       "      <td>0</td>\n",
       "      <td>0</td>\n",
       "      <td>0</td>\n",
       "      <td>0</td>\n",
       "      <td>0</td>\n",
       "      <td>0</td>\n",
       "      <td>0</td>\n",
       "      <td>0</td>\n",
       "      <td>0</td>\n",
       "      <td>0</td>\n",
       "      <td>0</td>\n",
       "      <td>0</td>\n",
       "      <td>1</td>\n",
       "      <td>0</td>\n",
       "      <td>0</td>\n",
       "      <td>0</td>\n",
       "      <td>0</td>\n",
       "      <td>0</td>\n",
       "      <td>0</td>\n",
       "      <td>0</td>\n",
       "      <td>0</td>\n",
       "      <td>0</td>\n",
       "      <td>0</td>\n",
       "      <td>1</td>\n",
       "      <td>0</td>\n",
       "      <td>0</td>\n",
       "      <td>0</td>\n",
       "      <td>1</td>\n",
       "    </tr>\n",
       "    <tr>\n",
       "      <th>26</th>\n",
       "      <td>32</td>\n",
       "      <td>2089</td>\n",
       "      <td>14</td>\n",
       "      <td>132</td>\n",
       "      <td>1</td>\n",
       "      <td>-1</td>\n",
       "      <td>0</td>\n",
       "      <td>1</td>\n",
       "      <td>0</td>\n",
       "      <td>0</td>\n",
       "      <td>0</td>\n",
       "      <td>0</td>\n",
       "      <td>0</td>\n",
       "      <td>0</td>\n",
       "      <td>0</td>\n",
       "      <td>0</td>\n",
       "      <td>0</td>\n",
       "      <td>0</td>\n",
       "      <td>1</td>\n",
       "      <td>0</td>\n",
       "      <td>1</td>\n",
       "      <td>0</td>\n",
       "      <td>0</td>\n",
       "      <td>0</td>\n",
       "      <td>1</td>\n",
       "      <td>0</td>\n",
       "      <td>0</td>\n",
       "      <td>0</td>\n",
       "      <td>0</td>\n",
       "      <td>0</td>\n",
       "      <td>0</td>\n",
       "      <td>0</td>\n",
       "      <td>0</td>\n",
       "      <td>0</td>\n",
       "      <td>0</td>\n",
       "      <td>0</td>\n",
       "      <td>1</td>\n",
       "      <td>0</td>\n",
       "      <td>0</td>\n",
       "      <td>0</td>\n",
       "      <td>0</td>\n",
       "      <td>1</td>\n",
       "    </tr>\n",
       "  </tbody>\n",
       "</table>\n",
       "</div>"
      ],
      "text/plain": [
       "    age  balance  day  duration  campaign  pdays  previous  Job_blue-collar  \\\n",
       "22   58     3401    3        84         3    265         2                0   \n",
       "23   57      808    7       274         1     -1         0                0   \n",
       "24   49     1235   13       354         3     -1         0                0   \n",
       "25   78      229   22        97         1     -1         0                0   \n",
       "26   32     2089   14       132         1     -1         0                1   \n",
       "\n",
       "    Job_entrepreneur  Job_housemaid  Job_management  Job_retired  \\\n",
       "22                 0              0               0            1   \n",
       "23                 0              0               0            1   \n",
       "24                 0              0               0            0   \n",
       "25                 0              0               0            1   \n",
       "26                 0              0               0            0   \n",
       "\n",
       "    Job_self-employed  Job_services  Job_student  Job_technician  \\\n",
       "22                  0             0            0               0   \n",
       "23                  0             0            0               0   \n",
       "24                  0             0            0               1   \n",
       "25                  0             0            0               0   \n",
       "26                  0             0            0               0   \n",
       "\n",
       "    Job_unemployed  Job_unknown  Marital_married  Marital_single  \\\n",
       "22               0            0                1               0   \n",
       "23               0            0                1               0   \n",
       "24               0            0                1               0   \n",
       "25               0            0                0               0   \n",
       "26               0            0                1               0   \n",
       "\n",
       "    Edu_secondary  Edu_tertiary  Edu_unknown  Default_yes  House_yes  \\\n",
       "22              0             0            0            0          1   \n",
       "23              0             0            0            0          0   \n",
       "24              0             1            0            0          0   \n",
       "25              0             0            0            0          0   \n",
       "26              1             0            0            0          1   \n",
       "\n",
       "    Loan_yes  Contact_telephone  Contact_unknown  Month_aug  Month_dec  \\\n",
       "22         0                  0                0          0          0   \n",
       "23         0                  1                0          0          0   \n",
       "24         0                  0                0          1          0   \n",
       "25         0                  1                0          0          0   \n",
       "26         0                  0                0          0          0   \n",
       "\n",
       "    Month_feb  Month_jan  Month_jul  Month_jun  Month_mar  Month_may  \\\n",
       "22          1          0          0          0          0          0   \n",
       "23          0          0          1          0          0          0   \n",
       "24          0          0          0          0          0          0   \n",
       "25          0          0          0          0          0          0   \n",
       "26          0          0          0          0          0          0   \n",
       "\n",
       "    Month_nov  Month_oct  Month_sep  poutcome_other  poutcome_success  \\\n",
       "22          0          0          0               0                 0   \n",
       "23          0          0          0               0                 0   \n",
       "24          0          0          0               0                 0   \n",
       "25          0          1          0               0                 0   \n",
       "26          1          0          0               0                 0   \n",
       "\n",
       "    poutcome_unknown  \n",
       "22                 0  \n",
       "23                 1  \n",
       "24                 1  \n",
       "25                 1  \n",
       "26                 1  "
      ]
     },
     "execution_count": 81,
     "metadata": {
      "tags": []
     },
     "output_type": "execute_result"
    }
   ],
   "source": [
    "new_input_features1.tail()"
   ]
  },
  {
   "cell_type": "code",
   "execution_count": 0,
   "metadata": {
    "colab": {},
    "colab_type": "code",
    "id": "0js1i2E8k2Fi"
   },
   "outputs": [],
   "source": [
    "onehot_encoded_new_input_features_day2=new_input_features1.iloc[-27:,:]"
   ]
  },
  {
   "cell_type": "code",
   "execution_count": 0,
   "metadata": {
    "colab": {
     "base_uri": "https://localhost:8080/",
     "height": 34
    },
    "colab_type": "code",
    "executionInfo": {
     "elapsed": 934,
     "status": "ok",
     "timestamp": 1565009009139,
     "user": {
      "displayName": "Avinash Beck",
      "photoUrl": "",
      "userId": "14043619463729052163"
     },
     "user_tz": -330
    },
    "id": "3go2BJjkk2Fj",
    "outputId": "e9105f02-ac27-4052-8127-cee9c53efea4"
   },
   "outputs": [
    {
     "data": {
      "text/plain": [
       "(27, 42)"
      ]
     },
     "execution_count": 83,
     "metadata": {
      "tags": []
     },
     "output_type": "execute_result"
    }
   ],
   "source": [
    "onehot_encoded_new_input_features_day2.shape"
   ]
  },
  {
   "cell_type": "code",
   "execution_count": 0,
   "metadata": {
    "colab": {},
    "colab_type": "code",
    "id": "jQCPJ_UOk2Fn"
   },
   "outputs": [],
   "source": [
    "day2_pred=clf.predict(onehot_encoded_new_input_features_day2)"
   ]
  },
  {
   "cell_type": "code",
   "execution_count": 0,
   "metadata": {
    "colab": {},
    "colab_type": "code",
    "id": "wxxJhoNkk2Fo"
   },
   "outputs": [],
   "source": [
    "for i in range(0,27):\n",
    "    if day2_pred[i]>=.5:       # setting threshold to .5\n",
    "       day2_pred[i]=1\n",
    "    else:  \n",
    "       day2_pred[i]=0"
   ]
  },
  {
   "cell_type": "markdown",
   "metadata": {
    "colab_type": "text",
    "id": "Q9nRjVhAk2Fp"
   },
   "source": [
    "We have received actual what happend on day2(Actual day2_output)"
   ]
  },
  {
   "cell_type": "code",
   "execution_count": 0,
   "metadata": {
    "colab": {},
    "colab_type": "code",
    "id": "GOe8FHtNk2Fp"
   },
   "outputs": [],
   "source": [
    "day2_Actual_output=pd.read_csv('Day2_Actual_output.xls')"
   ]
  },
  {
   "cell_type": "code",
   "execution_count": 0,
   "metadata": {
    "colab": {
     "base_uri": "https://localhost:8080/",
     "height": 72
    },
    "colab_type": "code",
    "executionInfo": {
     "elapsed": 599,
     "status": "ok",
     "timestamp": 1565009025136,
     "user": {
      "displayName": "Avinash Beck",
      "photoUrl": "",
      "userId": "14043619463729052163"
     },
     "user_tz": -330
    },
    "id": "weyEofG-k2Fq",
    "outputId": "9cdd2eb0-e5c0-4387-c243-876cdcce568f"
   },
   "outputs": [
    {
     "name": "stderr",
     "output_type": "stream",
     "text": [
      "/usr/local/lib/python3.6/dist-packages/sklearn/preprocessing/label.py:235: DataConversionWarning: A column-vector y was passed when a 1d array was expected. Please change the shape of y to (n_samples, ), for example using ravel().\n",
      "  y = column_or_1d(y, warn=True)\n"
     ]
    }
   ],
   "source": [
    "day2_actual_output=le.fit_transform(day2_Actual_output)"
   ]
  },
  {
   "cell_type": "code",
   "execution_count": 0,
   "metadata": {
    "colab": {
     "base_uri": "https://localhost:8080/",
     "height": 175
    },
    "colab_type": "code",
    "executionInfo": {
     "elapsed": 829,
     "status": "ok",
     "timestamp": 1565009026934,
     "user": {
      "displayName": "Avinash Beck",
      "photoUrl": "",
      "userId": "14043619463729052163"
     },
     "user_tz": -330
    },
    "id": "sppAg1Qjk2Fs",
    "outputId": "9386f3c6-f6b7-48df-ad2a-c42cea7a2894"
   },
   "outputs": [
    {
     "name": "stdout",
     "output_type": "stream",
     "text": [
      "              precision    recall  f1-score   support\n",
      "\n",
      "           0       0.92      0.96      0.94        24\n",
      "           1       0.50      0.33      0.40         3\n",
      "\n",
      "    accuracy                           0.89        27\n",
      "   macro avg       0.71      0.65      0.67        27\n",
      "weighted avg       0.87      0.89      0.88        27\n",
      "\n"
     ]
    }
   ],
   "source": [
    "print(classification_report(day2_actual_output,day2_pred))"
   ]
  },
  {
   "cell_type": "code",
   "execution_count": 0,
   "metadata": {
    "colab": {
     "base_uri": "https://localhost:8080/",
     "height": 52
    },
    "colab_type": "code",
    "executionInfo": {
     "elapsed": 611,
     "status": "ok",
     "timestamp": 1565009028280,
     "user": {
      "displayName": "Avinash Beck",
      "photoUrl": "",
      "userId": "14043619463729052163"
     },
     "user_tz": -330
    },
    "id": "A1880J8Sk2Ft",
    "outputId": "e0eab453-784d-499f-fdf1-02e3910ec617"
   },
   "outputs": [
    {
     "name": "stdout",
     "output_type": "stream",
     "text": [
      "[[23  1]\n",
      " [ 2  1]]\n"
     ]
    }
   ],
   "source": [
    "print(confusion_matrix(day2_actual_output,day2_pred))"
   ]
  },
  {
   "cell_type": "code",
   "execution_count": 0,
   "metadata": {
    "colab": {
     "base_uri": "https://localhost:8080/",
     "height": 34
    },
    "colab_type": "code",
    "executionInfo": {
     "elapsed": 902,
     "status": "ok",
     "timestamp": 1565009030820,
     "user": {
      "displayName": "Avinash Beck",
      "photoUrl": "",
      "userId": "14043619463729052163"
     },
     "user_tz": -330
    },
    "id": "kqWB6OsZk2Fu",
    "outputId": "4a94530d-8546-47ee-b22c-1c41d5700e55"
   },
   "outputs": [
    {
     "data": {
      "text/plain": [
       "0.3333333333333333"
      ]
     },
     "execution_count": 90,
     "metadata": {
      "tags": []
     },
     "output_type": "execute_result"
    }
   ],
   "source": [
    "day2_recall=recall_score(day2_actual_output,day2_pred)\n",
    "day2_recall"
   ]
  },
  {
   "cell_type": "markdown",
   "metadata": {
    "colab_type": "text",
    "id": "dAguMBkNk2Fv"
   },
   "source": [
    "#### Prediction for Day 3"
   ]
  },
  {
   "cell_type": "markdown",
   "metadata": {
    "colab_type": "text",
    "id": "Qz5lbKdAk2Fv"
   },
   "source": [
    "We have received Day3 data(Input)\n",
    "\n",
    "\n",
    "Import day3_input"
   ]
  },
  {
   "cell_type": "code",
   "execution_count": 0,
   "metadata": {
    "colab": {},
    "colab_type": "code",
    "id": "q9_k36FZk2Fv"
   },
   "outputs": [],
   "source": [
    "day3_input_df=pd.read_csv('Day3_input.xls')"
   ]
  },
  {
   "cell_type": "code",
   "execution_count": 0,
   "metadata": {
    "colab": {
     "base_uri": "https://localhost:8080/",
     "height": 34
    },
    "colab_type": "code",
    "executionInfo": {
     "elapsed": 694,
     "status": "ok",
     "timestamp": 1565009087455,
     "user": {
      "displayName": "Avinash Beck",
      "photoUrl": "",
      "userId": "14043619463729052163"
     },
     "user_tz": -330
    },
    "id": "16im2dSYk2Fx",
    "outputId": "b434b44b-dbf5-45e5-db1b-e15bff137f41"
   },
   "outputs": [
    {
     "data": {
      "text/plain": [
       "(27, 16)"
      ]
     },
     "execution_count": 92,
     "metadata": {
      "tags": []
     },
     "output_type": "execute_result"
    }
   ],
   "source": [
    "day3_input_df.shape"
   ]
  },
  {
   "cell_type": "code",
   "execution_count": 0,
   "metadata": {
    "colab": {
     "base_uri": "https://localhost:8080/",
     "height": 215
    },
    "colab_type": "code",
    "executionInfo": {
     "elapsed": 914,
     "status": "ok",
     "timestamp": 1565009089798,
     "user": {
      "displayName": "Avinash Beck",
      "photoUrl": "",
      "userId": "14043619463729052163"
     },
     "user_tz": -330
    },
    "id": "sXHac1srk2Fy",
    "outputId": "4dd2c2b8-e38e-4de9-9a2f-c1ada53c1015"
   },
   "outputs": [
    {
     "data": {
      "text/html": [
       "<div>\n",
       "<style scoped>\n",
       "    .dataframe tbody tr th:only-of-type {\n",
       "        vertical-align: middle;\n",
       "    }\n",
       "\n",
       "    .dataframe tbody tr th {\n",
       "        vertical-align: top;\n",
       "    }\n",
       "\n",
       "    .dataframe thead th {\n",
       "        text-align: right;\n",
       "    }\n",
       "</style>\n",
       "<table border=\"1\" class=\"dataframe\">\n",
       "  <thead>\n",
       "    <tr style=\"text-align: right;\">\n",
       "      <th></th>\n",
       "      <th>age</th>\n",
       "      <th>job</th>\n",
       "      <th>marital</th>\n",
       "      <th>education</th>\n",
       "      <th>default</th>\n",
       "      <th>balance</th>\n",
       "      <th>housing</th>\n",
       "      <th>loan</th>\n",
       "      <th>contact</th>\n",
       "      <th>day</th>\n",
       "      <th>month</th>\n",
       "      <th>duration</th>\n",
       "      <th>campaign</th>\n",
       "      <th>pdays</th>\n",
       "      <th>previous</th>\n",
       "      <th>poutcome</th>\n",
       "    </tr>\n",
       "  </thead>\n",
       "  <tbody>\n",
       "    <tr>\n",
       "      <th>22</th>\n",
       "      <td>58</td>\n",
       "      <td>unemployed</td>\n",
       "      <td>married</td>\n",
       "      <td>secondary</td>\n",
       "      <td>no</td>\n",
       "      <td>610</td>\n",
       "      <td>yes</td>\n",
       "      <td>no</td>\n",
       "      <td>telephone</td>\n",
       "      <td>29</td>\n",
       "      <td>jul</td>\n",
       "      <td>246</td>\n",
       "      <td>2</td>\n",
       "      <td>-1</td>\n",
       "      <td>0</td>\n",
       "      <td>unknown</td>\n",
       "    </tr>\n",
       "    <tr>\n",
       "      <th>23</th>\n",
       "      <td>34</td>\n",
       "      <td>admin.</td>\n",
       "      <td>married</td>\n",
       "      <td>tertiary</td>\n",
       "      <td>no</td>\n",
       "      <td>35</td>\n",
       "      <td>yes</td>\n",
       "      <td>no</td>\n",
       "      <td>cellular</td>\n",
       "      <td>15</td>\n",
       "      <td>oct</td>\n",
       "      <td>76</td>\n",
       "      <td>1</td>\n",
       "      <td>69</td>\n",
       "      <td>2</td>\n",
       "      <td>failure</td>\n",
       "    </tr>\n",
       "    <tr>\n",
       "      <th>24</th>\n",
       "      <td>33</td>\n",
       "      <td>management</td>\n",
       "      <td>married</td>\n",
       "      <td>secondary</td>\n",
       "      <td>no</td>\n",
       "      <td>3935</td>\n",
       "      <td>yes</td>\n",
       "      <td>no</td>\n",
       "      <td>cellular</td>\n",
       "      <td>6</td>\n",
       "      <td>may</td>\n",
       "      <td>765</td>\n",
       "      <td>1</td>\n",
       "      <td>342</td>\n",
       "      <td>2</td>\n",
       "      <td>failure</td>\n",
       "    </tr>\n",
       "    <tr>\n",
       "      <th>25</th>\n",
       "      <td>61</td>\n",
       "      <td>admin.</td>\n",
       "      <td>married</td>\n",
       "      <td>unknown</td>\n",
       "      <td>no</td>\n",
       "      <td>4629</td>\n",
       "      <td>yes</td>\n",
       "      <td>no</td>\n",
       "      <td>cellular</td>\n",
       "      <td>27</td>\n",
       "      <td>jan</td>\n",
       "      <td>181</td>\n",
       "      <td>1</td>\n",
       "      <td>92</td>\n",
       "      <td>1</td>\n",
       "      <td>success</td>\n",
       "    </tr>\n",
       "    <tr>\n",
       "      <th>26</th>\n",
       "      <td>45</td>\n",
       "      <td>blue-collar</td>\n",
       "      <td>divorced</td>\n",
       "      <td>primary</td>\n",
       "      <td>no</td>\n",
       "      <td>844</td>\n",
       "      <td>no</td>\n",
       "      <td>no</td>\n",
       "      <td>unknown</td>\n",
       "      <td>5</td>\n",
       "      <td>jun</td>\n",
       "      <td>1018</td>\n",
       "      <td>3</td>\n",
       "      <td>-1</td>\n",
       "      <td>0</td>\n",
       "      <td>unknown</td>\n",
       "    </tr>\n",
       "  </tbody>\n",
       "</table>\n",
       "</div>"
      ],
      "text/plain": [
       "    age          job   marital  education default  balance housing loan  \\\n",
       "22   58   unemployed   married  secondary      no      610     yes   no   \n",
       "23   34       admin.   married   tertiary      no       35     yes   no   \n",
       "24   33   management   married  secondary      no     3935     yes   no   \n",
       "25   61       admin.   married    unknown      no     4629     yes   no   \n",
       "26   45  blue-collar  divorced    primary      no      844      no   no   \n",
       "\n",
       "      contact  day month  duration  campaign  pdays  previous poutcome  \n",
       "22  telephone   29   jul       246         2     -1         0  unknown  \n",
       "23   cellular   15   oct        76         1     69         2  failure  \n",
       "24   cellular    6   may       765         1    342         2  failure  \n",
       "25   cellular   27   jan       181         1     92         1  success  \n",
       "26    unknown    5   jun      1018         3     -1         0  unknown  "
      ]
     },
     "execution_count": 93,
     "metadata": {
      "tags": []
     },
     "output_type": "execute_result"
    }
   ],
   "source": [
    "day3_input_df.tail()"
   ]
  },
  {
   "cell_type": "markdown",
   "metadata": {
    "colab_type": "text",
    "id": "VdpQ8J672GxS"
   },
   "source": [
    "#### Feature Engineering for Day 3"
   ]
  },
  {
   "cell_type": "code",
   "execution_count": 0,
   "metadata": {
    "colab": {},
    "colab_type": "code",
    "id": "t8GJLpuuk2F1"
   },
   "outputs": [],
   "source": [
    "new_input_features2=x.append(day3_input_df)"
   ]
  },
  {
   "cell_type": "code",
   "execution_count": 0,
   "metadata": {
    "colab": {
     "base_uri": "https://localhost:8080/",
     "height": 34
    },
    "colab_type": "code",
    "executionInfo": {
     "elapsed": 1037,
     "status": "ok",
     "timestamp": 1565009093064,
     "user": {
      "displayName": "Avinash Beck",
      "photoUrl": "",
      "userId": "14043619463729052163"
     },
     "user_tz": -330
    },
    "id": "1L3ld1A_k2F2",
    "outputId": "7f7eb113-4102-457b-a6ff-cf394ff46d4d"
   },
   "outputs": [
    {
     "data": {
      "text/plain": [
       "(4440, 16)"
      ]
     },
     "execution_count": 95,
     "metadata": {
      "tags": []
     },
     "output_type": "execute_result"
    }
   ],
   "source": [
    "new_input_features2.shape"
   ]
  },
  {
   "cell_type": "code",
   "execution_count": 0,
   "metadata": {
    "colab": {},
    "colab_type": "code",
    "id": "gYEFkoNNk2F3"
   },
   "outputs": [],
   "source": [
    "job_dummies3=pd.get_dummies(new_input_features2['job'],prefix='Job',drop_first=True)\n",
    "marital_dummies3=pd.get_dummies(new_input_features2['marital'],prefix='Marital',drop_first=True)\n",
    "edu_dummies3=pd.get_dummies(new_input_features2['education'],prefix='Edu',drop_first=True)\n",
    "default_dummies3=pd.get_dummies(new_input_features2['default'],prefix='Default',drop_first=True)\n",
    "housing_dummies3=pd.get_dummies(new_input_features2['housing'],prefix='House',drop_first=True)\n",
    "loan_dummies3=pd.get_dummies(new_input_features2['loan'],prefix='Loan',drop_first=True)\n",
    "contact_dummies3=pd.get_dummies(new_input_features2['contact'],prefix='Contact',drop_first=True)\n",
    "month_dummies3=pd.get_dummies(new_input_features2['month'],prefix='Month',drop_first=True)\n",
    "poutcome_dummies3=pd.get_dummies(new_input_features2['poutcome'],prefix='poutcome',drop_first=True)"
   ]
  },
  {
   "cell_type": "code",
   "execution_count": 0,
   "metadata": {
    "colab": {},
    "colab_type": "code",
    "id": "0FNDicynk2F4"
   },
   "outputs": [],
   "source": [
    "new_input_features2=pd.concat([new_input_features2,job_dummies3,marital_dummies3,edu_dummies3,default_dummies3,housing_dummies3,loan_dummies3,contact_dummies3,month_dummies3,poutcome_dummies3],1)"
   ]
  },
  {
   "cell_type": "code",
   "execution_count": 0,
   "metadata": {
    "colab": {},
    "colab_type": "code",
    "id": "R2VjSF4Wk2F5"
   },
   "outputs": [],
   "source": [
    "new_input_features2=new_input_features2.drop(['job','marital','education','default','housing','loan','month','poutcome','contact'],axis=1)"
   ]
  },
  {
   "cell_type": "code",
   "execution_count": 0,
   "metadata": {
    "colab": {
     "base_uri": "https://localhost:8080/",
     "height": 34
    },
    "colab_type": "code",
    "executionInfo": {
     "elapsed": 1185,
     "status": "ok",
     "timestamp": 1565009112175,
     "user": {
      "displayName": "Avinash Beck",
      "photoUrl": "",
      "userId": "14043619463729052163"
     },
     "user_tz": -330
    },
    "id": "fYADSZLLk2F6",
    "outputId": "c387c45c-219f-4034-cc32-08b967cedd58"
   },
   "outputs": [
    {
     "data": {
      "text/plain": [
       "(4440, 42)"
      ]
     },
     "execution_count": 100,
     "metadata": {
      "tags": []
     },
     "output_type": "execute_result"
    }
   ],
   "source": [
    "new_input_features2.shape"
   ]
  },
  {
   "cell_type": "code",
   "execution_count": 0,
   "metadata": {
    "colab": {},
    "colab_type": "code",
    "id": "4Vxv4wnek2GA"
   },
   "outputs": [],
   "source": [
    "onehot_encoded_new_input_features_day3=new_input_features2.iloc[-27:,:]"
   ]
  },
  {
   "cell_type": "code",
   "execution_count": 0,
   "metadata": {
    "colab": {
     "base_uri": "https://localhost:8080/",
     "height": 232
    },
    "colab_type": "code",
    "executionInfo": {
     "elapsed": 749,
     "status": "ok",
     "timestamp": 1565009113356,
     "user": {
      "displayName": "Avinash Beck",
      "photoUrl": "",
      "userId": "14043619463729052163"
     },
     "user_tz": -330
    },
    "id": "_yVx5RC8k2GC",
    "outputId": "c295a352-4428-4b4b-ddc6-f84f022be8d3"
   },
   "outputs": [
    {
     "data": {
      "text/html": [
       "<div>\n",
       "<style scoped>\n",
       "    .dataframe tbody tr th:only-of-type {\n",
       "        vertical-align: middle;\n",
       "    }\n",
       "\n",
       "    .dataframe tbody tr th {\n",
       "        vertical-align: top;\n",
       "    }\n",
       "\n",
       "    .dataframe thead th {\n",
       "        text-align: right;\n",
       "    }\n",
       "</style>\n",
       "<table border=\"1\" class=\"dataframe\">\n",
       "  <thead>\n",
       "    <tr style=\"text-align: right;\">\n",
       "      <th></th>\n",
       "      <th>age</th>\n",
       "      <th>balance</th>\n",
       "      <th>day</th>\n",
       "      <th>duration</th>\n",
       "      <th>campaign</th>\n",
       "      <th>pdays</th>\n",
       "      <th>previous</th>\n",
       "      <th>Job_blue-collar</th>\n",
       "      <th>Job_entrepreneur</th>\n",
       "      <th>Job_housemaid</th>\n",
       "      <th>Job_management</th>\n",
       "      <th>Job_retired</th>\n",
       "      <th>Job_self-employed</th>\n",
       "      <th>Job_services</th>\n",
       "      <th>Job_student</th>\n",
       "      <th>Job_technician</th>\n",
       "      <th>Job_unemployed</th>\n",
       "      <th>Job_unknown</th>\n",
       "      <th>Marital_married</th>\n",
       "      <th>Marital_single</th>\n",
       "      <th>Edu_secondary</th>\n",
       "      <th>Edu_tertiary</th>\n",
       "      <th>Edu_unknown</th>\n",
       "      <th>Default_yes</th>\n",
       "      <th>House_yes</th>\n",
       "      <th>Loan_yes</th>\n",
       "      <th>Contact_telephone</th>\n",
       "      <th>Contact_unknown</th>\n",
       "      <th>Month_aug</th>\n",
       "      <th>Month_dec</th>\n",
       "      <th>Month_feb</th>\n",
       "      <th>Month_jan</th>\n",
       "      <th>Month_jul</th>\n",
       "      <th>Month_jun</th>\n",
       "      <th>Month_mar</th>\n",
       "      <th>Month_may</th>\n",
       "      <th>Month_nov</th>\n",
       "      <th>Month_oct</th>\n",
       "      <th>Month_sep</th>\n",
       "      <th>poutcome_other</th>\n",
       "      <th>poutcome_success</th>\n",
       "      <th>poutcome_unknown</th>\n",
       "    </tr>\n",
       "  </thead>\n",
       "  <tbody>\n",
       "    <tr>\n",
       "      <th>22</th>\n",
       "      <td>58</td>\n",
       "      <td>610</td>\n",
       "      <td>29</td>\n",
       "      <td>246</td>\n",
       "      <td>2</td>\n",
       "      <td>-1</td>\n",
       "      <td>0</td>\n",
       "      <td>0</td>\n",
       "      <td>0</td>\n",
       "      <td>0</td>\n",
       "      <td>0</td>\n",
       "      <td>0</td>\n",
       "      <td>0</td>\n",
       "      <td>0</td>\n",
       "      <td>0</td>\n",
       "      <td>0</td>\n",
       "      <td>1</td>\n",
       "      <td>0</td>\n",
       "      <td>1</td>\n",
       "      <td>0</td>\n",
       "      <td>1</td>\n",
       "      <td>0</td>\n",
       "      <td>0</td>\n",
       "      <td>0</td>\n",
       "      <td>1</td>\n",
       "      <td>0</td>\n",
       "      <td>1</td>\n",
       "      <td>0</td>\n",
       "      <td>0</td>\n",
       "      <td>0</td>\n",
       "      <td>0</td>\n",
       "      <td>0</td>\n",
       "      <td>1</td>\n",
       "      <td>0</td>\n",
       "      <td>0</td>\n",
       "      <td>0</td>\n",
       "      <td>0</td>\n",
       "      <td>0</td>\n",
       "      <td>0</td>\n",
       "      <td>0</td>\n",
       "      <td>0</td>\n",
       "      <td>1</td>\n",
       "    </tr>\n",
       "    <tr>\n",
       "      <th>23</th>\n",
       "      <td>34</td>\n",
       "      <td>35</td>\n",
       "      <td>15</td>\n",
       "      <td>76</td>\n",
       "      <td>1</td>\n",
       "      <td>69</td>\n",
       "      <td>2</td>\n",
       "      <td>0</td>\n",
       "      <td>0</td>\n",
       "      <td>0</td>\n",
       "      <td>0</td>\n",
       "      <td>0</td>\n",
       "      <td>0</td>\n",
       "      <td>0</td>\n",
       "      <td>0</td>\n",
       "      <td>0</td>\n",
       "      <td>0</td>\n",
       "      <td>0</td>\n",
       "      <td>1</td>\n",
       "      <td>0</td>\n",
       "      <td>0</td>\n",
       "      <td>1</td>\n",
       "      <td>0</td>\n",
       "      <td>0</td>\n",
       "      <td>1</td>\n",
       "      <td>0</td>\n",
       "      <td>0</td>\n",
       "      <td>0</td>\n",
       "      <td>0</td>\n",
       "      <td>0</td>\n",
       "      <td>0</td>\n",
       "      <td>0</td>\n",
       "      <td>0</td>\n",
       "      <td>0</td>\n",
       "      <td>0</td>\n",
       "      <td>0</td>\n",
       "      <td>0</td>\n",
       "      <td>1</td>\n",
       "      <td>0</td>\n",
       "      <td>0</td>\n",
       "      <td>0</td>\n",
       "      <td>0</td>\n",
       "    </tr>\n",
       "    <tr>\n",
       "      <th>24</th>\n",
       "      <td>33</td>\n",
       "      <td>3935</td>\n",
       "      <td>6</td>\n",
       "      <td>765</td>\n",
       "      <td>1</td>\n",
       "      <td>342</td>\n",
       "      <td>2</td>\n",
       "      <td>0</td>\n",
       "      <td>0</td>\n",
       "      <td>0</td>\n",
       "      <td>1</td>\n",
       "      <td>0</td>\n",
       "      <td>0</td>\n",
       "      <td>0</td>\n",
       "      <td>0</td>\n",
       "      <td>0</td>\n",
       "      <td>0</td>\n",
       "      <td>0</td>\n",
       "      <td>1</td>\n",
       "      <td>0</td>\n",
       "      <td>1</td>\n",
       "      <td>0</td>\n",
       "      <td>0</td>\n",
       "      <td>0</td>\n",
       "      <td>1</td>\n",
       "      <td>0</td>\n",
       "      <td>0</td>\n",
       "      <td>0</td>\n",
       "      <td>0</td>\n",
       "      <td>0</td>\n",
       "      <td>0</td>\n",
       "      <td>0</td>\n",
       "      <td>0</td>\n",
       "      <td>0</td>\n",
       "      <td>0</td>\n",
       "      <td>1</td>\n",
       "      <td>0</td>\n",
       "      <td>0</td>\n",
       "      <td>0</td>\n",
       "      <td>0</td>\n",
       "      <td>0</td>\n",
       "      <td>0</td>\n",
       "    </tr>\n",
       "    <tr>\n",
       "      <th>25</th>\n",
       "      <td>61</td>\n",
       "      <td>4629</td>\n",
       "      <td>27</td>\n",
       "      <td>181</td>\n",
       "      <td>1</td>\n",
       "      <td>92</td>\n",
       "      <td>1</td>\n",
       "      <td>0</td>\n",
       "      <td>0</td>\n",
       "      <td>0</td>\n",
       "      <td>0</td>\n",
       "      <td>0</td>\n",
       "      <td>0</td>\n",
       "      <td>0</td>\n",
       "      <td>0</td>\n",
       "      <td>0</td>\n",
       "      <td>0</td>\n",
       "      <td>0</td>\n",
       "      <td>1</td>\n",
       "      <td>0</td>\n",
       "      <td>0</td>\n",
       "      <td>0</td>\n",
       "      <td>1</td>\n",
       "      <td>0</td>\n",
       "      <td>1</td>\n",
       "      <td>0</td>\n",
       "      <td>0</td>\n",
       "      <td>0</td>\n",
       "      <td>0</td>\n",
       "      <td>0</td>\n",
       "      <td>0</td>\n",
       "      <td>1</td>\n",
       "      <td>0</td>\n",
       "      <td>0</td>\n",
       "      <td>0</td>\n",
       "      <td>0</td>\n",
       "      <td>0</td>\n",
       "      <td>0</td>\n",
       "      <td>0</td>\n",
       "      <td>0</td>\n",
       "      <td>1</td>\n",
       "      <td>0</td>\n",
       "    </tr>\n",
       "    <tr>\n",
       "      <th>26</th>\n",
       "      <td>45</td>\n",
       "      <td>844</td>\n",
       "      <td>5</td>\n",
       "      <td>1018</td>\n",
       "      <td>3</td>\n",
       "      <td>-1</td>\n",
       "      <td>0</td>\n",
       "      <td>1</td>\n",
       "      <td>0</td>\n",
       "      <td>0</td>\n",
       "      <td>0</td>\n",
       "      <td>0</td>\n",
       "      <td>0</td>\n",
       "      <td>0</td>\n",
       "      <td>0</td>\n",
       "      <td>0</td>\n",
       "      <td>0</td>\n",
       "      <td>0</td>\n",
       "      <td>0</td>\n",
       "      <td>0</td>\n",
       "      <td>0</td>\n",
       "      <td>0</td>\n",
       "      <td>0</td>\n",
       "      <td>0</td>\n",
       "      <td>0</td>\n",
       "      <td>0</td>\n",
       "      <td>0</td>\n",
       "      <td>1</td>\n",
       "      <td>0</td>\n",
       "      <td>0</td>\n",
       "      <td>0</td>\n",
       "      <td>0</td>\n",
       "      <td>0</td>\n",
       "      <td>1</td>\n",
       "      <td>0</td>\n",
       "      <td>0</td>\n",
       "      <td>0</td>\n",
       "      <td>0</td>\n",
       "      <td>0</td>\n",
       "      <td>0</td>\n",
       "      <td>0</td>\n",
       "      <td>1</td>\n",
       "    </tr>\n",
       "  </tbody>\n",
       "</table>\n",
       "</div>"
      ],
      "text/plain": [
       "    age  balance  day  duration  campaign  pdays  previous  Job_blue-collar  \\\n",
       "22   58      610   29       246         2     -1         0                0   \n",
       "23   34       35   15        76         1     69         2                0   \n",
       "24   33     3935    6       765         1    342         2                0   \n",
       "25   61     4629   27       181         1     92         1                0   \n",
       "26   45      844    5      1018         3     -1         0                1   \n",
       "\n",
       "    Job_entrepreneur  Job_housemaid  Job_management  Job_retired  \\\n",
       "22                 0              0               0            0   \n",
       "23                 0              0               0            0   \n",
       "24                 0              0               1            0   \n",
       "25                 0              0               0            0   \n",
       "26                 0              0               0            0   \n",
       "\n",
       "    Job_self-employed  Job_services  Job_student  Job_technician  \\\n",
       "22                  0             0            0               0   \n",
       "23                  0             0            0               0   \n",
       "24                  0             0            0               0   \n",
       "25                  0             0            0               0   \n",
       "26                  0             0            0               0   \n",
       "\n",
       "    Job_unemployed  Job_unknown  Marital_married  Marital_single  \\\n",
       "22               1            0                1               0   \n",
       "23               0            0                1               0   \n",
       "24               0            0                1               0   \n",
       "25               0            0                1               0   \n",
       "26               0            0                0               0   \n",
       "\n",
       "    Edu_secondary  Edu_tertiary  Edu_unknown  Default_yes  House_yes  \\\n",
       "22              1             0            0            0          1   \n",
       "23              0             1            0            0          1   \n",
       "24              1             0            0            0          1   \n",
       "25              0             0            1            0          1   \n",
       "26              0             0            0            0          0   \n",
       "\n",
       "    Loan_yes  Contact_telephone  Contact_unknown  Month_aug  Month_dec  \\\n",
       "22         0                  1                0          0          0   \n",
       "23         0                  0                0          0          0   \n",
       "24         0                  0                0          0          0   \n",
       "25         0                  0                0          0          0   \n",
       "26         0                  0                1          0          0   \n",
       "\n",
       "    Month_feb  Month_jan  Month_jul  Month_jun  Month_mar  Month_may  \\\n",
       "22          0          0          1          0          0          0   \n",
       "23          0          0          0          0          0          0   \n",
       "24          0          0          0          0          0          1   \n",
       "25          0          1          0          0          0          0   \n",
       "26          0          0          0          1          0          0   \n",
       "\n",
       "    Month_nov  Month_oct  Month_sep  poutcome_other  poutcome_success  \\\n",
       "22          0          0          0               0                 0   \n",
       "23          0          1          0               0                 0   \n",
       "24          0          0          0               0                 0   \n",
       "25          0          0          0               0                 1   \n",
       "26          0          0          0               0                 0   \n",
       "\n",
       "    poutcome_unknown  \n",
       "22                 1  \n",
       "23                 0  \n",
       "24                 0  \n",
       "25                 0  \n",
       "26                 1  "
      ]
     },
     "execution_count": 102,
     "metadata": {
      "tags": []
     },
     "output_type": "execute_result"
    }
   ],
   "source": [
    "onehot_encoded_new_input_features_day3.tail()"
   ]
  },
  {
   "cell_type": "code",
   "execution_count": 0,
   "metadata": {
    "colab": {
     "base_uri": "https://localhost:8080/",
     "height": 34
    },
    "colab_type": "code",
    "executionInfo": {
     "elapsed": 878,
     "status": "ok",
     "timestamp": 1565009116281,
     "user": {
      "displayName": "Avinash Beck",
      "photoUrl": "",
      "userId": "14043619463729052163"
     },
     "user_tz": -330
    },
    "id": "nkoJyTKqk2GE",
    "outputId": "439d6de7-15ff-42f5-d8b5-f5af98e8958b"
   },
   "outputs": [
    {
     "data": {
      "text/plain": [
       "(27, 42)"
      ]
     },
     "execution_count": 103,
     "metadata": {
      "tags": []
     },
     "output_type": "execute_result"
    }
   ],
   "source": [
    "onehot_encoded_new_input_features_day3.shape"
   ]
  },
  {
   "cell_type": "markdown",
   "metadata": {
    "colab_type": "text",
    "id": "XIyfUI77k2GG"
   },
   "source": [
    "#### Predicting day 3 data\n",
    "\n",
    "We have received data of day 3(Input features) and we will predict the labels using clf model"
   ]
  },
  {
   "cell_type": "code",
   "execution_count": 0,
   "metadata": {
    "colab": {},
    "colab_type": "code",
    "id": "3Re9wvrUk2GH"
   },
   "outputs": [],
   "source": [
    "day3_pred=clf.predict(onehot_encoded_new_input_features_day3)"
   ]
  },
  {
   "cell_type": "code",
   "execution_count": 0,
   "metadata": {
    "colab": {},
    "colab_type": "code",
    "id": "y0ZoZekNk2GJ"
   },
   "outputs": [],
   "source": [
    "for i in range(0,27):\n",
    "    if day3_pred[i]>=.5:       # setting threshold to .5\n",
    "       day3_pred[i]=1\n",
    "    else:  \n",
    "       day3_pred[i]=0"
   ]
  },
  {
   "cell_type": "markdown",
   "metadata": {
    "colab_type": "text",
    "id": "z90U9zTRk2GL"
   },
   "source": [
    "We have received actual what happend on day3(Actual day3_output)"
   ]
  },
  {
   "cell_type": "code",
   "execution_count": 0,
   "metadata": {
    "colab": {},
    "colab_type": "code",
    "id": "zWUSEAwck2GN"
   },
   "outputs": [],
   "source": [
    "day3_Actual_output=pd.read_csv('Day3_Actual_output.xls')"
   ]
  },
  {
   "cell_type": "code",
   "execution_count": 0,
   "metadata": {
    "colab": {
     "base_uri": "https://localhost:8080/",
     "height": 191
    },
    "colab_type": "code",
    "executionInfo": {
     "elapsed": 861,
     "status": "ok",
     "timestamp": 1565009139551,
     "user": {
      "displayName": "Avinash Beck",
      "photoUrl": "",
      "userId": "14043619463729052163"
     },
     "user_tz": -330
    },
    "id": "QW-_zS3yk2GP",
    "outputId": "d77cf72c-ab2b-4c78-9962-b60fac810001"
   },
   "outputs": [
    {
     "name": "stderr",
     "output_type": "stream",
     "text": [
      "/usr/local/lib/python3.6/dist-packages/sklearn/preprocessing/label.py:235: DataConversionWarning: A column-vector y was passed when a 1d array was expected. Please change the shape of y to (n_samples, ), for example using ravel().\n",
      "  y = column_or_1d(y, warn=True)\n"
     ]
    },
    {
     "data": {
      "text/html": [
       "<div>\n",
       "<style scoped>\n",
       "    .dataframe tbody tr th:only-of-type {\n",
       "        vertical-align: middle;\n",
       "    }\n",
       "\n",
       "    .dataframe tbody tr th {\n",
       "        vertical-align: top;\n",
       "    }\n",
       "\n",
       "    .dataframe thead th {\n",
       "        text-align: right;\n",
       "    }\n",
       "</style>\n",
       "<table border=\"1\" class=\"dataframe\">\n",
       "  <thead>\n",
       "    <tr style=\"text-align: right;\">\n",
       "      <th>col_0</th>\n",
       "      <th>count</th>\n",
       "    </tr>\n",
       "    <tr>\n",
       "      <th>row_0</th>\n",
       "      <th></th>\n",
       "    </tr>\n",
       "  </thead>\n",
       "  <tbody>\n",
       "    <tr>\n",
       "      <th>0</th>\n",
       "      <td>24</td>\n",
       "    </tr>\n",
       "    <tr>\n",
       "      <th>1</th>\n",
       "      <td>3</td>\n",
       "    </tr>\n",
       "  </tbody>\n",
       "</table>\n",
       "</div>"
      ],
      "text/plain": [
       "col_0  count\n",
       "row_0       \n",
       "0         24\n",
       "1          3"
      ]
     },
     "execution_count": 108,
     "metadata": {
      "tags": []
     },
     "output_type": "execute_result"
    }
   ],
   "source": [
    "day3_Actual_output=le.fit_transform(day3_Actual_output)\n",
    "pd.crosstab(day3_Actual_output,'count')"
   ]
  },
  {
   "cell_type": "code",
   "execution_count": 0,
   "metadata": {
    "colab": {
     "base_uri": "https://localhost:8080/",
     "height": 175
    },
    "colab_type": "code",
    "executionInfo": {
     "elapsed": 906,
     "status": "ok",
     "timestamp": 1565009141518,
     "user": {
      "displayName": "Avinash Beck",
      "photoUrl": "",
      "userId": "14043619463729052163"
     },
     "user_tz": -330
    },
    "id": "jnKKsT7Qk2GT",
    "outputId": "551dc00d-737e-4daa-bc4f-6f74a33c0848"
   },
   "outputs": [
    {
     "name": "stdout",
     "output_type": "stream",
     "text": [
      "              precision    recall  f1-score   support\n",
      "\n",
      "           0       0.92      0.92      0.92        24\n",
      "           1       0.33      0.33      0.33         3\n",
      "\n",
      "    accuracy                           0.85        27\n",
      "   macro avg       0.62      0.62      0.62        27\n",
      "weighted avg       0.85      0.85      0.85        27\n",
      "\n"
     ]
    }
   ],
   "source": [
    "print(classification_report(day3_Actual_output,day3_pred))"
   ]
  },
  {
   "cell_type": "code",
   "execution_count": 0,
   "metadata": {
    "colab": {
     "base_uri": "https://localhost:8080/",
     "height": 34
    },
    "colab_type": "code",
    "executionInfo": {
     "elapsed": 879,
     "status": "ok",
     "timestamp": 1565009142490,
     "user": {
      "displayName": "Avinash Beck",
      "photoUrl": "",
      "userId": "14043619463729052163"
     },
     "user_tz": -330
    },
    "id": "mj9dorxik2GV",
    "outputId": "84edfd79-324b-41d5-d62c-7c6e313f3bef"
   },
   "outputs": [
    {
     "data": {
      "text/plain": [
       "0.3333333333333333"
      ]
     },
     "execution_count": 110,
     "metadata": {
      "tags": []
     },
     "output_type": "execute_result"
    }
   ],
   "source": [
    "day3_recall=recall_score(day3_Actual_output,day3_pred)\n",
    "day3_recall"
   ]
  },
  {
   "cell_type": "code",
   "execution_count": 0,
   "metadata": {
    "colab": {
     "base_uri": "https://localhost:8080/",
     "height": 52
    },
    "colab_type": "code",
    "executionInfo": {
     "elapsed": 633,
     "status": "ok",
     "timestamp": 1565009143758,
     "user": {
      "displayName": "Avinash Beck",
      "photoUrl": "",
      "userId": "14043619463729052163"
     },
     "user_tz": -330
    },
    "id": "VCaIKlnBk2GY",
    "outputId": "34768c9f-e8b5-4f5b-ad59-70db8a86ef8a"
   },
   "outputs": [
    {
     "name": "stdout",
     "output_type": "stream",
     "text": [
      "[[22  2]\n",
      " [ 2  1]]\n"
     ]
    }
   ],
   "source": [
    "print(confusion_matrix(day3_Actual_output,day3_pred))"
   ]
  },
  {
   "cell_type": "markdown",
   "metadata": {
    "colab_type": "text",
    "id": "NONvvOAqk2Ga"
   },
   "source": [
    "#### Prediction for Day 4"
   ]
  },
  {
   "cell_type": "markdown",
   "metadata": {
    "colab_type": "text",
    "id": "sH-ffPgqk2Gb"
   },
   "source": [
    "Predicting day 4 data\n",
    "\n",
    "\n",
    "We have received data of day 4(Input features) and we will predict the labels using clf model"
   ]
  },
  {
   "cell_type": "code",
   "execution_count": 0,
   "metadata": {
    "colab": {},
    "colab_type": "code",
    "id": "DURLGETAk2Gb"
   },
   "outputs": [],
   "source": [
    "day4_input_df=pd.read_csv('Day4_input.xls')"
   ]
  },
  {
   "cell_type": "code",
   "execution_count": 0,
   "metadata": {
    "colab": {
     "base_uri": "https://localhost:8080/",
     "height": 215
    },
    "colab_type": "code",
    "executionInfo": {
     "elapsed": 999,
     "status": "ok",
     "timestamp": 1565009158719,
     "user": {
      "displayName": "Avinash Beck",
      "photoUrl": "",
      "userId": "14043619463729052163"
     },
     "user_tz": -330
    },
    "id": "_u9iD5Iqk2Gf",
    "outputId": "c35f8843-f7a8-4ec5-e05c-b8b5513fa64e"
   },
   "outputs": [
    {
     "data": {
      "text/html": [
       "<div>\n",
       "<style scoped>\n",
       "    .dataframe tbody tr th:only-of-type {\n",
       "        vertical-align: middle;\n",
       "    }\n",
       "\n",
       "    .dataframe tbody tr th {\n",
       "        vertical-align: top;\n",
       "    }\n",
       "\n",
       "    .dataframe thead th {\n",
       "        text-align: right;\n",
       "    }\n",
       "</style>\n",
       "<table border=\"1\" class=\"dataframe\">\n",
       "  <thead>\n",
       "    <tr style=\"text-align: right;\">\n",
       "      <th></th>\n",
       "      <th>age</th>\n",
       "      <th>job</th>\n",
       "      <th>marital</th>\n",
       "      <th>education</th>\n",
       "      <th>default</th>\n",
       "      <th>balance</th>\n",
       "      <th>housing</th>\n",
       "      <th>loan</th>\n",
       "      <th>contact</th>\n",
       "      <th>day</th>\n",
       "      <th>month</th>\n",
       "      <th>duration</th>\n",
       "      <th>campaign</th>\n",
       "      <th>pdays</th>\n",
       "      <th>previous</th>\n",
       "      <th>poutcome</th>\n",
       "    </tr>\n",
       "  </thead>\n",
       "  <tbody>\n",
       "    <tr>\n",
       "      <th>22</th>\n",
       "      <td>39</td>\n",
       "      <td>admin.</td>\n",
       "      <td>divorced</td>\n",
       "      <td>secondary</td>\n",
       "      <td>no</td>\n",
       "      <td>83</td>\n",
       "      <td>yes</td>\n",
       "      <td>no</td>\n",
       "      <td>cellular</td>\n",
       "      <td>30</td>\n",
       "      <td>jul</td>\n",
       "      <td>69</td>\n",
       "      <td>6</td>\n",
       "      <td>-1</td>\n",
       "      <td>0</td>\n",
       "      <td>unknown</td>\n",
       "    </tr>\n",
       "    <tr>\n",
       "      <th>23</th>\n",
       "      <td>59</td>\n",
       "      <td>admin.</td>\n",
       "      <td>married</td>\n",
       "      <td>secondary</td>\n",
       "      <td>no</td>\n",
       "      <td>817</td>\n",
       "      <td>no</td>\n",
       "      <td>no</td>\n",
       "      <td>cellular</td>\n",
       "      <td>9</td>\n",
       "      <td>apr</td>\n",
       "      <td>304</td>\n",
       "      <td>1</td>\n",
       "      <td>-1</td>\n",
       "      <td>0</td>\n",
       "      <td>unknown</td>\n",
       "    </tr>\n",
       "    <tr>\n",
       "      <th>24</th>\n",
       "      <td>34</td>\n",
       "      <td>technician</td>\n",
       "      <td>married</td>\n",
       "      <td>tertiary</td>\n",
       "      <td>no</td>\n",
       "      <td>1539</td>\n",
       "      <td>yes</td>\n",
       "      <td>no</td>\n",
       "      <td>cellular</td>\n",
       "      <td>15</td>\n",
       "      <td>jun</td>\n",
       "      <td>441</td>\n",
       "      <td>1</td>\n",
       "      <td>56</td>\n",
       "      <td>1</td>\n",
       "      <td>other</td>\n",
       "    </tr>\n",
       "    <tr>\n",
       "      <th>25</th>\n",
       "      <td>37</td>\n",
       "      <td>management</td>\n",
       "      <td>married</td>\n",
       "      <td>tertiary</td>\n",
       "      <td>no</td>\n",
       "      <td>0</td>\n",
       "      <td>no</td>\n",
       "      <td>no</td>\n",
       "      <td>cellular</td>\n",
       "      <td>16</td>\n",
       "      <td>jul</td>\n",
       "      <td>268</td>\n",
       "      <td>2</td>\n",
       "      <td>182</td>\n",
       "      <td>3</td>\n",
       "      <td>success</td>\n",
       "    </tr>\n",
       "    <tr>\n",
       "      <th>26</th>\n",
       "      <td>27</td>\n",
       "      <td>admin.</td>\n",
       "      <td>divorced</td>\n",
       "      <td>secondary</td>\n",
       "      <td>no</td>\n",
       "      <td>451</td>\n",
       "      <td>yes</td>\n",
       "      <td>no</td>\n",
       "      <td>cellular</td>\n",
       "      <td>16</td>\n",
       "      <td>jul</td>\n",
       "      <td>652</td>\n",
       "      <td>1</td>\n",
       "      <td>-1</td>\n",
       "      <td>0</td>\n",
       "      <td>unknown</td>\n",
       "    </tr>\n",
       "  </tbody>\n",
       "</table>\n",
       "</div>"
      ],
      "text/plain": [
       "    age         job   marital  education default  balance housing loan  \\\n",
       "22   39      admin.  divorced  secondary      no       83     yes   no   \n",
       "23   59      admin.   married  secondary      no      817      no   no   \n",
       "24   34  technician   married   tertiary      no     1539     yes   no   \n",
       "25   37  management   married   tertiary      no        0      no   no   \n",
       "26   27      admin.  divorced  secondary      no      451     yes   no   \n",
       "\n",
       "     contact  day month  duration  campaign  pdays  previous poutcome  \n",
       "22  cellular   30   jul        69         6     -1         0  unknown  \n",
       "23  cellular    9   apr       304         1     -1         0  unknown  \n",
       "24  cellular   15   jun       441         1     56         1    other  \n",
       "25  cellular   16   jul       268         2    182         3  success  \n",
       "26  cellular   16   jul       652         1     -1         0  unknown  "
      ]
     },
     "execution_count": 113,
     "metadata": {
      "tags": []
     },
     "output_type": "execute_result"
    }
   ],
   "source": [
    "day4_input_df.tail()"
   ]
  },
  {
   "cell_type": "code",
   "execution_count": 0,
   "metadata": {
    "colab": {
     "base_uri": "https://localhost:8080/",
     "height": 34
    },
    "colab_type": "code",
    "executionInfo": {
     "elapsed": 876,
     "status": "ok",
     "timestamp": 1565009239330,
     "user": {
      "displayName": "Avinash Beck",
      "photoUrl": "",
      "userId": "14043619463729052163"
     },
     "user_tz": -330
    },
    "id": "BfyaRcrFk2Gi",
    "outputId": "f51b6346-fb52-4972-8635-7bdd787a1a05"
   },
   "outputs": [
    {
     "data": {
      "text/plain": [
       "(27, 16)"
      ]
     },
     "execution_count": 114,
     "metadata": {
      "tags": []
     },
     "output_type": "execute_result"
    }
   ],
   "source": [
    "day4_input_df.shape"
   ]
  },
  {
   "cell_type": "markdown",
   "metadata": {
    "colab_type": "text",
    "id": "IdH799s_2Mt3"
   },
   "source": [
    "#### Feature Engineering for Day 4"
   ]
  },
  {
   "cell_type": "code",
   "execution_count": 0,
   "metadata": {
    "colab": {},
    "colab_type": "code",
    "id": "E9reE7qYk2Gm"
   },
   "outputs": [],
   "source": [
    "new_input_features3=x.append(day4_input_df)"
   ]
  },
  {
   "cell_type": "code",
   "execution_count": 0,
   "metadata": {
    "colab": {
     "base_uri": "https://localhost:8080/",
     "height": 34
    },
    "colab_type": "code",
    "executionInfo": {
     "elapsed": 697,
     "status": "ok",
     "timestamp": 1565009241718,
     "user": {
      "displayName": "Avinash Beck",
      "photoUrl": "",
      "userId": "14043619463729052163"
     },
     "user_tz": -330
    },
    "id": "6dUum8fik2Gp",
    "outputId": "ce5f3878-2089-4b5b-de4f-a094530ea888"
   },
   "outputs": [
    {
     "data": {
      "text/plain": [
       "(4440, 16)"
      ]
     },
     "execution_count": 116,
     "metadata": {
      "tags": []
     },
     "output_type": "execute_result"
    }
   ],
   "source": [
    "new_input_features3.shape"
   ]
  },
  {
   "cell_type": "code",
   "execution_count": 0,
   "metadata": {
    "colab": {},
    "colab_type": "code",
    "id": "32Nq_YAFk2HE"
   },
   "outputs": [],
   "source": [
    "job_dummies4=pd.get_dummies(new_input_features3['job'],prefix='Job',drop_first=True)\n",
    "marital_dummies4=pd.get_dummies(new_input_features3['marital'],prefix='Marital',drop_first=True)\n",
    "edu_dummies4=pd.get_dummies(new_input_features3['education'],prefix='Edu',drop_first=True)\n",
    "default_dummies4=pd.get_dummies(new_input_features3['default'],prefix='Default',drop_first=True)\n",
    "housing_dummies4=pd.get_dummies(new_input_features3['housing'],prefix='House',drop_first=True)\n",
    "loan_dummies4=pd.get_dummies(new_input_features3['loan'],prefix='Loan',drop_first=True)\n",
    "contact_dummies4=pd.get_dummies(new_input_features3['contact'],prefix='Contact',drop_first=True)\n",
    "month_dummies4=pd.get_dummies(new_input_features3['month'],prefix='Month',drop_first=True)\n",
    "poutcome_dummies4=pd.get_dummies(new_input_features3['poutcome'],prefix='poutcome',drop_first=True)"
   ]
  },
  {
   "cell_type": "code",
   "execution_count": 0,
   "metadata": {
    "colab": {},
    "colab_type": "code",
    "id": "cJLJQLefk2HG"
   },
   "outputs": [],
   "source": [
    "new_input_features3=pd.concat([new_input_features3,job_dummies4,marital_dummies4,edu_dummies4,default_dummies4,housing_dummies4,loan_dummies4,contact_dummies4,month_dummies4,poutcome_dummies4],1)"
   ]
  },
  {
   "cell_type": "code",
   "execution_count": 0,
   "metadata": {
    "colab": {},
    "colab_type": "code",
    "id": "kh7HWZXZk2HH"
   },
   "outputs": [],
   "source": [
    "new_input_features3=new_input_features3.drop(['job','marital','education','default','housing','loan','month','poutcome','contact'],axis=1)"
   ]
  },
  {
   "cell_type": "code",
   "execution_count": 0,
   "metadata": {
    "colab": {
     "base_uri": "https://localhost:8080/",
     "height": 34
    },
    "colab_type": "code",
    "executionInfo": {
     "elapsed": 600,
     "status": "ok",
     "timestamp": 1565009246322,
     "user": {
      "displayName": "Avinash Beck",
      "photoUrl": "",
      "userId": "14043619463729052163"
     },
     "user_tz": -330
    },
    "id": "mku2__8Lk2HI",
    "outputId": "62310d5a-fd2e-4283-a3c8-a7cec532637a"
   },
   "outputs": [
    {
     "data": {
      "text/plain": [
       "(4440, 42)"
      ]
     },
     "execution_count": 120,
     "metadata": {
      "tags": []
     },
     "output_type": "execute_result"
    }
   ],
   "source": [
    "new_input_features3.shape"
   ]
  },
  {
   "cell_type": "code",
   "execution_count": 0,
   "metadata": {
    "colab": {},
    "colab_type": "code",
    "id": "Sk_USP0Qk2HJ"
   },
   "outputs": [],
   "source": [
    "onehot_encoded_new_input_features_day4=new_input_features3.iloc[-27:,:]"
   ]
  },
  {
   "cell_type": "code",
   "execution_count": 0,
   "metadata": {
    "colab": {
     "base_uri": "https://localhost:8080/",
     "height": 232
    },
    "colab_type": "code",
    "executionInfo": {
     "elapsed": 647,
     "status": "ok",
     "timestamp": 1565009249067,
     "user": {
      "displayName": "Avinash Beck",
      "photoUrl": "",
      "userId": "14043619463729052163"
     },
     "user_tz": -330
    },
    "id": "aXSI9AdJk2HK",
    "outputId": "87bff274-4953-4527-836e-dd9972654264"
   },
   "outputs": [
    {
     "data": {
      "text/html": [
       "<div>\n",
       "<style scoped>\n",
       "    .dataframe tbody tr th:only-of-type {\n",
       "        vertical-align: middle;\n",
       "    }\n",
       "\n",
       "    .dataframe tbody tr th {\n",
       "        vertical-align: top;\n",
       "    }\n",
       "\n",
       "    .dataframe thead th {\n",
       "        text-align: right;\n",
       "    }\n",
       "</style>\n",
       "<table border=\"1\" class=\"dataframe\">\n",
       "  <thead>\n",
       "    <tr style=\"text-align: right;\">\n",
       "      <th></th>\n",
       "      <th>age</th>\n",
       "      <th>balance</th>\n",
       "      <th>day</th>\n",
       "      <th>duration</th>\n",
       "      <th>campaign</th>\n",
       "      <th>pdays</th>\n",
       "      <th>previous</th>\n",
       "      <th>Job_blue-collar</th>\n",
       "      <th>Job_entrepreneur</th>\n",
       "      <th>Job_housemaid</th>\n",
       "      <th>Job_management</th>\n",
       "      <th>Job_retired</th>\n",
       "      <th>Job_self-employed</th>\n",
       "      <th>Job_services</th>\n",
       "      <th>Job_student</th>\n",
       "      <th>Job_technician</th>\n",
       "      <th>Job_unemployed</th>\n",
       "      <th>Job_unknown</th>\n",
       "      <th>Marital_married</th>\n",
       "      <th>Marital_single</th>\n",
       "      <th>Edu_secondary</th>\n",
       "      <th>Edu_tertiary</th>\n",
       "      <th>Edu_unknown</th>\n",
       "      <th>Default_yes</th>\n",
       "      <th>House_yes</th>\n",
       "      <th>Loan_yes</th>\n",
       "      <th>Contact_telephone</th>\n",
       "      <th>Contact_unknown</th>\n",
       "      <th>Month_aug</th>\n",
       "      <th>Month_dec</th>\n",
       "      <th>Month_feb</th>\n",
       "      <th>Month_jan</th>\n",
       "      <th>Month_jul</th>\n",
       "      <th>Month_jun</th>\n",
       "      <th>Month_mar</th>\n",
       "      <th>Month_may</th>\n",
       "      <th>Month_nov</th>\n",
       "      <th>Month_oct</th>\n",
       "      <th>Month_sep</th>\n",
       "      <th>poutcome_other</th>\n",
       "      <th>poutcome_success</th>\n",
       "      <th>poutcome_unknown</th>\n",
       "    </tr>\n",
       "  </thead>\n",
       "  <tbody>\n",
       "    <tr>\n",
       "      <th>22</th>\n",
       "      <td>39</td>\n",
       "      <td>83</td>\n",
       "      <td>30</td>\n",
       "      <td>69</td>\n",
       "      <td>6</td>\n",
       "      <td>-1</td>\n",
       "      <td>0</td>\n",
       "      <td>0</td>\n",
       "      <td>0</td>\n",
       "      <td>0</td>\n",
       "      <td>0</td>\n",
       "      <td>0</td>\n",
       "      <td>0</td>\n",
       "      <td>0</td>\n",
       "      <td>0</td>\n",
       "      <td>0</td>\n",
       "      <td>0</td>\n",
       "      <td>0</td>\n",
       "      <td>0</td>\n",
       "      <td>0</td>\n",
       "      <td>1</td>\n",
       "      <td>0</td>\n",
       "      <td>0</td>\n",
       "      <td>0</td>\n",
       "      <td>1</td>\n",
       "      <td>0</td>\n",
       "      <td>0</td>\n",
       "      <td>0</td>\n",
       "      <td>0</td>\n",
       "      <td>0</td>\n",
       "      <td>0</td>\n",
       "      <td>0</td>\n",
       "      <td>1</td>\n",
       "      <td>0</td>\n",
       "      <td>0</td>\n",
       "      <td>0</td>\n",
       "      <td>0</td>\n",
       "      <td>0</td>\n",
       "      <td>0</td>\n",
       "      <td>0</td>\n",
       "      <td>0</td>\n",
       "      <td>1</td>\n",
       "    </tr>\n",
       "    <tr>\n",
       "      <th>23</th>\n",
       "      <td>59</td>\n",
       "      <td>817</td>\n",
       "      <td>9</td>\n",
       "      <td>304</td>\n",
       "      <td>1</td>\n",
       "      <td>-1</td>\n",
       "      <td>0</td>\n",
       "      <td>0</td>\n",
       "      <td>0</td>\n",
       "      <td>0</td>\n",
       "      <td>0</td>\n",
       "      <td>0</td>\n",
       "      <td>0</td>\n",
       "      <td>0</td>\n",
       "      <td>0</td>\n",
       "      <td>0</td>\n",
       "      <td>0</td>\n",
       "      <td>0</td>\n",
       "      <td>1</td>\n",
       "      <td>0</td>\n",
       "      <td>1</td>\n",
       "      <td>0</td>\n",
       "      <td>0</td>\n",
       "      <td>0</td>\n",
       "      <td>0</td>\n",
       "      <td>0</td>\n",
       "      <td>0</td>\n",
       "      <td>0</td>\n",
       "      <td>0</td>\n",
       "      <td>0</td>\n",
       "      <td>0</td>\n",
       "      <td>0</td>\n",
       "      <td>0</td>\n",
       "      <td>0</td>\n",
       "      <td>0</td>\n",
       "      <td>0</td>\n",
       "      <td>0</td>\n",
       "      <td>0</td>\n",
       "      <td>0</td>\n",
       "      <td>0</td>\n",
       "      <td>0</td>\n",
       "      <td>1</td>\n",
       "    </tr>\n",
       "    <tr>\n",
       "      <th>24</th>\n",
       "      <td>34</td>\n",
       "      <td>1539</td>\n",
       "      <td>15</td>\n",
       "      <td>441</td>\n",
       "      <td>1</td>\n",
       "      <td>56</td>\n",
       "      <td>1</td>\n",
       "      <td>0</td>\n",
       "      <td>0</td>\n",
       "      <td>0</td>\n",
       "      <td>0</td>\n",
       "      <td>0</td>\n",
       "      <td>0</td>\n",
       "      <td>0</td>\n",
       "      <td>0</td>\n",
       "      <td>1</td>\n",
       "      <td>0</td>\n",
       "      <td>0</td>\n",
       "      <td>1</td>\n",
       "      <td>0</td>\n",
       "      <td>0</td>\n",
       "      <td>1</td>\n",
       "      <td>0</td>\n",
       "      <td>0</td>\n",
       "      <td>1</td>\n",
       "      <td>0</td>\n",
       "      <td>0</td>\n",
       "      <td>0</td>\n",
       "      <td>0</td>\n",
       "      <td>0</td>\n",
       "      <td>0</td>\n",
       "      <td>0</td>\n",
       "      <td>0</td>\n",
       "      <td>1</td>\n",
       "      <td>0</td>\n",
       "      <td>0</td>\n",
       "      <td>0</td>\n",
       "      <td>0</td>\n",
       "      <td>0</td>\n",
       "      <td>1</td>\n",
       "      <td>0</td>\n",
       "      <td>0</td>\n",
       "    </tr>\n",
       "    <tr>\n",
       "      <th>25</th>\n",
       "      <td>37</td>\n",
       "      <td>0</td>\n",
       "      <td>16</td>\n",
       "      <td>268</td>\n",
       "      <td>2</td>\n",
       "      <td>182</td>\n",
       "      <td>3</td>\n",
       "      <td>0</td>\n",
       "      <td>0</td>\n",
       "      <td>0</td>\n",
       "      <td>1</td>\n",
       "      <td>0</td>\n",
       "      <td>0</td>\n",
       "      <td>0</td>\n",
       "      <td>0</td>\n",
       "      <td>0</td>\n",
       "      <td>0</td>\n",
       "      <td>0</td>\n",
       "      <td>1</td>\n",
       "      <td>0</td>\n",
       "      <td>0</td>\n",
       "      <td>1</td>\n",
       "      <td>0</td>\n",
       "      <td>0</td>\n",
       "      <td>0</td>\n",
       "      <td>0</td>\n",
       "      <td>0</td>\n",
       "      <td>0</td>\n",
       "      <td>0</td>\n",
       "      <td>0</td>\n",
       "      <td>0</td>\n",
       "      <td>0</td>\n",
       "      <td>1</td>\n",
       "      <td>0</td>\n",
       "      <td>0</td>\n",
       "      <td>0</td>\n",
       "      <td>0</td>\n",
       "      <td>0</td>\n",
       "      <td>0</td>\n",
       "      <td>0</td>\n",
       "      <td>1</td>\n",
       "      <td>0</td>\n",
       "    </tr>\n",
       "    <tr>\n",
       "      <th>26</th>\n",
       "      <td>27</td>\n",
       "      <td>451</td>\n",
       "      <td>16</td>\n",
       "      <td>652</td>\n",
       "      <td>1</td>\n",
       "      <td>-1</td>\n",
       "      <td>0</td>\n",
       "      <td>0</td>\n",
       "      <td>0</td>\n",
       "      <td>0</td>\n",
       "      <td>0</td>\n",
       "      <td>0</td>\n",
       "      <td>0</td>\n",
       "      <td>0</td>\n",
       "      <td>0</td>\n",
       "      <td>0</td>\n",
       "      <td>0</td>\n",
       "      <td>0</td>\n",
       "      <td>0</td>\n",
       "      <td>0</td>\n",
       "      <td>1</td>\n",
       "      <td>0</td>\n",
       "      <td>0</td>\n",
       "      <td>0</td>\n",
       "      <td>1</td>\n",
       "      <td>0</td>\n",
       "      <td>0</td>\n",
       "      <td>0</td>\n",
       "      <td>0</td>\n",
       "      <td>0</td>\n",
       "      <td>0</td>\n",
       "      <td>0</td>\n",
       "      <td>1</td>\n",
       "      <td>0</td>\n",
       "      <td>0</td>\n",
       "      <td>0</td>\n",
       "      <td>0</td>\n",
       "      <td>0</td>\n",
       "      <td>0</td>\n",
       "      <td>0</td>\n",
       "      <td>0</td>\n",
       "      <td>1</td>\n",
       "    </tr>\n",
       "  </tbody>\n",
       "</table>\n",
       "</div>"
      ],
      "text/plain": [
       "    age  balance  day  duration  campaign  pdays  previous  Job_blue-collar  \\\n",
       "22   39       83   30        69         6     -1         0                0   \n",
       "23   59      817    9       304         1     -1         0                0   \n",
       "24   34     1539   15       441         1     56         1                0   \n",
       "25   37        0   16       268         2    182         3                0   \n",
       "26   27      451   16       652         1     -1         0                0   \n",
       "\n",
       "    Job_entrepreneur  Job_housemaid  Job_management  Job_retired  \\\n",
       "22                 0              0               0            0   \n",
       "23                 0              0               0            0   \n",
       "24                 0              0               0            0   \n",
       "25                 0              0               1            0   \n",
       "26                 0              0               0            0   \n",
       "\n",
       "    Job_self-employed  Job_services  Job_student  Job_technician  \\\n",
       "22                  0             0            0               0   \n",
       "23                  0             0            0               0   \n",
       "24                  0             0            0               1   \n",
       "25                  0             0            0               0   \n",
       "26                  0             0            0               0   \n",
       "\n",
       "    Job_unemployed  Job_unknown  Marital_married  Marital_single  \\\n",
       "22               0            0                0               0   \n",
       "23               0            0                1               0   \n",
       "24               0            0                1               0   \n",
       "25               0            0                1               0   \n",
       "26               0            0                0               0   \n",
       "\n",
       "    Edu_secondary  Edu_tertiary  Edu_unknown  Default_yes  House_yes  \\\n",
       "22              1             0            0            0          1   \n",
       "23              1             0            0            0          0   \n",
       "24              0             1            0            0          1   \n",
       "25              0             1            0            0          0   \n",
       "26              1             0            0            0          1   \n",
       "\n",
       "    Loan_yes  Contact_telephone  Contact_unknown  Month_aug  Month_dec  \\\n",
       "22         0                  0                0          0          0   \n",
       "23         0                  0                0          0          0   \n",
       "24         0                  0                0          0          0   \n",
       "25         0                  0                0          0          0   \n",
       "26         0                  0                0          0          0   \n",
       "\n",
       "    Month_feb  Month_jan  Month_jul  Month_jun  Month_mar  Month_may  \\\n",
       "22          0          0          1          0          0          0   \n",
       "23          0          0          0          0          0          0   \n",
       "24          0          0          0          1          0          0   \n",
       "25          0          0          1          0          0          0   \n",
       "26          0          0          1          0          0          0   \n",
       "\n",
       "    Month_nov  Month_oct  Month_sep  poutcome_other  poutcome_success  \\\n",
       "22          0          0          0               0                 0   \n",
       "23          0          0          0               0                 0   \n",
       "24          0          0          0               1                 0   \n",
       "25          0          0          0               0                 1   \n",
       "26          0          0          0               0                 0   \n",
       "\n",
       "    poutcome_unknown  \n",
       "22                 1  \n",
       "23                 1  \n",
       "24                 0  \n",
       "25                 0  \n",
       "26                 1  "
      ]
     },
     "execution_count": 122,
     "metadata": {
      "tags": []
     },
     "output_type": "execute_result"
    }
   ],
   "source": [
    "onehot_encoded_new_input_features_day4.tail()"
   ]
  },
  {
   "cell_type": "markdown",
   "metadata": {
    "colab_type": "text",
    "id": "56Y9Cr02k2HL"
   },
   "source": [
    "Predicting day 4 data\n",
    "We have received data of day 4(Input features) and we will predict the labels using clf model\n"
   ]
  },
  {
   "cell_type": "code",
   "execution_count": 0,
   "metadata": {
    "colab": {},
    "colab_type": "code",
    "id": "RZGVdFmNk2HL"
   },
   "outputs": [],
   "source": [
    "day4_pred=clf.predict(onehot_encoded_new_input_features_day4)"
   ]
  },
  {
   "cell_type": "code",
   "execution_count": 0,
   "metadata": {
    "colab": {},
    "colab_type": "code",
    "id": "WPMY9NSAk2HM"
   },
   "outputs": [],
   "source": [
    "for i in range(0,27):\n",
    "    if day4_pred[i]>=.5:       # setting threshold to .5\n",
    "       day4_pred[i]=1\n",
    "    else:  \n",
    "       day4_pred[i]=0"
   ]
  },
  {
   "cell_type": "markdown",
   "metadata": {
    "colab_type": "text",
    "id": "rEqcpwUTk2HM"
   },
   "source": [
    "We have received actual what happend on day3(Actual day3_output)"
   ]
  },
  {
   "cell_type": "code",
   "execution_count": 0,
   "metadata": {
    "colab": {},
    "colab_type": "code",
    "id": "VuxzydeNk2HN"
   },
   "outputs": [],
   "source": [
    "day4_actual_output=pd.read_csv('Day4_Actual_output.xls')"
   ]
  },
  {
   "cell_type": "code",
   "execution_count": 0,
   "metadata": {
    "colab": {
     "base_uri": "https://localhost:8080/",
     "height": 191
    },
    "colab_type": "code",
    "executionInfo": {
     "elapsed": 914,
     "status": "ok",
     "timestamp": 1565009261956,
     "user": {
      "displayName": "Avinash Beck",
      "photoUrl": "",
      "userId": "14043619463729052163"
     },
     "user_tz": -330
    },
    "id": "UuM_DHlPk2HO",
    "outputId": "c0161369-28e3-4515-954d-370f2245e086"
   },
   "outputs": [
    {
     "name": "stderr",
     "output_type": "stream",
     "text": [
      "/usr/local/lib/python3.6/dist-packages/sklearn/preprocessing/label.py:235: DataConversionWarning: A column-vector y was passed when a 1d array was expected. Please change the shape of y to (n_samples, ), for example using ravel().\n",
      "  y = column_or_1d(y, warn=True)\n"
     ]
    },
    {
     "data": {
      "text/html": [
       "<div>\n",
       "<style scoped>\n",
       "    .dataframe tbody tr th:only-of-type {\n",
       "        vertical-align: middle;\n",
       "    }\n",
       "\n",
       "    .dataframe tbody tr th {\n",
       "        vertical-align: top;\n",
       "    }\n",
       "\n",
       "    .dataframe thead th {\n",
       "        text-align: right;\n",
       "    }\n",
       "</style>\n",
       "<table border=\"1\" class=\"dataframe\">\n",
       "  <thead>\n",
       "    <tr style=\"text-align: right;\">\n",
       "      <th>col_0</th>\n",
       "      <th>count</th>\n",
       "    </tr>\n",
       "    <tr>\n",
       "      <th>row_0</th>\n",
       "      <th></th>\n",
       "    </tr>\n",
       "  </thead>\n",
       "  <tbody>\n",
       "    <tr>\n",
       "      <th>0</th>\n",
       "      <td>24</td>\n",
       "    </tr>\n",
       "    <tr>\n",
       "      <th>1</th>\n",
       "      <td>3</td>\n",
       "    </tr>\n",
       "  </tbody>\n",
       "</table>\n",
       "</div>"
      ],
      "text/plain": [
       "col_0  count\n",
       "row_0       \n",
       "0         24\n",
       "1          3"
      ]
     },
     "execution_count": 126,
     "metadata": {
      "tags": []
     },
     "output_type": "execute_result"
    }
   ],
   "source": [
    "day4_actual_output=le.fit_transform(day4_actual_output)\n",
    "pd.crosstab(day4_actual_output,'count')"
   ]
  },
  {
   "cell_type": "code",
   "execution_count": 0,
   "metadata": {
    "colab": {
     "base_uri": "https://localhost:8080/",
     "height": 175
    },
    "colab_type": "code",
    "executionInfo": {
     "elapsed": 591,
     "status": "ok",
     "timestamp": 1565009263467,
     "user": {
      "displayName": "Avinash Beck",
      "photoUrl": "",
      "userId": "14043619463729052163"
     },
     "user_tz": -330
    },
    "id": "jgLggnbJk2HP",
    "outputId": "51f30848-50d7-4258-b10d-dd0269c057f0"
   },
   "outputs": [
    {
     "name": "stdout",
     "output_type": "stream",
     "text": [
      "              precision    recall  f1-score   support\n",
      "\n",
      "           0       0.96      0.96      0.96        24\n",
      "           1       0.67      0.67      0.67         3\n",
      "\n",
      "    accuracy                           0.93        27\n",
      "   macro avg       0.81      0.81      0.81        27\n",
      "weighted avg       0.93      0.93      0.93        27\n",
      "\n"
     ]
    }
   ],
   "source": [
    "print(classification_report(day4_actual_output,day4_pred))"
   ]
  },
  {
   "cell_type": "code",
   "execution_count": 0,
   "metadata": {
    "colab": {
     "base_uri": "https://localhost:8080/",
     "height": 34
    },
    "colab_type": "code",
    "executionInfo": {
     "elapsed": 854,
     "status": "ok",
     "timestamp": 1565009264647,
     "user": {
      "displayName": "Avinash Beck",
      "photoUrl": "",
      "userId": "14043619463729052163"
     },
     "user_tz": -330
    },
    "id": "kWLH9knUk2HP",
    "outputId": "9dff902f-519e-453f-970c-3fc3de7282c6"
   },
   "outputs": [
    {
     "data": {
      "text/plain": [
       "0.6666666666666666"
      ]
     },
     "execution_count": 128,
     "metadata": {
      "tags": []
     },
     "output_type": "execute_result"
    }
   ],
   "source": [
    "day4_recall=recall_score(day4_actual_output,day4_pred)\n",
    "day4_recall"
   ]
  },
  {
   "cell_type": "code",
   "execution_count": 0,
   "metadata": {
    "colab": {
     "base_uri": "https://localhost:8080/",
     "height": 52
    },
    "colab_type": "code",
    "executionInfo": {
     "elapsed": 942,
     "status": "ok",
     "timestamp": 1565009265767,
     "user": {
      "displayName": "Avinash Beck",
      "photoUrl": "",
      "userId": "14043619463729052163"
     },
     "user_tz": -330
    },
    "id": "X-hugAgGk2HQ",
    "outputId": "749c6e70-39fc-46d3-9a6c-b47259a502b8"
   },
   "outputs": [
    {
     "name": "stdout",
     "output_type": "stream",
     "text": [
      "[[23  1]\n",
      " [ 1  2]]\n"
     ]
    }
   ],
   "source": [
    "print(confusion_matrix(day4_actual_output,day4_pred))"
   ]
  },
  {
   "cell_type": "code",
   "execution_count": 0,
   "metadata": {
    "colab": {
     "base_uri": "https://localhost:8080/",
     "height": 269
    },
    "colab_type": "code",
    "executionInfo": {
     "elapsed": 933,
     "status": "ok",
     "timestamp": 1565009269004,
     "user": {
      "displayName": "Avinash Beck",
      "photoUrl": "",
      "userId": "14043619463729052163"
     },
     "user_tz": -330
    },
    "id": "T3Z_oNGbk2HS",
    "outputId": "17d9da3f-6059-425f-98f9-58a3500988a3"
   },
   "outputs": [
    {
     "data": {
      "image/png": "[encoded data removed]",
      "text/plain": [
       "<Figure size 432x288 with 1 Axes>"
      ]
     },
     "metadata": {
      "tags": []
     },
     "output_type": "display_data"
    }
   ],
   "source": [
    "all_recall = [day1_recall, day2_recall, day3_recall, day4_recall]\n",
    "\n",
    "a=range(0,4)\n",
    "plt.bar(a,all_recall)\n",
    "plt.show()"
   ]
  },
  {
   "cell_type": "markdown",
   "metadata": {
    "colab_type": "text",
    "id": "6FMvtQehk2HS"
   },
   "source": [
    "#### Retrain the model with day 1,2,3 and 4 data"
   ]
  },
  {
   "cell_type": "code",
   "execution_count": 0,
   "metadata": {
    "colab": {},
    "colab_type": "code",
    "id": "Naghz5mBk2HT"
   },
   "outputs": [],
   "source": [
    "import numpy as np"
   ]
  },
  {
   "cell_type": "code",
   "execution_count": 0,
   "metadata": {
    "colab": {},
    "colab_type": "code",
    "id": "MlT5GtEXk2HV"
   },
   "outputs": [],
   "source": [
    "retrain_X=pd.concat([X,onehot_encoded_new_input_features_day1,onehot_encoded_new_input_features_day2,\n",
    "                    onehot_encoded_new_input_features_day3,onehot_encoded_new_input_features_day4],axis=0)"
   ]
  },
  {
   "cell_type": "code",
   "execution_count": 0,
   "metadata": {
    "colab": {},
    "colab_type": "code",
    "id": "eIcpxgNSk2HV"
   },
   "outputs": [],
   "source": [
    "Y=np.concatenate((y,day1_actual_output,day2_actual_output,day3_Actual_output,day4_actual_output),axis=0)"
   ]
  },
  {
   "cell_type": "code",
   "execution_count": 0,
   "metadata": {
    "colab": {
     "base_uri": "https://localhost:8080/",
     "height": 34
    },
    "colab_type": "code",
    "executionInfo": {
     "elapsed": 745,
     "status": "ok",
     "timestamp": 1565009291711,
     "user": {
      "displayName": "Avinash Beck",
      "photoUrl": "",
      "userId": "14043619463729052163"
     },
     "user_tz": -330
    },
    "id": "5rjQZkMEk2HW",
    "outputId": "fb5784e9-b368-40b8-990a-1cb9674829b3"
   },
   "outputs": [
    {
     "data": {
      "text/plain": [
       "(4521,)"
      ]
     },
     "execution_count": 134,
     "metadata": {
      "tags": []
     },
     "output_type": "execute_result"
    }
   ],
   "source": [
    "Y.shape"
   ]
  },
  {
   "cell_type": "code",
   "execution_count": 0,
   "metadata": {
    "colab": {
     "base_uri": "https://localhost:8080/",
     "height": 34
    },
    "colab_type": "code",
    "executionInfo": {
     "elapsed": 608,
     "status": "ok",
     "timestamp": 1565009293120,
     "user": {
      "displayName": "Avinash Beck",
      "photoUrl": "",
      "userId": "14043619463729052163"
     },
     "user_tz": -330
    },
    "id": "xkRhlcHlk2HZ",
    "outputId": "4542254d-a9b5-4bec-a1c9-e66cf5369a7d"
   },
   "outputs": [
    {
     "data": {
      "text/plain": [
       "(4521, 42)"
      ]
     },
     "execution_count": 135,
     "metadata": {
      "tags": []
     },
     "output_type": "execute_result"
    }
   ],
   "source": [
    "retrain_X.shape"
   ]
  },
  {
   "cell_type": "code",
   "execution_count": 0,
   "metadata": {
    "colab": {},
    "colab_type": "code",
    "id": "gaBQjuE8k2Ha"
   },
   "outputs": [],
   "source": [
    "smote=SMOTE(ratio='minority')\n",
    "X_sm,Y_sm=smote.fit_sample(retrain_X,Y)"
   ]
  },
  {
   "cell_type": "code",
   "execution_count": 0,
   "metadata": {
    "colab": {},
    "colab_type": "code",
    "id": "6Lu5s5SFk2Hd"
   },
   "outputs": [],
   "source": [
    "X_train,X_test,Y_train,Y_test=train_test_split(X_sm,Y_sm,test_size=0.20,random_state=1234)"
   ]
  },
  {
   "cell_type": "code",
   "execution_count": 0,
   "metadata": {
    "colab": {
     "base_uri": "https://localhost:8080/",
     "height": 87
    },
    "colab_type": "code",
    "executionInfo": {
     "elapsed": 577,
     "status": "ok",
     "timestamp": 1565009297641,
     "user": {
      "displayName": "Avinash Beck",
      "photoUrl": "",
      "userId": "14043619463729052163"
     },
     "user_tz": -330
    },
    "id": "f4g5QZJnk2Hd",
    "outputId": "c19b1e59-7f09-4419-a777-f48fce1d4e68"
   },
   "outputs": [
    {
     "name": "stdout",
     "output_type": "stream",
     "text": [
      "(6400, 42)\n",
      "(1600, 42)\n",
      "(6400,)\n",
      "(1600,)\n"
     ]
    }
   ],
   "source": [
    "print(X_train.shape)\n",
    "print(X_test.shape)\n",
    "print(Y_train.shape)\n",
    "print(Y_test.shape)"
   ]
  },
  {
   "cell_type": "code",
   "execution_count": 0,
   "metadata": {
    "colab": {},
    "colab_type": "code",
    "id": "acYV84i-k2Hf"
   },
   "outputs": [],
   "source": [
    "d_train = lgb.Dataset(X_train, label=Y_train)\n",
    "params = {}\n",
    "params['learning_rate'] = 0.003\n",
    "params['boosting_type'] = 'gbdt'\n",
    "params['objective'] = 'binary'\n",
    "params['metric'] = 'binary_logloss'\n",
    "params['sub_feature'] = 0.5\n",
    "params['num_leaves'] = 15\n",
    "params['min_data'] = 50\n",
    "params['max_depth'] = 10\n",
    "clf1 = lgb.train(params, d_train, 100)"
   ]
  },
  {
   "cell_type": "code",
   "execution_count": 0,
   "metadata": {
    "colab": {},
    "colab_type": "code",
    "id": "sLhR0Hj6k2Hg"
   },
   "outputs": [],
   "source": [
    "final_y_pred=clf1.predict(X_test)"
   ]
  },
  {
   "cell_type": "code",
   "execution_count": 0,
   "metadata": {
    "colab": {},
    "colab_type": "code",
    "id": "oF5VHuj3k2Hg"
   },
   "outputs": [],
   "source": [
    "for i in range(0,1600):\n",
    "    if final_y_pred[i]>=0.5:\n",
    "       final_y_pred[i]=1\n",
    "    else:\n",
    "       final_y_pred[i]=0"
   ]
  },
  {
   "cell_type": "code",
   "execution_count": 0,
   "metadata": {
    "colab": {
     "base_uri": "https://localhost:8080/",
     "height": 52
    },
    "colab_type": "code",
    "executionInfo": {
     "elapsed": 615,
     "status": "ok",
     "timestamp": 1565009304568,
     "user": {
      "displayName": "Avinash Beck",
      "photoUrl": "",
      "userId": "14043619463729052163"
     },
     "user_tz": -330
    },
    "id": "aKZ6HYCNk2Hh",
    "outputId": "74fae94e-ceff-4022-b5d3-7d4c229e6894"
   },
   "outputs": [
    {
     "name": "stdout",
     "output_type": "stream",
     "text": [
      "Accuracy\n",
      " 0.895625\n"
     ]
    }
   ],
   "source": [
    "print('Accuracy\\n',accuracy_score(Y_test,final_y_pred))"
   ]
  },
  {
   "cell_type": "code",
   "execution_count": 0,
   "metadata": {
    "colab": {
     "base_uri": "https://localhost:8080/",
     "height": 193
    },
    "colab_type": "code",
    "executionInfo": {
     "elapsed": 597,
     "status": "ok",
     "timestamp": 1565009306043,
     "user": {
      "displayName": "Avinash Beck",
      "photoUrl": "",
      "userId": "14043619463729052163"
     },
     "user_tz": -330
    },
    "id": "_46l7Jqxk2Hi",
    "outputId": "791321a1-7a18-4e17-e0da-7cd22119f9e7"
   },
   "outputs": [
    {
     "name": "stdout",
     "output_type": "stream",
     "text": [
      "classification_report\n",
      "               precision    recall  f1-score   support\n",
      "\n",
      "           0       0.90      0.89      0.90       801\n",
      "           1       0.89      0.90      0.90       799\n",
      "\n",
      "    accuracy                           0.90      1600\n",
      "   macro avg       0.90      0.90      0.90      1600\n",
      "weighted avg       0.90      0.90      0.90      1600\n",
      "\n"
     ]
    }
   ],
   "source": [
    "print('classification_report\\n',classification_report(Y_test,final_y_pred))"
   ]
  },
  {
   "cell_type": "code",
   "execution_count": 0,
   "metadata": {
    "colab": {
     "base_uri": "https://localhost:8080/",
     "height": 70
    },
    "colab_type": "code",
    "executionInfo": {
     "elapsed": 706,
     "status": "ok",
     "timestamp": 1565009307588,
     "user": {
      "displayName": "Avinash Beck",
      "photoUrl": "",
      "userId": "14043619463729052163"
     },
     "user_tz": -330
    },
    "id": "8i3BSyXVk2Hj",
    "outputId": "585ec10b-fd57-412d-a292-8955555282b2"
   },
   "outputs": [
    {
     "name": "stdout",
     "output_type": "stream",
     "text": [
      "confusion_matrix\n",
      " [[713  88]\n",
      " [ 79 720]]\n"
     ]
    }
   ],
   "source": [
    "print('confusion_matrix\\n',confusion_matrix(Y_test,final_y_pred))"
   ]
  },
  {
   "cell_type": "markdown",
   "metadata": {
    "colab_type": "text",
    "id": "IetLGakMk2Hk"
   },
   "source": [
    "#### Compare Recall_score of final model with previous one"
   ]
  },
  {
   "cell_type": "code",
   "execution_count": 0,
   "metadata": {
    "colab": {
     "base_uri": "https://localhost:8080/",
     "height": 34
    },
    "colab_type": "code",
    "executionInfo": {
     "elapsed": 992,
     "status": "ok",
     "timestamp": 1565009314727,
     "user": {
      "displayName": "Avinash Beck",
      "photoUrl": "",
      "userId": "14043619463729052163"
     },
     "user_tz": -330
    },
    "id": "HNv1oHR-k2Hk",
    "outputId": "82a158db-47a6-484b-be55-3e718b893bd9"
   },
   "outputs": [
    {
     "name": "stdout",
     "output_type": "stream",
     "text": [
      "0.8887515451174289\n"
     ]
    }
   ],
   "source": [
    "print(recall_score(y_test,y_pred))  # First model"
   ]
  },
  {
   "cell_type": "code",
   "execution_count": 0,
   "metadata": {
    "colab": {
     "base_uri": "https://localhost:8080/",
     "height": 34
    },
    "colab_type": "code",
    "executionInfo": {
     "elapsed": 771,
     "status": "ok",
     "timestamp": 1565009315418,
     "user": {
      "displayName": "Avinash Beck",
      "photoUrl": "",
      "userId": "14043619463729052163"
     },
     "user_tz": -330
    },
    "id": "lCktVlyrk2Hm",
    "outputId": "b1b2731a-9f43-4ef9-c5a6-fdef954ec51a"
   },
   "outputs": [
    {
     "name": "stdout",
     "output_type": "stream",
     "text": [
      "0.9011264080100125\n"
     ]
    }
   ],
   "source": [
    "print(recall_score(Y_test,final_y_pred))  # Final model"
   ]
  },
  {
   "cell_type": "markdown",
   "metadata": {
    "colab_type": "text",
    "id": "rsBPO-Vik2Ho"
   },
   "source": [
    "An improvement in recall score is obsevered in the final model built on the entire data\n",
    "Thus we can retrain our existing model to find performance of the model on more data"
   ]
  },
  {
   "cell_type": "markdown",
   "metadata": {
    "colab_type": "text",
    "id": "Uu_UyNAD093-"
   },
   "source": [
    "#### Training a Random Forest Classifier on the entire data"
   ]
  },
  {
   "cell_type": "code",
   "execution_count": 0,
   "metadata": {
    "colab": {},
    "colab_type": "code",
    "id": "n2T5Ol3hk2Hq"
   },
   "outputs": [],
   "source": [
    "rf=RandomForestClassifier() # Define the classifier"
   ]
  },
  {
   "cell_type": "markdown",
   "metadata": {
    "colab_type": "text",
    "id": "SRsK9TYck2Hr"
   },
   "source": [
    "##### 6.2 Train a Random Forest model"
   ]
  },
  {
   "cell_type": "code",
   "execution_count": 0,
   "metadata": {
    "colab": {
     "base_uri": "https://localhost:8080/",
     "height": 90
    },
    "colab_type": "code",
    "executionInfo": {
     "elapsed": 954,
     "status": "ok",
     "timestamp": 1565009403646,
     "user": {
      "displayName": "Avinash Beck",
      "photoUrl": "",
      "userId": "14043619463729052163"
     },
     "user_tz": -330
    },
    "id": "ZHQEfa9Kk2Hr",
    "outputId": "4d04c12f-4719-4364-b6c1-1254dea90514"
   },
   "outputs": [
    {
     "name": "stdout",
     "output_type": "stream",
     "text": [
      "0.996875\n"
     ]
    },
    {
     "name": "stderr",
     "output_type": "stream",
     "text": [
      "/usr/local/lib/python3.6/dist-packages/sklearn/ensemble/forest.py:245: FutureWarning: The default value of n_estimators will change from 10 in version 0.20 to 100 in 0.22.\n",
      "  \"10 in version 0.20 to 100 in 0.22.\", FutureWarning)\n"
     ]
    }
   ],
   "source": [
    "rf_model=rf.fit(X_train,Y_train)\n",
    "rf_train_pred=rf_model.predict(X_train)\n",
    "print(accuracy_score(Y_train,rf_train_pred))"
   ]
  },
  {
   "cell_type": "markdown",
   "metadata": {
    "colab_type": "text",
    "id": "1ArngwgFk2Hs"
   },
   "source": [
    "##### Validate the model on validation data"
   ]
  },
  {
   "cell_type": "code",
   "execution_count": 0,
   "metadata": {
    "colab": {
     "base_uri": "https://localhost:8080/",
     "height": 34
    },
    "colab_type": "code",
    "executionInfo": {
     "elapsed": 849,
     "status": "ok",
     "timestamp": 1565009406902,
     "user": {
      "displayName": "Avinash Beck",
      "photoUrl": "",
      "userId": "14043619463729052163"
     },
     "user_tz": -330
    },
    "id": "YGC-1s9_k2Hs",
    "outputId": "9264998e-887d-42ab-e7f6-d37d45af2326"
   },
   "outputs": [
    {
     "name": "stdout",
     "output_type": "stream",
     "text": [
      "0.92875\n"
     ]
    }
   ],
   "source": [
    "rf_test_pred=rf_model.predict(X_test)\n",
    "print(accuracy_score(rf_test_pred,Y_test))"
   ]
  },
  {
   "cell_type": "code",
   "execution_count": 0,
   "metadata": {
    "colab": {
     "base_uri": "https://localhost:8080/",
     "height": 228
    },
    "colab_type": "code",
    "executionInfo": {
     "elapsed": 1078,
     "status": "ok",
     "timestamp": 1565009408547,
     "user": {
      "displayName": "Avinash Beck",
      "photoUrl": "",
      "userId": "14043619463729052163"
     },
     "user_tz": -330
    },
    "id": "J3a4MqIAk2Ht",
    "outputId": "5eead79e-ffef-4304-fdba-aef810d0d524"
   },
   "outputs": [
    {
     "name": "stdout",
     "output_type": "stream",
     "text": [
      "[[752  49]\n",
      " [ 65 734]]\n",
      "classification_report \n",
      "               precision    recall  f1-score   support\n",
      "\n",
      "           0       0.94      0.92      0.93       817\n",
      "           1       0.92      0.94      0.93       783\n",
      "\n",
      "    accuracy                           0.93      1600\n",
      "   macro avg       0.93      0.93      0.93      1600\n",
      "weighted avg       0.93      0.93      0.93      1600\n",
      "\n"
     ]
    }
   ],
   "source": [
    "print(confusion_matrix(Y_test,rf_test_pred))\n",
    "print('classification_report \\n',classification_report(rf_test_pred,Y_test))"
   ]
  },
  {
   "cell_type": "markdown",
   "metadata": {
    "colab_type": "text",
    "id": "gWe1Ml9Rk2Hu"
   },
   "source": [
    "#### Recall score of RandomForest model"
   ]
  },
  {
   "cell_type": "code",
   "execution_count": 0,
   "metadata": {
    "colab": {
     "base_uri": "https://localhost:8080/",
     "height": 34
    },
    "colab_type": "code",
    "executionInfo": {
     "elapsed": 885,
     "status": "ok",
     "timestamp": 1565009411813,
     "user": {
      "displayName": "Avinash Beck",
      "photoUrl": "",
      "userId": "14043619463729052163"
     },
     "user_tz": -330
    },
    "id": "Yfv3IfFwk2Hv",
    "outputId": "3452e9ae-8faf-40a5-a4e4-e5a2bbf3bf5c"
   },
   "outputs": [
    {
     "data": {
      "text/plain": [
       "0.9374201787994891"
      ]
     },
     "execution_count": 151,
     "metadata": {
      "tags": []
     },
     "output_type": "execute_result"
    }
   ],
   "source": [
    "rf_recall=recall_score(rf_test_pred,Y_test)\n",
    "rf_recall"
   ]
  },
  {
   "cell_type": "markdown",
   "metadata": {
    "colab_type": "text",
    "id": "5J_kaf5yk2Hv"
   },
   "source": [
    "#### Recall Score of LightGBM model"
   ]
  },
  {
   "cell_type": "code",
   "execution_count": 0,
   "metadata": {
    "colab": {
     "base_uri": "https://localhost:8080/",
     "height": 34
    },
    "colab_type": "code",
    "executionInfo": {
     "elapsed": 1089,
     "status": "ok",
     "timestamp": 1565009414049,
     "user": {
      "displayName": "Avinash Beck",
      "photoUrl": "",
      "userId": "14043619463729052163"
     },
     "user_tz": -330
    },
    "id": "q4N2QtPQk2Hw",
    "outputId": "eba69147-1067-48f3-b956-c1af4c7621a2"
   },
   "outputs": [
    {
     "data": {
      "text/plain": [
       "0.9011264080100125"
      ]
     },
     "execution_count": 152,
     "metadata": {
      "tags": []
     },
     "output_type": "execute_result"
    }
   ],
   "source": [
    "lightGBM_recall=recall_score(Y_test,final_y_pred)\n",
    "lightGBM_recall"
   ]
  },
  {
   "cell_type": "markdown",
   "metadata": {
    "colab_type": "text",
    "id": "uUKi8KT1k2Hw"
   },
   "source": [
    "#### We can conclude that the performance of Random forest is better than LightGBM in terms of all the classification performance metrics"
   ]
  },
  {
   "cell_type": "markdown",
   "metadata": {
    "colab_type": "text",
    "id": "seP2Gt9Ik2Hw"
   },
   "source": [
    "## Let's find ROC-AUC score and curve of Random forest model"
   ]
  },
  {
   "cell_type": "code",
   "execution_count": 0,
   "metadata": {
    "colab": {},
    "colab_type": "code",
    "id": "P_daNypfk2Hx"
   },
   "outputs": [],
   "source": [
    "predict_probabilities = rf_model.predict_proba(X_test)[:,1]"
   ]
  },
  {
   "cell_type": "code",
   "execution_count": 0,
   "metadata": {
    "colab": {
     "base_uri": "https://localhost:8080/",
     "height": 34
    },
    "colab_type": "code",
    "executionInfo": {
     "elapsed": 609,
     "status": "ok",
     "timestamp": 1565009426859,
     "user": {
      "displayName": "Avinash Beck",
      "photoUrl": "",
      "userId": "14043619463729052163"
     },
     "user_tz": -330
    },
    "id": "Z_ikLbUyk2Hx",
    "outputId": "addb558c-51f9-462a-9a90-2fb60524539b"
   },
   "outputs": [
    {
     "data": {
      "text/plain": [
       "0.9287373886521697"
      ]
     },
     "execution_count": 154,
     "metadata": {
      "tags": []
     },
     "output_type": "execute_result"
    }
   ],
   "source": [
    "ROCAUC=roc_auc_score(Y_test,rf_test_pred)\n",
    "ROCAUC"
   ]
  },
  {
   "cell_type": "code",
   "execution_count": 0,
   "metadata": {
    "colab": {
     "base_uri": "https://localhost:8080/",
     "height": 299
    },
    "colab_type": "code",
    "executionInfo": {
     "elapsed": 1353,
     "status": "ok",
     "timestamp": 1565009428652,
     "user": {
      "displayName": "Avinash Beck",
      "photoUrl": "",
      "userId": "14043619463729052163"
     },
     "user_tz": -330
    },
    "id": "xJO7s8U1k2Hy",
    "outputId": "991c4359-ef81-44b9-837d-491ffeeb56e1"
   },
   "outputs": [
    {
     "data": {
      "image/png": "[encoded data removed]",
      "text/plain": [
       "<Figure size 432x288 with 1 Axes>"
      ]
     },
     "metadata": {
      "tags": []
     },
     "output_type": "display_data"
    }
   ],
   "source": [
    "fpr, tpr, thresholds = roc_curve(Y_test, predict_probabilities)\n",
    "plt.plot(fpr, tpr)\n",
    "plt.xlim([0.0, 1.0])\n",
    "plt.ylim([0.0, 1.0])\n",
    "plt.title('ROC curve for Term Deposit data')\n",
    "plt.xlabel('False Positive Rate (1 - Specificity)')\n",
    "plt.ylabel('True Positive Rate (Sensitivity)')\n",
    "plt.grid(True)\n",
    "plt.show()"
   ]
  },
  {
   "cell_type": "markdown",
   "metadata": {
    "colab_type": "text",
    "id": "9le0cp7Ck2Hz"
   },
   "source": [
    "#### Scaling is required because attributes values given are in different scales\n",
    "We have used Standard Scaler, It converts the entire data mean 0 and Standard Deviation 1 and you can scale the input data and train a model on your own"
   ]
  }
 ],
 "metadata": {
  "colab": {
   "collapsed_sections": [
    "UDSX4xzgk2EA",
    "llCU0I31k2Eq",
    "uUKi8KT1k2Hw",
    "9le0cp7Ck2Hz"
   ],
   "name": "Bank_term_deposit(Final).ipynb",
   "provenance": [],
   "toc_visible": true,
   "version": "0.3.2"
  },
  "kernelspec": {
   "display_name": "Python 3",
   "language": "python",
   "name": "python3"
  },
  "language_info": {
   "codemirror_mode": {
    "name": "ipython",
    "version": 3
   },
   "file_extension": ".py",
   "mimetype": "text/x-python",
   "name": "python",
   "nbconvert_exporter": "python",
   "pygments_lexer": "ipython3",
   "version": "3.7.3"
  }
 },
 "nbformat": 4,
 "nbformat_minor": 1
}
